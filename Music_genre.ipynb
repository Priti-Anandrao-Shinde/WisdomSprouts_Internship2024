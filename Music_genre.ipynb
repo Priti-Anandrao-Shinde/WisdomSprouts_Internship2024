{
  "nbformat": 4,
  "nbformat_minor": 0,
  "metadata": {
    "colab": {
      "provenance": [],
      "authorship_tag": "ABX9TyOSppgTv396uDV7luwweRYk",
      "include_colab_link": true
    },
    "kernelspec": {
      "name": "python3",
      "display_name": "Python 3"
    },
    "language_info": {
      "name": "python"
    }
  },
  "cells": [
    {
      "cell_type": "markdown",
      "metadata": {
        "id": "view-in-github",
        "colab_type": "text"
      },
      "source": [
        "<a href=\"https://colab.research.google.com/github/Priti-Anandrao-Shinde/WisdomSprouts_Internship2024/blob/main/Music_genre.ipynb\" target=\"_parent\"><img src=\"https://colab.research.google.com/assets/colab-badge.svg\" alt=\"Open In Colab\"/></a>"
      ]
    },
    {
      "cell_type": "code",
      "execution_count": 2,
      "metadata": {
        "colab": {
          "base_uri": "https://localhost:8080/"
        },
        "id": "8tzGGlSpC6uE",
        "outputId": "d0d90e93-2bb5-4040-90ca-9149ea5272da"
      },
      "outputs": [
        {
          "output_type": "stream",
          "name": "stdout",
          "text": [
            "Mounted at /content/drive\n"
          ]
        }
      ],
      "source": [
        "from google.colab import drive\n",
        "drive.mount('/content/drive')"
      ]
    },
    {
      "cell_type": "code",
      "source": [
        "import os\n",
        "Root = \"/content/drive/MyDrive/Colab Notebooks/Data\"\n",
        "os.chdir(Root)"
      ],
      "metadata": {
        "id": "dck0NMp8IEu-"
      },
      "execution_count": 3,
      "outputs": []
    },
    {
      "cell_type": "code",
      "source": [
        "import pandas as pd\n",
        "import numpy as numpy\n",
        "import os\n",
        "import IPython.display as ipd\n",
        "import librosa\n",
        "import librosa.display\n",
        "import matplotlib.pyplot as plt\n",
        "%matplotlib inline"
      ],
      "metadata": {
        "id": "FIcl0KbVIQ-P"
      },
      "execution_count": 4,
      "outputs": []
    },
    {
      "cell_type": "code",
      "source": [
        "audio_dataset_path = '/content/drive/MyDrive/Colab Notebooks/Data/genres_original'\n",
        "metadata = pd.read_csv('/content/drive/MyDrive/Colab Notebooks/Data/features_30_sec.csv')\n",
        "metadata.head()"
      ],
      "metadata": {
        "colab": {
          "base_uri": "https://localhost:8080/",
          "height": 255
        },
        "id": "tbPxHBPTIbRe",
        "outputId": "e4afd828-2dc4-42ee-9e29-0c81605fef66"
      },
      "execution_count": 5,
      "outputs": [
        {
          "output_type": "execute_result",
          "data": {
            "text/plain": [
              "          filename  length  chroma_stft_mean  chroma_stft_var  rms_mean  \\\n",
              "0  blues.00000.wav  661794          0.350088         0.088757  0.130228   \n",
              "1  blues.00001.wav  661794          0.340914         0.094980  0.095948   \n",
              "2  blues.00002.wav  661794          0.363637         0.085275  0.175570   \n",
              "3  blues.00003.wav  661794          0.404785         0.093999  0.141093   \n",
              "4  blues.00004.wav  661794          0.308526         0.087841  0.091529   \n",
              "\n",
              "    rms_var  spectral_centroid_mean  spectral_centroid_var  \\\n",
              "0  0.002827             1784.165850          129774.064525   \n",
              "1  0.002373             1530.176679          375850.073649   \n",
              "2  0.002746             1552.811865          156467.643368   \n",
              "3  0.006346             1070.106615          184355.942417   \n",
              "4  0.002303             1835.004266          343399.939274   \n",
              "\n",
              "   spectral_bandwidth_mean  spectral_bandwidth_var  ...  mfcc16_var  \\\n",
              "0              2002.449060            85882.761315  ...   52.420910   \n",
              "1              2039.036516           213843.755497  ...   55.356403   \n",
              "2              1747.702312            76254.192257  ...   40.598766   \n",
              "3              1596.412872           166441.494769  ...   44.427753   \n",
              "4              1748.172116            88445.209036  ...   86.099236   \n",
              "\n",
              "   mfcc17_mean  mfcc17_var  mfcc18_mean  mfcc18_var  mfcc19_mean  mfcc19_var  \\\n",
              "0    -1.690215   36.524071    -0.408979   41.597103    -2.303523   55.062923   \n",
              "1    -0.731125   60.314529     0.295073   48.120598    -0.283518   51.106190   \n",
              "2    -7.729093   47.639427    -1.816407   52.382141    -3.439720   46.639660   \n",
              "3    -3.319597   50.206673     0.636965   37.319130    -0.619121   37.259739   \n",
              "4    -5.454034   75.269707    -0.916874   53.613918    -4.404827   62.910812   \n",
              "\n",
              "   mfcc20_mean  mfcc20_var  label  \n",
              "0     1.221291   46.936035  blues  \n",
              "1     0.531217   45.786282  blues  \n",
              "2    -2.231258   30.573025  blues  \n",
              "3    -3.407448   31.949339  blues  \n",
              "4   -11.703234   55.195160  blues  \n",
              "\n",
              "[5 rows x 60 columns]"
            ],
            "text/html": [
              "\n",
              "  <div id=\"df-e00f91de-b0bc-4f43-a6bc-c951ddddfef1\" class=\"colab-df-container\">\n",
              "    <div>\n",
              "<style scoped>\n",
              "    .dataframe tbody tr th:only-of-type {\n",
              "        vertical-align: middle;\n",
              "    }\n",
              "\n",
              "    .dataframe tbody tr th {\n",
              "        vertical-align: top;\n",
              "    }\n",
              "\n",
              "    .dataframe thead th {\n",
              "        text-align: right;\n",
              "    }\n",
              "</style>\n",
              "<table border=\"1\" class=\"dataframe\">\n",
              "  <thead>\n",
              "    <tr style=\"text-align: right;\">\n",
              "      <th></th>\n",
              "      <th>filename</th>\n",
              "      <th>length</th>\n",
              "      <th>chroma_stft_mean</th>\n",
              "      <th>chroma_stft_var</th>\n",
              "      <th>rms_mean</th>\n",
              "      <th>rms_var</th>\n",
              "      <th>spectral_centroid_mean</th>\n",
              "      <th>spectral_centroid_var</th>\n",
              "      <th>spectral_bandwidth_mean</th>\n",
              "      <th>spectral_bandwidth_var</th>\n",
              "      <th>...</th>\n",
              "      <th>mfcc16_var</th>\n",
              "      <th>mfcc17_mean</th>\n",
              "      <th>mfcc17_var</th>\n",
              "      <th>mfcc18_mean</th>\n",
              "      <th>mfcc18_var</th>\n",
              "      <th>mfcc19_mean</th>\n",
              "      <th>mfcc19_var</th>\n",
              "      <th>mfcc20_mean</th>\n",
              "      <th>mfcc20_var</th>\n",
              "      <th>label</th>\n",
              "    </tr>\n",
              "  </thead>\n",
              "  <tbody>\n",
              "    <tr>\n",
              "      <th>0</th>\n",
              "      <td>blues.00000.wav</td>\n",
              "      <td>661794</td>\n",
              "      <td>0.350088</td>\n",
              "      <td>0.088757</td>\n",
              "      <td>0.130228</td>\n",
              "      <td>0.002827</td>\n",
              "      <td>1784.165850</td>\n",
              "      <td>129774.064525</td>\n",
              "      <td>2002.449060</td>\n",
              "      <td>85882.761315</td>\n",
              "      <td>...</td>\n",
              "      <td>52.420910</td>\n",
              "      <td>-1.690215</td>\n",
              "      <td>36.524071</td>\n",
              "      <td>-0.408979</td>\n",
              "      <td>41.597103</td>\n",
              "      <td>-2.303523</td>\n",
              "      <td>55.062923</td>\n",
              "      <td>1.221291</td>\n",
              "      <td>46.936035</td>\n",
              "      <td>blues</td>\n",
              "    </tr>\n",
              "    <tr>\n",
              "      <th>1</th>\n",
              "      <td>blues.00001.wav</td>\n",
              "      <td>661794</td>\n",
              "      <td>0.340914</td>\n",
              "      <td>0.094980</td>\n",
              "      <td>0.095948</td>\n",
              "      <td>0.002373</td>\n",
              "      <td>1530.176679</td>\n",
              "      <td>375850.073649</td>\n",
              "      <td>2039.036516</td>\n",
              "      <td>213843.755497</td>\n",
              "      <td>...</td>\n",
              "      <td>55.356403</td>\n",
              "      <td>-0.731125</td>\n",
              "      <td>60.314529</td>\n",
              "      <td>0.295073</td>\n",
              "      <td>48.120598</td>\n",
              "      <td>-0.283518</td>\n",
              "      <td>51.106190</td>\n",
              "      <td>0.531217</td>\n",
              "      <td>45.786282</td>\n",
              "      <td>blues</td>\n",
              "    </tr>\n",
              "    <tr>\n",
              "      <th>2</th>\n",
              "      <td>blues.00002.wav</td>\n",
              "      <td>661794</td>\n",
              "      <td>0.363637</td>\n",
              "      <td>0.085275</td>\n",
              "      <td>0.175570</td>\n",
              "      <td>0.002746</td>\n",
              "      <td>1552.811865</td>\n",
              "      <td>156467.643368</td>\n",
              "      <td>1747.702312</td>\n",
              "      <td>76254.192257</td>\n",
              "      <td>...</td>\n",
              "      <td>40.598766</td>\n",
              "      <td>-7.729093</td>\n",
              "      <td>47.639427</td>\n",
              "      <td>-1.816407</td>\n",
              "      <td>52.382141</td>\n",
              "      <td>-3.439720</td>\n",
              "      <td>46.639660</td>\n",
              "      <td>-2.231258</td>\n",
              "      <td>30.573025</td>\n",
              "      <td>blues</td>\n",
              "    </tr>\n",
              "    <tr>\n",
              "      <th>3</th>\n",
              "      <td>blues.00003.wav</td>\n",
              "      <td>661794</td>\n",
              "      <td>0.404785</td>\n",
              "      <td>0.093999</td>\n",
              "      <td>0.141093</td>\n",
              "      <td>0.006346</td>\n",
              "      <td>1070.106615</td>\n",
              "      <td>184355.942417</td>\n",
              "      <td>1596.412872</td>\n",
              "      <td>166441.494769</td>\n",
              "      <td>...</td>\n",
              "      <td>44.427753</td>\n",
              "      <td>-3.319597</td>\n",
              "      <td>50.206673</td>\n",
              "      <td>0.636965</td>\n",
              "      <td>37.319130</td>\n",
              "      <td>-0.619121</td>\n",
              "      <td>37.259739</td>\n",
              "      <td>-3.407448</td>\n",
              "      <td>31.949339</td>\n",
              "      <td>blues</td>\n",
              "    </tr>\n",
              "    <tr>\n",
              "      <th>4</th>\n",
              "      <td>blues.00004.wav</td>\n",
              "      <td>661794</td>\n",
              "      <td>0.308526</td>\n",
              "      <td>0.087841</td>\n",
              "      <td>0.091529</td>\n",
              "      <td>0.002303</td>\n",
              "      <td>1835.004266</td>\n",
              "      <td>343399.939274</td>\n",
              "      <td>1748.172116</td>\n",
              "      <td>88445.209036</td>\n",
              "      <td>...</td>\n",
              "      <td>86.099236</td>\n",
              "      <td>-5.454034</td>\n",
              "      <td>75.269707</td>\n",
              "      <td>-0.916874</td>\n",
              "      <td>53.613918</td>\n",
              "      <td>-4.404827</td>\n",
              "      <td>62.910812</td>\n",
              "      <td>-11.703234</td>\n",
              "      <td>55.195160</td>\n",
              "      <td>blues</td>\n",
              "    </tr>\n",
              "  </tbody>\n",
              "</table>\n",
              "<p>5 rows × 60 columns</p>\n",
              "</div>\n",
              "    <div class=\"colab-df-buttons\">\n",
              "\n",
              "  <div class=\"colab-df-container\">\n",
              "    <button class=\"colab-df-convert\" onclick=\"convertToInteractive('df-e00f91de-b0bc-4f43-a6bc-c951ddddfef1')\"\n",
              "            title=\"Convert this dataframe to an interactive table.\"\n",
              "            style=\"display:none;\">\n",
              "\n",
              "  <svg xmlns=\"http://www.w3.org/2000/svg\" height=\"24px\" viewBox=\"0 -960 960 960\">\n",
              "    <path d=\"M120-120v-720h720v720H120Zm60-500h600v-160H180v160Zm220 220h160v-160H400v160Zm0 220h160v-160H400v160ZM180-400h160v-160H180v160Zm440 0h160v-160H620v160ZM180-180h160v-160H180v160Zm440 0h160v-160H620v160Z\"/>\n",
              "  </svg>\n",
              "    </button>\n",
              "\n",
              "  <style>\n",
              "    .colab-df-container {\n",
              "      display:flex;\n",
              "      gap: 12px;\n",
              "    }\n",
              "\n",
              "    .colab-df-convert {\n",
              "      background-color: #E8F0FE;\n",
              "      border: none;\n",
              "      border-radius: 50%;\n",
              "      cursor: pointer;\n",
              "      display: none;\n",
              "      fill: #1967D2;\n",
              "      height: 32px;\n",
              "      padding: 0 0 0 0;\n",
              "      width: 32px;\n",
              "    }\n",
              "\n",
              "    .colab-df-convert:hover {\n",
              "      background-color: #E2EBFA;\n",
              "      box-shadow: 0px 1px 2px rgba(60, 64, 67, 0.3), 0px 1px 3px 1px rgba(60, 64, 67, 0.15);\n",
              "      fill: #174EA6;\n",
              "    }\n",
              "\n",
              "    .colab-df-buttons div {\n",
              "      margin-bottom: 4px;\n",
              "    }\n",
              "\n",
              "    [theme=dark] .colab-df-convert {\n",
              "      background-color: #3B4455;\n",
              "      fill: #D2E3FC;\n",
              "    }\n",
              "\n",
              "    [theme=dark] .colab-df-convert:hover {\n",
              "      background-color: #434B5C;\n",
              "      box-shadow: 0px 1px 3px 1px rgba(0, 0, 0, 0.15);\n",
              "      filter: drop-shadow(0px 1px 2px rgba(0, 0, 0, 0.3));\n",
              "      fill: #FFFFFF;\n",
              "    }\n",
              "  </style>\n",
              "\n",
              "    <script>\n",
              "      const buttonEl =\n",
              "        document.querySelector('#df-e00f91de-b0bc-4f43-a6bc-c951ddddfef1 button.colab-df-convert');\n",
              "      buttonEl.style.display =\n",
              "        google.colab.kernel.accessAllowed ? 'block' : 'none';\n",
              "\n",
              "      async function convertToInteractive(key) {\n",
              "        const element = document.querySelector('#df-e00f91de-b0bc-4f43-a6bc-c951ddddfef1');\n",
              "        const dataTable =\n",
              "          await google.colab.kernel.invokeFunction('convertToInteractive',\n",
              "                                                    [key], {});\n",
              "        if (!dataTable) return;\n",
              "\n",
              "        const docLinkHtml = 'Like what you see? Visit the ' +\n",
              "          '<a target=\"_blank\" href=https://colab.research.google.com/notebooks/data_table.ipynb>data table notebook</a>'\n",
              "          + ' to learn more about interactive tables.';\n",
              "        element.innerHTML = '';\n",
              "        dataTable['output_type'] = 'display_data';\n",
              "        await google.colab.output.renderOutput(dataTable, element);\n",
              "        const docLink = document.createElement('div');\n",
              "        docLink.innerHTML = docLinkHtml;\n",
              "        element.appendChild(docLink);\n",
              "      }\n",
              "    </script>\n",
              "  </div>\n",
              "\n",
              "\n",
              "<div id=\"df-bf89b9bf-1903-4ef4-99f9-cb9baaecdd41\">\n",
              "  <button class=\"colab-df-quickchart\" onclick=\"quickchart('df-bf89b9bf-1903-4ef4-99f9-cb9baaecdd41')\"\n",
              "            title=\"Suggest charts\"\n",
              "            style=\"display:none;\">\n",
              "\n",
              "<svg xmlns=\"http://www.w3.org/2000/svg\" height=\"24px\"viewBox=\"0 0 24 24\"\n",
              "     width=\"24px\">\n",
              "    <g>\n",
              "        <path d=\"M19 3H5c-1.1 0-2 .9-2 2v14c0 1.1.9 2 2 2h14c1.1 0 2-.9 2-2V5c0-1.1-.9-2-2-2zM9 17H7v-7h2v7zm4 0h-2V7h2v10zm4 0h-2v-4h2v4z\"/>\n",
              "    </g>\n",
              "</svg>\n",
              "  </button>\n",
              "\n",
              "<style>\n",
              "  .colab-df-quickchart {\n",
              "      --bg-color: #E8F0FE;\n",
              "      --fill-color: #1967D2;\n",
              "      --hover-bg-color: #E2EBFA;\n",
              "      --hover-fill-color: #174EA6;\n",
              "      --disabled-fill-color: #AAA;\n",
              "      --disabled-bg-color: #DDD;\n",
              "  }\n",
              "\n",
              "  [theme=dark] .colab-df-quickchart {\n",
              "      --bg-color: #3B4455;\n",
              "      --fill-color: #D2E3FC;\n",
              "      --hover-bg-color: #434B5C;\n",
              "      --hover-fill-color: #FFFFFF;\n",
              "      --disabled-bg-color: #3B4455;\n",
              "      --disabled-fill-color: #666;\n",
              "  }\n",
              "\n",
              "  .colab-df-quickchart {\n",
              "    background-color: var(--bg-color);\n",
              "    border: none;\n",
              "    border-radius: 50%;\n",
              "    cursor: pointer;\n",
              "    display: none;\n",
              "    fill: var(--fill-color);\n",
              "    height: 32px;\n",
              "    padding: 0;\n",
              "    width: 32px;\n",
              "  }\n",
              "\n",
              "  .colab-df-quickchart:hover {\n",
              "    background-color: var(--hover-bg-color);\n",
              "    box-shadow: 0 1px 2px rgba(60, 64, 67, 0.3), 0 1px 3px 1px rgba(60, 64, 67, 0.15);\n",
              "    fill: var(--button-hover-fill-color);\n",
              "  }\n",
              "\n",
              "  .colab-df-quickchart-complete:disabled,\n",
              "  .colab-df-quickchart-complete:disabled:hover {\n",
              "    background-color: var(--disabled-bg-color);\n",
              "    fill: var(--disabled-fill-color);\n",
              "    box-shadow: none;\n",
              "  }\n",
              "\n",
              "  .colab-df-spinner {\n",
              "    border: 2px solid var(--fill-color);\n",
              "    border-color: transparent;\n",
              "    border-bottom-color: var(--fill-color);\n",
              "    animation:\n",
              "      spin 1s steps(1) infinite;\n",
              "  }\n",
              "\n",
              "  @keyframes spin {\n",
              "    0% {\n",
              "      border-color: transparent;\n",
              "      border-bottom-color: var(--fill-color);\n",
              "      border-left-color: var(--fill-color);\n",
              "    }\n",
              "    20% {\n",
              "      border-color: transparent;\n",
              "      border-left-color: var(--fill-color);\n",
              "      border-top-color: var(--fill-color);\n",
              "    }\n",
              "    30% {\n",
              "      border-color: transparent;\n",
              "      border-left-color: var(--fill-color);\n",
              "      border-top-color: var(--fill-color);\n",
              "      border-right-color: var(--fill-color);\n",
              "    }\n",
              "    40% {\n",
              "      border-color: transparent;\n",
              "      border-right-color: var(--fill-color);\n",
              "      border-top-color: var(--fill-color);\n",
              "    }\n",
              "    60% {\n",
              "      border-color: transparent;\n",
              "      border-right-color: var(--fill-color);\n",
              "    }\n",
              "    80% {\n",
              "      border-color: transparent;\n",
              "      border-right-color: var(--fill-color);\n",
              "      border-bottom-color: var(--fill-color);\n",
              "    }\n",
              "    90% {\n",
              "      border-color: transparent;\n",
              "      border-bottom-color: var(--fill-color);\n",
              "    }\n",
              "  }\n",
              "</style>\n",
              "\n",
              "  <script>\n",
              "    async function quickchart(key) {\n",
              "      const quickchartButtonEl =\n",
              "        document.querySelector('#' + key + ' button');\n",
              "      quickchartButtonEl.disabled = true;  // To prevent multiple clicks.\n",
              "      quickchartButtonEl.classList.add('colab-df-spinner');\n",
              "      try {\n",
              "        const charts = await google.colab.kernel.invokeFunction(\n",
              "            'suggestCharts', [key], {});\n",
              "      } catch (error) {\n",
              "        console.error('Error during call to suggestCharts:', error);\n",
              "      }\n",
              "      quickchartButtonEl.classList.remove('colab-df-spinner');\n",
              "      quickchartButtonEl.classList.add('colab-df-quickchart-complete');\n",
              "    }\n",
              "    (() => {\n",
              "      let quickchartButtonEl =\n",
              "        document.querySelector('#df-bf89b9bf-1903-4ef4-99f9-cb9baaecdd41 button');\n",
              "      quickchartButtonEl.style.display =\n",
              "        google.colab.kernel.accessAllowed ? 'block' : 'none';\n",
              "    })();\n",
              "  </script>\n",
              "</div>\n",
              "\n",
              "    </div>\n",
              "  </div>\n"
            ]
          },
          "metadata": {},
          "execution_count": 5
        }
      ]
    },
    {
      "cell_type": "code",
      "source": [
        "def features_extractor(file):\n",
        "    audio,sample_rate = librosa.load(file_name, res_type='kaiser_fast')\n",
        "    mfccs_features = librosa.feature.mfcc(y=audio, sr=sample_rate, n_mfcc=40)\n",
        "    mfccs_scaled_features = np.mean(mfccs_features.T,axis=0)\n",
        "\n",
        "    return mfccs_scaled_features"
      ],
      "metadata": {
        "id": "aJrt2LpvJ06P"
      },
      "execution_count": 6,
      "outputs": []
    },
    {
      "cell_type": "code",
      "source": [
        "if 552 in metadata.index:\n",
        "    metadata.drop(labels=552, axis=0, inplace=True)\n",
        "    print(\"Label 552 dropped successfully.\")\n",
        "else:\n",
        "    print(\"Label 552 not found in the DataFrame's index.\")"
      ],
      "metadata": {
        "colab": {
          "base_uri": "https://localhost:8080/"
        },
        "id": "c2JNckQYJ-uR",
        "outputId": "68f311b0-baf9-48a8-fe61-f8288f0aa42f"
      },
      "execution_count": 7,
      "outputs": [
        {
          "output_type": "stream",
          "name": "stdout",
          "text": [
            "Label 552 dropped successfully.\n"
          ]
        }
      ]
    },
    {
      "cell_type": "code",
      "source": [
        "import numpy as np"
      ],
      "metadata": {
        "id": "9rtHDRTMjelb"
      },
      "execution_count": 8,
      "outputs": []
    },
    {
      "cell_type": "code",
      "source": [
        "from tqdm import tqdm\n",
        "extracted_features=[]\n",
        "for index_num,row in tqdm(metadata.iterrows()):\n",
        "  try:\n",
        "    final_class_labels=row[\"label\"]\n",
        "    file_name = os.path.join(os.path.abspath(audio_dataset_path), final_class_labels+'/',str(row[\"filename\"]))\n",
        "    data=features_extractor(file_name)\n",
        "    extracted_features.append([data, final_class_labels])\n",
        "  except Exception as e:\n",
        "    print(f\"Error: {e}\")\n",
        "    continue"
      ],
      "metadata": {
        "colab": {
          "base_uri": "https://localhost:8080/"
        },
        "id": "TWOXOU-kNo62",
        "outputId": "f04fcf13-c151-4b7f-d71d-3384c3af535c"
      },
      "execution_count": 9,
      "outputs": [
        {
          "output_type": "stream",
          "name": "stderr",
          "text": [
            "553it [04:20,  2.21it/s]<ipython-input-6-ed7575c205ae>:2: UserWarning: PySoundFile failed. Trying audioread instead.\n",
            "  audio,sample_rate = librosa.load(file_name, res_type='kaiser_fast')\n",
            "/usr/local/lib/python3.10/dist-packages/librosa/core/audio.py:183: FutureWarning: librosa.core.audio.__audioread_load\n",
            "\tDeprecated as of librosa version 0.10.0.\n",
            "\tIt will be removed in librosa version 1.0.\n",
            "  y, sr_native = __audioread_load(path, offset, duration, dtype)\n",
            "554it [04:21,  1.50it/s]"
          ]
        },
        {
          "output_type": "stream",
          "name": "stdout",
          "text": [
            "Error: \n"
          ]
        },
        {
          "output_type": "stream",
          "name": "stderr",
          "text": [
            "999it [07:40,  2.17it/s]\n"
          ]
        }
      ]
    },
    {
      "cell_type": "code",
      "source": [
        "import os\n",
        "\n",
        "file_path = '/content/drive/MyDrive/Colab Notebooks/Data/genres_original'\n",
        "\n",
        "if os.path.exists(file_path):\n",
        "    # Your code to work with the file\n",
        "    print(\"Yes Exist\")\n",
        "else:\n",
        "    print(f\"The file '{file_path}' does not exist.\")"
      ],
      "metadata": {
        "colab": {
          "base_uri": "https://localhost:8080/"
        },
        "id": "WHQohXMSQA1T",
        "outputId": "4e014507-ea0a-4da3-9b6b-9a64feb12f36"
      },
      "execution_count": 10,
      "outputs": [
        {
          "output_type": "stream",
          "name": "stdout",
          "text": [
            "Yes Exist\n"
          ]
        }
      ]
    },
    {
      "cell_type": "code",
      "source": [
        "import librosa\n",
        "print(librosa.__version__)"
      ],
      "metadata": {
        "colab": {
          "base_uri": "https://localhost:8080/"
        },
        "id": "ZyxS2VbaQUjo",
        "outputId": "1f4b81cf-9d54-456d-a693-650d74138849"
      },
      "execution_count": 11,
      "outputs": [
        {
          "output_type": "stream",
          "name": "stdout",
          "text": [
            "0.10.1\n"
          ]
        }
      ]
    },
    {
      "cell_type": "code",
      "source": [
        "pip install --upgrade librosa"
      ],
      "metadata": {
        "colab": {
          "base_uri": "https://localhost:8080/"
        },
        "id": "ReLbH7zLQiTe",
        "outputId": "d9c5cb01-2f7b-4763-d1f2-0cbc2ad722db"
      },
      "execution_count": 12,
      "outputs": [
        {
          "output_type": "stream",
          "name": "stdout",
          "text": [
            "Requirement already satisfied: librosa in /usr/local/lib/python3.10/dist-packages (0.10.1)\n",
            "Requirement already satisfied: audioread>=2.1.9 in /usr/local/lib/python3.10/dist-packages (from librosa) (3.0.1)\n",
            "Requirement already satisfied: numpy!=1.22.0,!=1.22.1,!=1.22.2,>=1.20.3 in /usr/local/lib/python3.10/dist-packages (from librosa) (1.23.5)\n",
            "Requirement already satisfied: scipy>=1.2.0 in /usr/local/lib/python3.10/dist-packages (from librosa) (1.11.4)\n",
            "Requirement already satisfied: scikit-learn>=0.20.0 in /usr/local/lib/python3.10/dist-packages (from librosa) (1.2.2)\n",
            "Requirement already satisfied: joblib>=0.14 in /usr/local/lib/python3.10/dist-packages (from librosa) (1.3.2)\n",
            "Requirement already satisfied: decorator>=4.3.0 in /usr/local/lib/python3.10/dist-packages (from librosa) (4.4.2)\n",
            "Requirement already satisfied: numba>=0.51.0 in /usr/local/lib/python3.10/dist-packages (from librosa) (0.58.1)\n",
            "Requirement already satisfied: soundfile>=0.12.1 in /usr/local/lib/python3.10/dist-packages (from librosa) (0.12.1)\n",
            "Requirement already satisfied: pooch>=1.0 in /usr/local/lib/python3.10/dist-packages (from librosa) (1.8.0)\n",
            "Requirement already satisfied: soxr>=0.3.2 in /usr/local/lib/python3.10/dist-packages (from librosa) (0.3.7)\n",
            "Requirement already satisfied: typing-extensions>=4.1.1 in /usr/local/lib/python3.10/dist-packages (from librosa) (4.5.0)\n",
            "Requirement already satisfied: lazy-loader>=0.1 in /usr/local/lib/python3.10/dist-packages (from librosa) (0.3)\n",
            "Requirement already satisfied: msgpack>=1.0 in /usr/local/lib/python3.10/dist-packages (from librosa) (1.0.7)\n",
            "Requirement already satisfied: llvmlite<0.42,>=0.41.0dev0 in /usr/local/lib/python3.10/dist-packages (from numba>=0.51.0->librosa) (0.41.1)\n",
            "Requirement already satisfied: platformdirs>=2.5.0 in /usr/local/lib/python3.10/dist-packages (from pooch>=1.0->librosa) (4.1.0)\n",
            "Requirement already satisfied: packaging>=20.0 in /usr/local/lib/python3.10/dist-packages (from pooch>=1.0->librosa) (23.2)\n",
            "Requirement already satisfied: requests>=2.19.0 in /usr/local/lib/python3.10/dist-packages (from pooch>=1.0->librosa) (2.31.0)\n",
            "Requirement already satisfied: threadpoolctl>=2.0.0 in /usr/local/lib/python3.10/dist-packages (from scikit-learn>=0.20.0->librosa) (3.2.0)\n",
            "Requirement already satisfied: cffi>=1.0 in /usr/local/lib/python3.10/dist-packages (from soundfile>=0.12.1->librosa) (1.16.0)\n",
            "Requirement already satisfied: pycparser in /usr/local/lib/python3.10/dist-packages (from cffi>=1.0->soundfile>=0.12.1->librosa) (2.21)\n",
            "Requirement already satisfied: charset-normalizer<4,>=2 in /usr/local/lib/python3.10/dist-packages (from requests>=2.19.0->pooch>=1.0->librosa) (3.3.2)\n",
            "Requirement already satisfied: idna<4,>=2.5 in /usr/local/lib/python3.10/dist-packages (from requests>=2.19.0->pooch>=1.0->librosa) (3.6)\n",
            "Requirement already satisfied: urllib3<3,>=1.21.1 in /usr/local/lib/python3.10/dist-packages (from requests>=2.19.0->pooch>=1.0->librosa) (2.0.7)\n",
            "Requirement already satisfied: certifi>=2017.4.17 in /usr/local/lib/python3.10/dist-packages (from requests>=2.19.0->pooch>=1.0->librosa) (2023.11.17)\n"
          ]
        }
      ]
    },
    {
      "cell_type": "code",
      "source": [
        "extracted_features_df = pd.DataFrame(extracted_features, columns=['feature', 'class'])\n",
        "\n",
        "extracted_features_df.head()"
      ],
      "metadata": {
        "colab": {
          "base_uri": "https://localhost:8080/",
          "height": 206
        },
        "id": "v5nCkZZ6d_Nw",
        "outputId": "16373f55-f512-4231-853f-9733be33b1d1"
      },
      "execution_count": 13,
      "outputs": [
        {
          "output_type": "execute_result",
          "data": {
            "text/plain": [
              "                                             feature  class\n",
              "0  [-113.59882, 121.57067, -19.162262, 42.36394, ...  blues\n",
              "1  [-207.52383, 123.98514, 8.94702, 35.86715, 2.9...  blues\n",
              "2  [-90.757164, 140.44087, -29.084547, 31.686693,...  blues\n",
              "3  [-199.57513, 150.0861, 5.663404, 26.855282, 1....  blues\n",
              "4  [-160.35417, 126.20948, -35.581394, 22.139256,...  blues"
            ],
            "text/html": [
              "\n",
              "  <div id=\"df-f0242cb8-cefa-43ac-be91-afa7208b1f24\" class=\"colab-df-container\">\n",
              "    <div>\n",
              "<style scoped>\n",
              "    .dataframe tbody tr th:only-of-type {\n",
              "        vertical-align: middle;\n",
              "    }\n",
              "\n",
              "    .dataframe tbody tr th {\n",
              "        vertical-align: top;\n",
              "    }\n",
              "\n",
              "    .dataframe thead th {\n",
              "        text-align: right;\n",
              "    }\n",
              "</style>\n",
              "<table border=\"1\" class=\"dataframe\">\n",
              "  <thead>\n",
              "    <tr style=\"text-align: right;\">\n",
              "      <th></th>\n",
              "      <th>feature</th>\n",
              "      <th>class</th>\n",
              "    </tr>\n",
              "  </thead>\n",
              "  <tbody>\n",
              "    <tr>\n",
              "      <th>0</th>\n",
              "      <td>[-113.59882, 121.57067, -19.162262, 42.36394, ...</td>\n",
              "      <td>blues</td>\n",
              "    </tr>\n",
              "    <tr>\n",
              "      <th>1</th>\n",
              "      <td>[-207.52383, 123.98514, 8.94702, 35.86715, 2.9...</td>\n",
              "      <td>blues</td>\n",
              "    </tr>\n",
              "    <tr>\n",
              "      <th>2</th>\n",
              "      <td>[-90.757164, 140.44087, -29.084547, 31.686693,...</td>\n",
              "      <td>blues</td>\n",
              "    </tr>\n",
              "    <tr>\n",
              "      <th>3</th>\n",
              "      <td>[-199.57513, 150.0861, 5.663404, 26.855282, 1....</td>\n",
              "      <td>blues</td>\n",
              "    </tr>\n",
              "    <tr>\n",
              "      <th>4</th>\n",
              "      <td>[-160.35417, 126.20948, -35.581394, 22.139256,...</td>\n",
              "      <td>blues</td>\n",
              "    </tr>\n",
              "  </tbody>\n",
              "</table>\n",
              "</div>\n",
              "    <div class=\"colab-df-buttons\">\n",
              "\n",
              "  <div class=\"colab-df-container\">\n",
              "    <button class=\"colab-df-convert\" onclick=\"convertToInteractive('df-f0242cb8-cefa-43ac-be91-afa7208b1f24')\"\n",
              "            title=\"Convert this dataframe to an interactive table.\"\n",
              "            style=\"display:none;\">\n",
              "\n",
              "  <svg xmlns=\"http://www.w3.org/2000/svg\" height=\"24px\" viewBox=\"0 -960 960 960\">\n",
              "    <path d=\"M120-120v-720h720v720H120Zm60-500h600v-160H180v160Zm220 220h160v-160H400v160Zm0 220h160v-160H400v160ZM180-400h160v-160H180v160Zm440 0h160v-160H620v160ZM180-180h160v-160H180v160Zm440 0h160v-160H620v160Z\"/>\n",
              "  </svg>\n",
              "    </button>\n",
              "\n",
              "  <style>\n",
              "    .colab-df-container {\n",
              "      display:flex;\n",
              "      gap: 12px;\n",
              "    }\n",
              "\n",
              "    .colab-df-convert {\n",
              "      background-color: #E8F0FE;\n",
              "      border: none;\n",
              "      border-radius: 50%;\n",
              "      cursor: pointer;\n",
              "      display: none;\n",
              "      fill: #1967D2;\n",
              "      height: 32px;\n",
              "      padding: 0 0 0 0;\n",
              "      width: 32px;\n",
              "    }\n",
              "\n",
              "    .colab-df-convert:hover {\n",
              "      background-color: #E2EBFA;\n",
              "      box-shadow: 0px 1px 2px rgba(60, 64, 67, 0.3), 0px 1px 3px 1px rgba(60, 64, 67, 0.15);\n",
              "      fill: #174EA6;\n",
              "    }\n",
              "\n",
              "    .colab-df-buttons div {\n",
              "      margin-bottom: 4px;\n",
              "    }\n",
              "\n",
              "    [theme=dark] .colab-df-convert {\n",
              "      background-color: #3B4455;\n",
              "      fill: #D2E3FC;\n",
              "    }\n",
              "\n",
              "    [theme=dark] .colab-df-convert:hover {\n",
              "      background-color: #434B5C;\n",
              "      box-shadow: 0px 1px 3px 1px rgba(0, 0, 0, 0.15);\n",
              "      filter: drop-shadow(0px 1px 2px rgba(0, 0, 0, 0.3));\n",
              "      fill: #FFFFFF;\n",
              "    }\n",
              "  </style>\n",
              "\n",
              "    <script>\n",
              "      const buttonEl =\n",
              "        document.querySelector('#df-f0242cb8-cefa-43ac-be91-afa7208b1f24 button.colab-df-convert');\n",
              "      buttonEl.style.display =\n",
              "        google.colab.kernel.accessAllowed ? 'block' : 'none';\n",
              "\n",
              "      async function convertToInteractive(key) {\n",
              "        const element = document.querySelector('#df-f0242cb8-cefa-43ac-be91-afa7208b1f24');\n",
              "        const dataTable =\n",
              "          await google.colab.kernel.invokeFunction('convertToInteractive',\n",
              "                                                    [key], {});\n",
              "        if (!dataTable) return;\n",
              "\n",
              "        const docLinkHtml = 'Like what you see? Visit the ' +\n",
              "          '<a target=\"_blank\" href=https://colab.research.google.com/notebooks/data_table.ipynb>data table notebook</a>'\n",
              "          + ' to learn more about interactive tables.';\n",
              "        element.innerHTML = '';\n",
              "        dataTable['output_type'] = 'display_data';\n",
              "        await google.colab.output.renderOutput(dataTable, element);\n",
              "        const docLink = document.createElement('div');\n",
              "        docLink.innerHTML = docLinkHtml;\n",
              "        element.appendChild(docLink);\n",
              "      }\n",
              "    </script>\n",
              "  </div>\n",
              "\n",
              "\n",
              "<div id=\"df-bd9ea700-46cd-4e92-8e78-12d896147581\">\n",
              "  <button class=\"colab-df-quickchart\" onclick=\"quickchart('df-bd9ea700-46cd-4e92-8e78-12d896147581')\"\n",
              "            title=\"Suggest charts\"\n",
              "            style=\"display:none;\">\n",
              "\n",
              "<svg xmlns=\"http://www.w3.org/2000/svg\" height=\"24px\"viewBox=\"0 0 24 24\"\n",
              "     width=\"24px\">\n",
              "    <g>\n",
              "        <path d=\"M19 3H5c-1.1 0-2 .9-2 2v14c0 1.1.9 2 2 2h14c1.1 0 2-.9 2-2V5c0-1.1-.9-2-2-2zM9 17H7v-7h2v7zm4 0h-2V7h2v10zm4 0h-2v-4h2v4z\"/>\n",
              "    </g>\n",
              "</svg>\n",
              "  </button>\n",
              "\n",
              "<style>\n",
              "  .colab-df-quickchart {\n",
              "      --bg-color: #E8F0FE;\n",
              "      --fill-color: #1967D2;\n",
              "      --hover-bg-color: #E2EBFA;\n",
              "      --hover-fill-color: #174EA6;\n",
              "      --disabled-fill-color: #AAA;\n",
              "      --disabled-bg-color: #DDD;\n",
              "  }\n",
              "\n",
              "  [theme=dark] .colab-df-quickchart {\n",
              "      --bg-color: #3B4455;\n",
              "      --fill-color: #D2E3FC;\n",
              "      --hover-bg-color: #434B5C;\n",
              "      --hover-fill-color: #FFFFFF;\n",
              "      --disabled-bg-color: #3B4455;\n",
              "      --disabled-fill-color: #666;\n",
              "  }\n",
              "\n",
              "  .colab-df-quickchart {\n",
              "    background-color: var(--bg-color);\n",
              "    border: none;\n",
              "    border-radius: 50%;\n",
              "    cursor: pointer;\n",
              "    display: none;\n",
              "    fill: var(--fill-color);\n",
              "    height: 32px;\n",
              "    padding: 0;\n",
              "    width: 32px;\n",
              "  }\n",
              "\n",
              "  .colab-df-quickchart:hover {\n",
              "    background-color: var(--hover-bg-color);\n",
              "    box-shadow: 0 1px 2px rgba(60, 64, 67, 0.3), 0 1px 3px 1px rgba(60, 64, 67, 0.15);\n",
              "    fill: var(--button-hover-fill-color);\n",
              "  }\n",
              "\n",
              "  .colab-df-quickchart-complete:disabled,\n",
              "  .colab-df-quickchart-complete:disabled:hover {\n",
              "    background-color: var(--disabled-bg-color);\n",
              "    fill: var(--disabled-fill-color);\n",
              "    box-shadow: none;\n",
              "  }\n",
              "\n",
              "  .colab-df-spinner {\n",
              "    border: 2px solid var(--fill-color);\n",
              "    border-color: transparent;\n",
              "    border-bottom-color: var(--fill-color);\n",
              "    animation:\n",
              "      spin 1s steps(1) infinite;\n",
              "  }\n",
              "\n",
              "  @keyframes spin {\n",
              "    0% {\n",
              "      border-color: transparent;\n",
              "      border-bottom-color: var(--fill-color);\n",
              "      border-left-color: var(--fill-color);\n",
              "    }\n",
              "    20% {\n",
              "      border-color: transparent;\n",
              "      border-left-color: var(--fill-color);\n",
              "      border-top-color: var(--fill-color);\n",
              "    }\n",
              "    30% {\n",
              "      border-color: transparent;\n",
              "      border-left-color: var(--fill-color);\n",
              "      border-top-color: var(--fill-color);\n",
              "      border-right-color: var(--fill-color);\n",
              "    }\n",
              "    40% {\n",
              "      border-color: transparent;\n",
              "      border-right-color: var(--fill-color);\n",
              "      border-top-color: var(--fill-color);\n",
              "    }\n",
              "    60% {\n",
              "      border-color: transparent;\n",
              "      border-right-color: var(--fill-color);\n",
              "    }\n",
              "    80% {\n",
              "      border-color: transparent;\n",
              "      border-right-color: var(--fill-color);\n",
              "      border-bottom-color: var(--fill-color);\n",
              "    }\n",
              "    90% {\n",
              "      border-color: transparent;\n",
              "      border-bottom-color: var(--fill-color);\n",
              "    }\n",
              "  }\n",
              "</style>\n",
              "\n",
              "  <script>\n",
              "    async function quickchart(key) {\n",
              "      const quickchartButtonEl =\n",
              "        document.querySelector('#' + key + ' button');\n",
              "      quickchartButtonEl.disabled = true;  // To prevent multiple clicks.\n",
              "      quickchartButtonEl.classList.add('colab-df-spinner');\n",
              "      try {\n",
              "        const charts = await google.colab.kernel.invokeFunction(\n",
              "            'suggestCharts', [key], {});\n",
              "      } catch (error) {\n",
              "        console.error('Error during call to suggestCharts:', error);\n",
              "      }\n",
              "      quickchartButtonEl.classList.remove('colab-df-spinner');\n",
              "      quickchartButtonEl.classList.add('colab-df-quickchart-complete');\n",
              "    }\n",
              "    (() => {\n",
              "      let quickchartButtonEl =\n",
              "        document.querySelector('#df-bd9ea700-46cd-4e92-8e78-12d896147581 button');\n",
              "      quickchartButtonEl.style.display =\n",
              "        google.colab.kernel.accessAllowed ? 'block' : 'none';\n",
              "    })();\n",
              "  </script>\n",
              "</div>\n",
              "\n",
              "    </div>\n",
              "  </div>\n"
            ]
          },
          "metadata": {},
          "execution_count": 13
        }
      ]
    },
    {
      "cell_type": "code",
      "source": [
        "extracted_features_df['class'].value_counts()"
      ],
      "metadata": {
        "colab": {
          "base_uri": "https://localhost:8080/"
        },
        "id": "L-lfuFujeRgS",
        "outputId": "b78df4d7-9504-45fa-b0cc-2aabbf62ae10"
      },
      "execution_count": 14,
      "outputs": [
        {
          "output_type": "execute_result",
          "data": {
            "text/plain": [
              "blues        100\n",
              "classical    100\n",
              "country      100\n",
              "disco        100\n",
              "hiphop       100\n",
              "metal        100\n",
              "pop          100\n",
              "reggae       100\n",
              "rock         100\n",
              "jazz          98\n",
              "Name: class, dtype: int64"
            ]
          },
          "metadata": {},
          "execution_count": 14
        }
      ]
    },
    {
      "cell_type": "code",
      "source": [
        "import numpy as np"
      ],
      "metadata": {
        "id": "9YdPnyDaemJs"
      },
      "execution_count": 15,
      "outputs": []
    },
    {
      "cell_type": "code",
      "source": [
        "x=np.array(extracted_features_df['feature'].tolist())\n",
        "y=np.array(extracted_features_df['class'].tolist())"
      ],
      "metadata": {
        "id": "S9DGHB8PeiaC"
      },
      "execution_count": 16,
      "outputs": []
    },
    {
      "cell_type": "code",
      "source": [
        "x.shape"
      ],
      "metadata": {
        "colab": {
          "base_uri": "https://localhost:8080/"
        },
        "id": "IZ2v81P7e7OT",
        "outputId": "c80508ef-8e2f-4e73-d17a-5cf0748f958d"
      },
      "execution_count": 17,
      "outputs": [
        {
          "output_type": "execute_result",
          "data": {
            "text/plain": [
              "(998, 40)"
            ]
          },
          "metadata": {},
          "execution_count": 17
        }
      ]
    },
    {
      "cell_type": "code",
      "source": [
        "from tensorflow.keras.utils import to_categorical\n",
        "from sklearn.preprocessing import LabelEncoder\n",
        "labelencoder=LabelEncoder()\n",
        "y=to_categorical(labelencoder.fit_transform(y))"
      ],
      "metadata": {
        "id": "otVTUT2ekZWu"
      },
      "execution_count": 18,
      "outputs": []
    },
    {
      "cell_type": "code",
      "source": [
        "y.shape"
      ],
      "metadata": {
        "colab": {
          "base_uri": "https://localhost:8080/"
        },
        "id": "E0pUvAoPkibu",
        "outputId": "3c053e40-4418-4a42-8106-46067154ea29"
      },
      "execution_count": 19,
      "outputs": [
        {
          "output_type": "execute_result",
          "data": {
            "text/plain": [
              "(998, 10)"
            ]
          },
          "metadata": {},
          "execution_count": 19
        }
      ]
    },
    {
      "cell_type": "code",
      "source": [
        "from sklearn.model_selection import train_test_split\n",
        "\n",
        "x_train,x_test,y_train,y_test=train_test_split(x,y,test_size=0.2,random_state=0)"
      ],
      "metadata": {
        "id": "t6q8yyOokoMC"
      },
      "execution_count": 20,
      "outputs": []
    },
    {
      "cell_type": "code",
      "source": [
        "x_train"
      ],
      "metadata": {
        "colab": {
          "base_uri": "https://localhost:8080/"
        },
        "id": "LiuH1R0DktXv",
        "outputId": "98d36eca-0ce0-44c4-dc92-06c6e6c28874"
      },
      "execution_count": 21,
      "outputs": [
        {
          "output_type": "execute_result",
          "data": {
            "text/plain": [
              "array([[-1.04723763e+02,  8.77537155e+01, -3.32488594e+01, ...,\n",
              "        -2.38248777e+00, -1.36347139e+00, -7.22123504e-01],\n",
              "       [-2.59909851e+02,  1.23193169e+02, -6.39508581e+00, ...,\n",
              "        -6.73697758e+00, -3.90829611e+00,  3.18117642e+00],\n",
              "       [-1.15755066e+02,  6.70791245e+01,  1.88346851e+00, ...,\n",
              "        -3.43661404e+00, -1.73870683e+00, -4.68738452e-02],\n",
              "       ...,\n",
              "       [-1.25020428e+01,  9.13173676e+01, -2.30759563e+01, ...,\n",
              "        -4.04763985e+00, -1.77685583e+00, -1.75431299e+00],\n",
              "       [-2.37930965e+01,  8.29835587e+01,  2.32049274e+00, ...,\n",
              "         1.40550280e+00,  4.16220456e-01, -3.45980562e-02],\n",
              "       [-9.63197021e+01,  9.09497147e+01, -3.22195396e+01, ...,\n",
              "        -2.41483903e+00, -1.62698299e-01, -1.84749973e+00]], dtype=float32)"
            ]
          },
          "metadata": {},
          "execution_count": 21
        }
      ]
    },
    {
      "cell_type": "code",
      "source": [
        "print(x_train.shape)\n",
        "print(x_test.shape)\n",
        "print(y_train.shape)\n",
        "print(y_test.shape)"
      ],
      "metadata": {
        "colab": {
          "base_uri": "https://localhost:8080/"
        },
        "id": "6wrO3lj2kyuK",
        "outputId": "334671a4-f34b-4c6c-a881-a4424bb3877d"
      },
      "execution_count": 22,
      "outputs": [
        {
          "output_type": "stream",
          "name": "stdout",
          "text": [
            "(798, 40)\n",
            "(200, 40)\n",
            "(798, 10)\n",
            "(200, 10)\n"
          ]
        }
      ]
    },
    {
      "cell_type": "code",
      "source": [
        "import tensorflow as tf\n",
        "print(tf.__version__)"
      ],
      "metadata": {
        "colab": {
          "base_uri": "https://localhost:8080/"
        },
        "id": "ea3_NFvIk37H",
        "outputId": "fb407a5f-8c29-4b58-ad22-ea1e09d7439c"
      },
      "execution_count": 23,
      "outputs": [
        {
          "output_type": "stream",
          "name": "stdout",
          "text": [
            "2.15.0\n"
          ]
        }
      ]
    },
    {
      "cell_type": "code",
      "source": [
        "from tensorflow.keras.models import Sequential\n",
        "from tensorflow.keras.layers import Dense, Dropout, Activation, Flatten\n",
        "from tensorflow.keras.optimizers import Adam\n",
        "from sklearn import metrics"
      ],
      "metadata": {
        "id": "uSv9NTk7k8ob"
      },
      "execution_count": 24,
      "outputs": []
    },
    {
      "cell_type": "code",
      "source": [
        "num_labels=y.shape[1]"
      ],
      "metadata": {
        "id": "RjxtzQn5lJ6s"
      },
      "execution_count": 25,
      "outputs": []
    },
    {
      "cell_type": "code",
      "source": [
        "model=Sequential()\n",
        "model.add(Dense(1024,input_shape=(40,), activation=\"relu\"))\n",
        "model.add(Dropout(0.3))\n",
        "model.add(Dense (512, activation=\"relu\"))\n",
        "model.add(Dropout(0.3))\n",
        "model.add(Dense(256, activation=\"relu\"))\n",
        "model.add(Dropout(0.3))\n",
        "model.add(Dense(128, activation=\"relu\"))\n",
        "model.add(Dropout (0.3))\n",
        "model.add(Dense(64, activation=\"relu\"))\n",
        "model.add(Dropout (0.3))\n",
        "model.add(Dense(32, activation=\"relu\"))\n",
        "model.add(Dropout (0.3))\n",
        "\n",
        "###final layer\n",
        "model.add(Dense(num_labels, activation=\"softmax\"))"
      ],
      "metadata": {
        "id": "K47In8PNlki2"
      },
      "execution_count": 26,
      "outputs": []
    },
    {
      "cell_type": "code",
      "source": [
        "model.summary()"
      ],
      "metadata": {
        "colab": {
          "base_uri": "https://localhost:8080/"
        },
        "id": "AENvSmS3lvhn",
        "outputId": "5f37a3f9-f2ca-4fd4-a57b-ea2210b44ffb"
      },
      "execution_count": 27,
      "outputs": [
        {
          "output_type": "stream",
          "name": "stdout",
          "text": [
            "Model: \"sequential\"\n",
            "_________________________________________________________________\n",
            " Layer (type)                Output Shape              Param #   \n",
            "=================================================================\n",
            " dense (Dense)               (None, 1024)              41984     \n",
            "                                                                 \n",
            " dropout (Dropout)           (None, 1024)              0         \n",
            "                                                                 \n",
            " dense_1 (Dense)             (None, 512)               524800    \n",
            "                                                                 \n",
            " dropout_1 (Dropout)         (None, 512)               0         \n",
            "                                                                 \n",
            " dense_2 (Dense)             (None, 256)               131328    \n",
            "                                                                 \n",
            " dropout_2 (Dropout)         (None, 256)               0         \n",
            "                                                                 \n",
            " dense_3 (Dense)             (None, 128)               32896     \n",
            "                                                                 \n",
            " dropout_3 (Dropout)         (None, 128)               0         \n",
            "                                                                 \n",
            " dense_4 (Dense)             (None, 64)                8256      \n",
            "                                                                 \n",
            " dropout_4 (Dropout)         (None, 64)                0         \n",
            "                                                                 \n",
            " dense_5 (Dense)             (None, 32)                2080      \n",
            "                                                                 \n",
            " dropout_5 (Dropout)         (None, 32)                0         \n",
            "                                                                 \n",
            " dense_6 (Dense)             (None, 10)                330       \n",
            "                                                                 \n",
            "=================================================================\n",
            "Total params: 741674 (2.83 MB)\n",
            "Trainable params: 741674 (2.83 MB)\n",
            "Non-trainable params: 0 (0.00 Byte)\n",
            "_________________________________________________________________\n"
          ]
        }
      ]
    },
    {
      "cell_type": "code",
      "source": [
        "model.compile(loss='categorical_crossentropy',metrics=['accuracy'],optimizer=\"adam\")"
      ],
      "metadata": {
        "id": "GPFAx_fnl4OH"
      },
      "execution_count": 28,
      "outputs": []
    },
    {
      "cell_type": "code",
      "source": [
        "import time\n",
        "t=time.localtime()\n",
        "current_time=time.strftime(\"%H:%M:%S\", t)"
      ],
      "metadata": {
        "id": "tfcjy_TAl8u3"
      },
      "execution_count": 29,
      "outputs": []
    },
    {
      "cell_type": "code",
      "source": [
        "## Training model\n",
        "\n",
        "from tensorflow.keras.callbacks import ModelCheckpoint\n",
        "\n",
        "from datetime import datetime\n",
        "\n",
        "num_epochs = 100\n",
        "\n",
        "num_batch_size = 32\n",
        "\n",
        "checkpointer = ModelCheckpoint(filepath=f'saved_models/audio_classification_{current_time}.hdf5',\n",
        "                               verbose=1, save_best_only=True)\n",
        "\n",
        "start=datetime.now()\n",
        "\n",
        "history=model.fit(x_train, y_train, batch_size=num_batch_size, epochs=num_epochs, validation_data=(x_test, y_test), callbacks=[checkpointer], verbose=1)\n",
        "\n",
        "duration = datetime.now()-start\n",
        "\n",
        "print(\"Training completed in time: \", duration)"
      ],
      "metadata": {
        "colab": {
          "base_uri": "https://localhost:8080/"
        },
        "id": "U6E9NscmmL62",
        "outputId": "6aaee630-aa79-4415-966d-a584b6068b13"
      },
      "execution_count": 31,
      "outputs": [
        {
          "output_type": "stream",
          "name": "stdout",
          "text": [
            "Epoch 1/100\n",
            "25/25 [==============================] - ETA: 0s - loss: 0.6493 - accuracy: 0.7845\n",
            "Epoch 1: val_loss improved from inf to 2.03497, saving model to saved_models/audio_classification_07:42:34.hdf5\n",
            "25/25 [==============================] - 1s 44ms/step - loss: 0.6493 - accuracy: 0.7845 - val_loss: 2.0350 - val_accuracy: 0.5950\n",
            "Epoch 2/100\n",
            "25/25 [==============================] - ETA: 0s - loss: 0.5990 - accuracy: 0.8195\n",
            "Epoch 2: val_loss improved from 2.03497 to 1.98329, saving model to saved_models/audio_classification_07:42:34.hdf5\n",
            "25/25 [==============================] - 1s 34ms/step - loss: 0.5990 - accuracy: 0.8195 - val_loss: 1.9833 - val_accuracy: 0.5700\n",
            "Epoch 3/100\n",
            "24/25 [===========================>..] - ETA: 0s - loss: 0.6551 - accuracy: 0.7721\n",
            "Epoch 3: val_loss improved from 1.98329 to 1.97938, saving model to saved_models/audio_classification_07:42:34.hdf5\n",
            "25/25 [==============================] - 1s 22ms/step - loss: 0.6595 - accuracy: 0.7719 - val_loss: 1.9794 - val_accuracy: 0.6100\n",
            "Epoch 4/100\n",
            "25/25 [==============================] - ETA: 0s - loss: 0.6659 - accuracy: 0.7857\n",
            "Epoch 4: val_loss improved from 1.97938 to 1.83336, saving model to saved_models/audio_classification_07:42:34.hdf5\n",
            "25/25 [==============================] - 1s 21ms/step - loss: 0.6659 - accuracy: 0.7857 - val_loss: 1.8334 - val_accuracy: 0.5900\n",
            "Epoch 5/100\n",
            "25/25 [==============================] - ETA: 0s - loss: 0.6870 - accuracy: 0.7920\n",
            "Epoch 5: val_loss did not improve from 1.83336\n",
            "25/25 [==============================] - 0s 17ms/step - loss: 0.6870 - accuracy: 0.7920 - val_loss: 1.9435 - val_accuracy: 0.6100\n",
            "Epoch 6/100\n",
            "25/25 [==============================] - ETA: 0s - loss: 0.5888 - accuracy: 0.8333\n",
            "Epoch 6: val_loss did not improve from 1.83336\n",
            "25/25 [==============================] - 0s 16ms/step - loss: 0.5888 - accuracy: 0.8333 - val_loss: 2.1685 - val_accuracy: 0.6000\n",
            "Epoch 7/100\n",
            "24/25 [===========================>..] - ETA: 0s - loss: 0.6070 - accuracy: 0.8177\n",
            "Epoch 7: val_loss did not improve from 1.83336\n",
            "25/25 [==============================] - 0s 17ms/step - loss: 0.6015 - accuracy: 0.8183 - val_loss: 1.8427 - val_accuracy: 0.6050\n",
            "Epoch 8/100\n",
            "25/25 [==============================] - ETA: 0s - loss: 0.5419 - accuracy: 0.8233\n",
            "Epoch 8: val_loss did not improve from 1.83336\n",
            "25/25 [==============================] - 0s 17ms/step - loss: 0.5419 - accuracy: 0.8233 - val_loss: 1.9439 - val_accuracy: 0.6050\n",
            "Epoch 9/100\n",
            "25/25 [==============================] - ETA: 0s - loss: 0.6139 - accuracy: 0.7945\n",
            "Epoch 9: val_loss improved from 1.83336 to 1.79354, saving model to saved_models/audio_classification_07:42:34.hdf5\n",
            "25/25 [==============================] - 1s 26ms/step - loss: 0.6139 - accuracy: 0.7945 - val_loss: 1.7935 - val_accuracy: 0.6050\n",
            "Epoch 10/100\n",
            "25/25 [==============================] - ETA: 0s - loss: 0.5441 - accuracy: 0.8271\n",
            "Epoch 10: val_loss did not improve from 1.79354\n",
            "25/25 [==============================] - 1s 26ms/step - loss: 0.5441 - accuracy: 0.8271 - val_loss: 2.0898 - val_accuracy: 0.6200\n",
            "Epoch 11/100\n",
            "25/25 [==============================] - ETA: 0s - loss: 0.6139 - accuracy: 0.8208\n",
            "Epoch 11: val_loss did not improve from 1.79354\n",
            "25/25 [==============================] - 1s 26ms/step - loss: 0.6139 - accuracy: 0.8208 - val_loss: 1.8961 - val_accuracy: 0.5900\n",
            "Epoch 12/100\n",
            "23/25 [==========================>...] - ETA: 0s - loss: 0.6017 - accuracy: 0.8030\n",
            "Epoch 12: val_loss did not improve from 1.79354\n",
            "25/25 [==============================] - 1s 28ms/step - loss: 0.6019 - accuracy: 0.8045 - val_loss: 2.0308 - val_accuracy: 0.6150\n",
            "Epoch 13/100\n",
            "25/25 [==============================] - ETA: 0s - loss: 0.5628 - accuracy: 0.8271\n",
            "Epoch 13: val_loss did not improve from 1.79354\n",
            "25/25 [==============================] - 1s 25ms/step - loss: 0.5628 - accuracy: 0.8271 - val_loss: 2.0862 - val_accuracy: 0.6150\n",
            "Epoch 14/100\n",
            "24/25 [===========================>..] - ETA: 0s - loss: 0.6173 - accuracy: 0.8060\n",
            "Epoch 14: val_loss did not improve from 1.79354\n",
            "25/25 [==============================] - 1s 26ms/step - loss: 0.6058 - accuracy: 0.8120 - val_loss: 1.9309 - val_accuracy: 0.6050\n",
            "Epoch 15/100\n",
            "25/25 [==============================] - ETA: 0s - loss: 0.5559 - accuracy: 0.8333\n",
            "Epoch 15: val_loss did not improve from 1.79354\n",
            "25/25 [==============================] - 0s 18ms/step - loss: 0.5559 - accuracy: 0.8333 - val_loss: 2.0420 - val_accuracy: 0.6100\n",
            "Epoch 16/100\n",
            "24/25 [===========================>..] - ETA: 0s - loss: 0.4922 - accuracy: 0.8477\n",
            "Epoch 16: val_loss did not improve from 1.79354\n",
            "25/25 [==============================] - 0s 19ms/step - loss: 0.4931 - accuracy: 0.8471 - val_loss: 2.2362 - val_accuracy: 0.5900\n",
            "Epoch 17/100\n",
            "25/25 [==============================] - ETA: 0s - loss: 0.6146 - accuracy: 0.8133\n",
            "Epoch 17: val_loss did not improve from 1.79354\n",
            "25/25 [==============================] - 0s 16ms/step - loss: 0.6146 - accuracy: 0.8133 - val_loss: 2.1742 - val_accuracy: 0.5950\n",
            "Epoch 18/100\n",
            "24/25 [===========================>..] - ETA: 0s - loss: 0.5812 - accuracy: 0.8021\n",
            "Epoch 18: val_loss did not improve from 1.79354\n",
            "25/25 [==============================] - 0s 19ms/step - loss: 0.5731 - accuracy: 0.8045 - val_loss: 2.0841 - val_accuracy: 0.6100\n",
            "Epoch 19/100\n",
            "25/25 [==============================] - ETA: 0s - loss: 0.4737 - accuracy: 0.8534\n",
            "Epoch 19: val_loss did not improve from 1.79354\n",
            "25/25 [==============================] - 0s 18ms/step - loss: 0.4737 - accuracy: 0.8534 - val_loss: 1.9151 - val_accuracy: 0.6100\n",
            "Epoch 20/100\n",
            "24/25 [===========================>..] - ETA: 0s - loss: 0.5000 - accuracy: 0.8542\n",
            "Epoch 20: val_loss did not improve from 1.79354\n",
            "25/25 [==============================] - 0s 17ms/step - loss: 0.5107 - accuracy: 0.8484 - val_loss: 2.0745 - val_accuracy: 0.5950\n",
            "Epoch 21/100\n",
            "25/25 [==============================] - ETA: 0s - loss: 0.4715 - accuracy: 0.8546\n",
            "Epoch 21: val_loss did not improve from 1.79354\n",
            "25/25 [==============================] - 0s 17ms/step - loss: 0.4715 - accuracy: 0.8546 - val_loss: 2.2013 - val_accuracy: 0.6150\n",
            "Epoch 22/100\n",
            "25/25 [==============================] - ETA: 0s - loss: 0.3618 - accuracy: 0.8810\n",
            "Epoch 22: val_loss did not improve from 1.79354\n",
            "25/25 [==============================] - 0s 17ms/step - loss: 0.3618 - accuracy: 0.8810 - val_loss: 2.0049 - val_accuracy: 0.6150\n",
            "Epoch 23/100\n",
            "24/25 [===========================>..] - ETA: 0s - loss: 0.4497 - accuracy: 0.8776\n",
            "Epoch 23: val_loss did not improve from 1.79354\n",
            "25/25 [==============================] - 0s 19ms/step - loss: 0.4420 - accuracy: 0.8784 - val_loss: 2.1191 - val_accuracy: 0.6350\n",
            "Epoch 24/100\n",
            "25/25 [==============================] - ETA: 0s - loss: 0.3868 - accuracy: 0.8772\n",
            "Epoch 24: val_loss did not improve from 1.79354\n",
            "25/25 [==============================] - 0s 17ms/step - loss: 0.3868 - accuracy: 0.8772 - val_loss: 2.6095 - val_accuracy: 0.5950\n",
            "Epoch 25/100\n",
            "23/25 [==========================>...] - ETA: 0s - loss: 0.5518 - accuracy: 0.8397\n",
            "Epoch 25: val_loss did not improve from 1.79354\n",
            "25/25 [==============================] - 0s 19ms/step - loss: 0.5429 - accuracy: 0.8421 - val_loss: 2.1091 - val_accuracy: 0.5950\n",
            "Epoch 26/100\n",
            "25/25 [==============================] - ETA: 0s - loss: 0.5339 - accuracy: 0.8459\n",
            "Epoch 26: val_loss did not improve from 1.79354\n",
            "25/25 [==============================] - 0s 19ms/step - loss: 0.5339 - accuracy: 0.8459 - val_loss: 2.0651 - val_accuracy: 0.6250\n",
            "Epoch 27/100\n",
            "24/25 [===========================>..] - ETA: 0s - loss: 0.4712 - accuracy: 0.8607\n",
            "Epoch 27: val_loss did not improve from 1.79354\n",
            "25/25 [==============================] - 0s 19ms/step - loss: 0.4701 - accuracy: 0.8647 - val_loss: 2.0550 - val_accuracy: 0.5950\n",
            "Epoch 28/100\n",
            "25/25 [==============================] - ETA: 0s - loss: 0.4714 - accuracy: 0.8659\n",
            "Epoch 28: val_loss did not improve from 1.79354\n",
            "25/25 [==============================] - 0s 17ms/step - loss: 0.4714 - accuracy: 0.8659 - val_loss: 2.0372 - val_accuracy: 0.6250\n",
            "Epoch 29/100\n",
            "25/25 [==============================] - ETA: 0s - loss: 0.4484 - accuracy: 0.8546\n",
            "Epoch 29: val_loss did not improve from 1.79354\n",
            "25/25 [==============================] - 0s 17ms/step - loss: 0.4484 - accuracy: 0.8546 - val_loss: 1.9427 - val_accuracy: 0.6150\n",
            "Epoch 30/100\n",
            "25/25 [==============================] - ETA: 0s - loss: 0.4264 - accuracy: 0.8672\n",
            "Epoch 30: val_loss did not improve from 1.79354\n",
            "25/25 [==============================] - 0s 17ms/step - loss: 0.4264 - accuracy: 0.8672 - val_loss: 2.4176 - val_accuracy: 0.5750\n",
            "Epoch 31/100\n",
            "25/25 [==============================] - ETA: 0s - loss: 0.4816 - accuracy: 0.8584\n",
            "Epoch 31: val_loss did not improve from 1.79354\n",
            "25/25 [==============================] - 0s 17ms/step - loss: 0.4816 - accuracy: 0.8584 - val_loss: 2.0250 - val_accuracy: 0.6200\n",
            "Epoch 32/100\n",
            "23/25 [==========================>...] - ETA: 0s - loss: 0.4402 - accuracy: 0.8614\n",
            "Epoch 32: val_loss did not improve from 1.79354\n",
            "25/25 [==============================] - 0s 18ms/step - loss: 0.4343 - accuracy: 0.8596 - val_loss: 2.2216 - val_accuracy: 0.6050\n",
            "Epoch 33/100\n",
            "25/25 [==============================] - ETA: 0s - loss: 0.4685 - accuracy: 0.8734\n",
            "Epoch 33: val_loss did not improve from 1.79354\n",
            "25/25 [==============================] - 0s 18ms/step - loss: 0.4685 - accuracy: 0.8734 - val_loss: 2.2535 - val_accuracy: 0.6050\n",
            "Epoch 34/100\n",
            "23/25 [==========================>...] - ETA: 0s - loss: 0.4013 - accuracy: 0.8791\n",
            "Epoch 34: val_loss did not improve from 1.79354\n",
            "25/25 [==============================] - 0s 18ms/step - loss: 0.3920 - accuracy: 0.8810 - val_loss: 1.9541 - val_accuracy: 0.5950\n",
            "Epoch 35/100\n",
            "24/25 [===========================>..] - ETA: 0s - loss: 0.3802 - accuracy: 0.8750\n",
            "Epoch 35: val_loss did not improve from 1.79354\n",
            "25/25 [==============================] - 0s 19ms/step - loss: 0.3754 - accuracy: 0.8759 - val_loss: 2.0658 - val_accuracy: 0.6250\n",
            "Epoch 36/100\n",
            "25/25 [==============================] - ETA: 0s - loss: 0.3833 - accuracy: 0.8960\n",
            "Epoch 36: val_loss did not improve from 1.79354\n",
            "25/25 [==============================] - 0s 18ms/step - loss: 0.3833 - accuracy: 0.8960 - val_loss: 2.2161 - val_accuracy: 0.6050\n",
            "Epoch 37/100\n",
            "24/25 [===========================>..] - ETA: 0s - loss: 0.3220 - accuracy: 0.9049\n",
            "Epoch 37: val_loss did not improve from 1.79354\n",
            "25/25 [==============================] - 1s 25ms/step - loss: 0.3154 - accuracy: 0.9073 - val_loss: 2.3728 - val_accuracy: 0.6350\n",
            "Epoch 38/100\n",
            "25/25 [==============================] - ETA: 0s - loss: 0.4121 - accuracy: 0.8772\n",
            "Epoch 38: val_loss did not improve from 1.79354\n",
            "25/25 [==============================] - 1s 25ms/step - loss: 0.4121 - accuracy: 0.8772 - val_loss: 2.2123 - val_accuracy: 0.6350\n",
            "Epoch 39/100\n",
            "25/25 [==============================] - ETA: 0s - loss: 0.3288 - accuracy: 0.8972\n",
            "Epoch 39: val_loss did not improve from 1.79354\n",
            "25/25 [==============================] - 1s 25ms/step - loss: 0.3288 - accuracy: 0.8972 - val_loss: 2.4296 - val_accuracy: 0.6300\n",
            "Epoch 40/100\n",
            "23/25 [==========================>...] - ETA: 0s - loss: 0.4655 - accuracy: 0.8832\n",
            "Epoch 40: val_loss did not improve from 1.79354\n",
            "25/25 [==============================] - 1s 25ms/step - loss: 0.4733 - accuracy: 0.8797 - val_loss: 2.2381 - val_accuracy: 0.5950\n",
            "Epoch 41/100\n",
            "24/25 [===========================>..] - ETA: 0s - loss: 0.5018 - accuracy: 0.8568\n",
            "Epoch 41: val_loss did not improve from 1.79354\n",
            "25/25 [==============================] - 1s 26ms/step - loss: 0.5074 - accuracy: 0.8534 - val_loss: 2.0973 - val_accuracy: 0.6250\n",
            "Epoch 42/100\n",
            "25/25 [==============================] - ETA: 0s - loss: 0.5841 - accuracy: 0.8496\n",
            "Epoch 42: val_loss did not improve from 1.79354\n",
            "25/25 [==============================] - 1s 25ms/step - loss: 0.5841 - accuracy: 0.8496 - val_loss: 1.9957 - val_accuracy: 0.6000\n",
            "Epoch 43/100\n",
            "24/25 [===========================>..] - ETA: 0s - loss: 0.4517 - accuracy: 0.8685\n",
            "Epoch 43: val_loss did not improve from 1.79354\n",
            "25/25 [==============================] - 0s 18ms/step - loss: 0.4528 - accuracy: 0.8659 - val_loss: 2.2705 - val_accuracy: 0.6250\n",
            "Epoch 44/100\n",
            "25/25 [==============================] - ETA: 0s - loss: 0.3595 - accuracy: 0.9135\n",
            "Epoch 44: val_loss did not improve from 1.79354\n",
            "25/25 [==============================] - 0s 17ms/step - loss: 0.3595 - accuracy: 0.9135 - val_loss: 2.4316 - val_accuracy: 0.6050\n",
            "Epoch 45/100\n",
            "25/25 [==============================] - ETA: 0s - loss: 0.3589 - accuracy: 0.8985\n",
            "Epoch 45: val_loss did not improve from 1.79354\n",
            "25/25 [==============================] - 0s 18ms/step - loss: 0.3589 - accuracy: 0.8985 - val_loss: 2.4883 - val_accuracy: 0.5850\n",
            "Epoch 46/100\n",
            "24/25 [===========================>..] - ETA: 0s - loss: 0.3425 - accuracy: 0.8945\n",
            "Epoch 46: val_loss did not improve from 1.79354\n",
            "25/25 [==============================] - 0s 17ms/step - loss: 0.3421 - accuracy: 0.8935 - val_loss: 2.8009 - val_accuracy: 0.6000\n",
            "Epoch 47/100\n",
            "25/25 [==============================] - ETA: 0s - loss: 0.4207 - accuracy: 0.8835\n",
            "Epoch 47: val_loss did not improve from 1.79354\n",
            "25/25 [==============================] - 0s 18ms/step - loss: 0.4207 - accuracy: 0.8835 - val_loss: 2.4929 - val_accuracy: 0.6050\n",
            "Epoch 48/100\n",
            "25/25 [==============================] - ETA: 0s - loss: 0.3933 - accuracy: 0.8860\n",
            "Epoch 48: val_loss did not improve from 1.79354\n",
            "25/25 [==============================] - 0s 18ms/step - loss: 0.3933 - accuracy: 0.8860 - val_loss: 2.1507 - val_accuracy: 0.6250\n",
            "Epoch 49/100\n",
            "25/25 [==============================] - ETA: 0s - loss: 0.3623 - accuracy: 0.9035\n",
            "Epoch 49: val_loss did not improve from 1.79354\n",
            "25/25 [==============================] - 0s 19ms/step - loss: 0.3623 - accuracy: 0.9035 - val_loss: 2.1538 - val_accuracy: 0.5950\n",
            "Epoch 50/100\n",
            "24/25 [===========================>..] - ETA: 0s - loss: 0.2659 - accuracy: 0.9141\n",
            "Epoch 50: val_loss did not improve from 1.79354\n",
            "25/25 [==============================] - 0s 20ms/step - loss: 0.2701 - accuracy: 0.9123 - val_loss: 2.3232 - val_accuracy: 0.5850\n",
            "Epoch 51/100\n",
            "25/25 [==============================] - ETA: 0s - loss: 0.2963 - accuracy: 0.9035\n",
            "Epoch 51: val_loss did not improve from 1.79354\n",
            "25/25 [==============================] - 0s 19ms/step - loss: 0.2963 - accuracy: 0.9035 - val_loss: 2.5130 - val_accuracy: 0.6150\n",
            "Epoch 52/100\n",
            "24/25 [===========================>..] - ETA: 0s - loss: 0.2472 - accuracy: 0.9232\n",
            "Epoch 52: val_loss did not improve from 1.79354\n",
            "25/25 [==============================] - 0s 18ms/step - loss: 0.2503 - accuracy: 0.9223 - val_loss: 2.4650 - val_accuracy: 0.6300\n",
            "Epoch 53/100\n",
            "24/25 [===========================>..] - ETA: 0s - loss: 0.2763 - accuracy: 0.9388\n",
            "Epoch 53: val_loss did not improve from 1.79354\n",
            "25/25 [==============================] - 0s 19ms/step - loss: 0.2762 - accuracy: 0.9361 - val_loss: 2.7711 - val_accuracy: 0.6000\n",
            "Epoch 54/100\n",
            "25/25 [==============================] - ETA: 0s - loss: 0.3004 - accuracy: 0.9148\n",
            "Epoch 54: val_loss did not improve from 1.79354\n",
            "25/25 [==============================] - 0s 18ms/step - loss: 0.3004 - accuracy: 0.9148 - val_loss: 2.8638 - val_accuracy: 0.5950\n",
            "Epoch 55/100\n",
            "25/25 [==============================] - ETA: 0s - loss: 0.4876 - accuracy: 0.8960\n",
            "Epoch 55: val_loss did not improve from 1.79354\n",
            "25/25 [==============================] - 0s 18ms/step - loss: 0.4876 - accuracy: 0.8960 - val_loss: 2.3412 - val_accuracy: 0.6050\n",
            "Epoch 56/100\n",
            "24/25 [===========================>..] - ETA: 0s - loss: 0.3841 - accuracy: 0.8971\n",
            "Epoch 56: val_loss did not improve from 1.79354\n",
            "25/25 [==============================] - 0s 19ms/step - loss: 0.3770 - accuracy: 0.8985 - val_loss: 2.4515 - val_accuracy: 0.5900\n",
            "Epoch 57/100\n",
            "23/25 [==========================>...] - ETA: 0s - loss: 0.3644 - accuracy: 0.8981\n",
            "Epoch 57: val_loss did not improve from 1.79354\n",
            "25/25 [==============================] - 0s 19ms/step - loss: 0.3553 - accuracy: 0.8985 - val_loss: 2.3882 - val_accuracy: 0.6050\n",
            "Epoch 58/100\n",
            "25/25 [==============================] - ETA: 0s - loss: 0.3459 - accuracy: 0.9060\n",
            "Epoch 58: val_loss did not improve from 1.79354\n",
            "25/25 [==============================] - 0s 17ms/step - loss: 0.3459 - accuracy: 0.9060 - val_loss: 2.4784 - val_accuracy: 0.5700\n",
            "Epoch 59/100\n",
            "23/25 [==========================>...] - ETA: 0s - loss: 0.3261 - accuracy: 0.9144\n",
            "Epoch 59: val_loss did not improve from 1.79354\n",
            "25/25 [==============================] - 0s 20ms/step - loss: 0.3143 - accuracy: 0.9148 - val_loss: 2.3058 - val_accuracy: 0.6200\n",
            "Epoch 60/100\n",
            "24/25 [===========================>..] - ETA: 0s - loss: 0.2150 - accuracy: 0.9427\n",
            "Epoch 60: val_loss did not improve from 1.79354\n",
            "25/25 [==============================] - 0s 18ms/step - loss: 0.2144 - accuracy: 0.9436 - val_loss: 2.6086 - val_accuracy: 0.5750\n",
            "Epoch 61/100\n",
            "23/25 [==========================>...] - ETA: 0s - loss: 0.2401 - accuracy: 0.9389\n",
            "Epoch 61: val_loss did not improve from 1.79354\n",
            "25/25 [==============================] - 0s 18ms/step - loss: 0.2484 - accuracy: 0.9348 - val_loss: 2.4799 - val_accuracy: 0.6150\n",
            "Epoch 62/100\n",
            "24/25 [===========================>..] - ETA: 0s - loss: 0.3138 - accuracy: 0.9206\n",
            "Epoch 62: val_loss did not improve from 1.79354\n",
            "25/25 [==============================] - 0s 18ms/step - loss: 0.3119 - accuracy: 0.9185 - val_loss: 2.7950 - val_accuracy: 0.5900\n",
            "Epoch 63/100\n",
            "24/25 [===========================>..] - ETA: 0s - loss: 0.3947 - accuracy: 0.8932\n",
            "Epoch 63: val_loss did not improve from 1.79354\n",
            "25/25 [==============================] - 0s 20ms/step - loss: 0.4007 - accuracy: 0.8922 - val_loss: 2.3600 - val_accuracy: 0.6400\n",
            "Epoch 64/100\n",
            "24/25 [===========================>..] - ETA: 0s - loss: 0.3875 - accuracy: 0.8997\n",
            "Epoch 64: val_loss did not improve from 1.79354\n",
            "25/25 [==============================] - 1s 23ms/step - loss: 0.3786 - accuracy: 0.9023 - val_loss: 2.3793 - val_accuracy: 0.6300\n",
            "Epoch 65/100\n",
            "25/25 [==============================] - ETA: 0s - loss: 0.3037 - accuracy: 0.9273\n",
            "Epoch 65: val_loss did not improve from 1.79354\n",
            "25/25 [==============================] - 1s 26ms/step - loss: 0.3037 - accuracy: 0.9273 - val_loss: 2.4013 - val_accuracy: 0.6150\n",
            "Epoch 66/100\n",
            "25/25 [==============================] - ETA: 0s - loss: 0.3282 - accuracy: 0.9223\n",
            "Epoch 66: val_loss did not improve from 1.79354\n",
            "25/25 [==============================] - 1s 25ms/step - loss: 0.3282 - accuracy: 0.9223 - val_loss: 2.5641 - val_accuracy: 0.5950\n",
            "Epoch 67/100\n",
            "24/25 [===========================>..] - ETA: 0s - loss: 0.2847 - accuracy: 0.9206\n",
            "Epoch 67: val_loss did not improve from 1.79354\n",
            "25/25 [==============================] - 1s 25ms/step - loss: 0.2850 - accuracy: 0.9185 - val_loss: 2.3439 - val_accuracy: 0.6250\n",
            "Epoch 68/100\n",
            "24/25 [===========================>..] - ETA: 0s - loss: 0.2328 - accuracy: 0.9375\n",
            "Epoch 68: val_loss did not improve from 1.79354\n",
            "25/25 [==============================] - 1s 26ms/step - loss: 0.2358 - accuracy: 0.9361 - val_loss: 2.7448 - val_accuracy: 0.6000\n",
            "Epoch 69/100\n",
            "23/25 [==========================>...] - ETA: 0s - loss: 0.2675 - accuracy: 0.9293\n",
            "Epoch 69: val_loss did not improve from 1.79354\n",
            "25/25 [==============================] - 1s 26ms/step - loss: 0.2615 - accuracy: 0.9311 - val_loss: 3.1342 - val_accuracy: 0.6250\n",
            "Epoch 70/100\n",
            "25/25 [==============================] - ETA: 0s - loss: 0.2830 - accuracy: 0.9261\n",
            "Epoch 70: val_loss did not improve from 1.79354\n",
            "25/25 [==============================] - 1s 21ms/step - loss: 0.2830 - accuracy: 0.9261 - val_loss: 2.7006 - val_accuracy: 0.5950\n",
            "Epoch 71/100\n",
            "22/25 [=========================>....] - ETA: 0s - loss: 0.2207 - accuracy: 0.9403\n",
            "Epoch 71: val_loss did not improve from 1.79354\n",
            "25/25 [==============================] - 0s 19ms/step - loss: 0.2308 - accuracy: 0.9424 - val_loss: 2.6011 - val_accuracy: 0.6300\n",
            "Epoch 72/100\n",
            "24/25 [===========================>..] - ETA: 0s - loss: 0.2393 - accuracy: 0.9427\n",
            "Epoch 72: val_loss did not improve from 1.79354\n",
            "25/25 [==============================] - 0s 20ms/step - loss: 0.2355 - accuracy: 0.9436 - val_loss: 2.7059 - val_accuracy: 0.6400\n",
            "Epoch 73/100\n",
            "23/25 [==========================>...] - ETA: 0s - loss: 0.2883 - accuracy: 0.9117\n",
            "Epoch 73: val_loss did not improve from 1.79354\n",
            "25/25 [==============================] - 0s 18ms/step - loss: 0.2969 - accuracy: 0.9148 - val_loss: 2.6289 - val_accuracy: 0.6100\n",
            "Epoch 74/100\n",
            "25/25 [==============================] - ETA: 0s - loss: 0.2443 - accuracy: 0.9348\n",
            "Epoch 74: val_loss did not improve from 1.79354\n",
            "25/25 [==============================] - 0s 17ms/step - loss: 0.2443 - accuracy: 0.9348 - val_loss: 2.8121 - val_accuracy: 0.5950\n",
            "Epoch 75/100\n",
            "25/25 [==============================] - ETA: 0s - loss: 0.2018 - accuracy: 0.9486\n",
            "Epoch 75: val_loss did not improve from 1.79354\n",
            "25/25 [==============================] - 0s 17ms/step - loss: 0.2018 - accuracy: 0.9486 - val_loss: 2.4800 - val_accuracy: 0.6200\n",
            "Epoch 76/100\n",
            "25/25 [==============================] - ETA: 0s - loss: 0.2036 - accuracy: 0.9348\n",
            "Epoch 76: val_loss did not improve from 1.79354\n",
            "25/25 [==============================] - 0s 17ms/step - loss: 0.2036 - accuracy: 0.9348 - val_loss: 2.7790 - val_accuracy: 0.6150\n",
            "Epoch 77/100\n",
            "23/25 [==========================>...] - ETA: 0s - loss: 0.2069 - accuracy: 0.9470\n",
            "Epoch 77: val_loss did not improve from 1.79354\n",
            "25/25 [==============================] - 0s 19ms/step - loss: 0.2061 - accuracy: 0.9486 - val_loss: 2.8922 - val_accuracy: 0.5950\n",
            "Epoch 78/100\n",
            "25/25 [==============================] - ETA: 0s - loss: 0.1956 - accuracy: 0.9599\n",
            "Epoch 78: val_loss did not improve from 1.79354\n",
            "25/25 [==============================] - 0s 19ms/step - loss: 0.1956 - accuracy: 0.9599 - val_loss: 3.2333 - val_accuracy: 0.5950\n",
            "Epoch 79/100\n",
            "24/25 [===========================>..] - ETA: 0s - loss: 0.3123 - accuracy: 0.9219\n",
            "Epoch 79: val_loss did not improve from 1.79354\n",
            "25/25 [==============================] - 0s 19ms/step - loss: 0.3122 - accuracy: 0.9236 - val_loss: 2.9935 - val_accuracy: 0.6000\n",
            "Epoch 80/100\n",
            "25/25 [==============================] - ETA: 0s - loss: 0.3294 - accuracy: 0.9148\n",
            "Epoch 80: val_loss did not improve from 1.79354\n",
            "25/25 [==============================] - 0s 18ms/step - loss: 0.3294 - accuracy: 0.9148 - val_loss: 2.5080 - val_accuracy: 0.6000\n",
            "Epoch 81/100\n",
            "24/25 [===========================>..] - ETA: 0s - loss: 0.2750 - accuracy: 0.9375\n",
            "Epoch 81: val_loss did not improve from 1.79354\n",
            "25/25 [==============================] - 0s 20ms/step - loss: 0.2802 - accuracy: 0.9348 - val_loss: 2.9141 - val_accuracy: 0.5950\n",
            "Epoch 82/100\n",
            "25/25 [==============================] - ETA: 0s - loss: 0.2965 - accuracy: 0.9236\n",
            "Epoch 82: val_loss did not improve from 1.79354\n",
            "25/25 [==============================] - 0s 17ms/step - loss: 0.2965 - accuracy: 0.9236 - val_loss: 2.6382 - val_accuracy: 0.6200\n",
            "Epoch 83/100\n",
            "24/25 [===========================>..] - ETA: 0s - loss: 0.3286 - accuracy: 0.9232\n",
            "Epoch 83: val_loss did not improve from 1.79354\n",
            "25/25 [==============================] - 0s 19ms/step - loss: 0.3230 - accuracy: 0.9248 - val_loss: 2.5322 - val_accuracy: 0.6150\n",
            "Epoch 84/100\n",
            "25/25 [==============================] - ETA: 0s - loss: 0.3109 - accuracy: 0.9160\n",
            "Epoch 84: val_loss did not improve from 1.79354\n",
            "25/25 [==============================] - 0s 19ms/step - loss: 0.3109 - accuracy: 0.9160 - val_loss: 2.4786 - val_accuracy: 0.6100\n",
            "Epoch 85/100\n",
            "25/25 [==============================] - ETA: 0s - loss: 0.2584 - accuracy: 0.9348\n",
            "Epoch 85: val_loss did not improve from 1.79354\n",
            "25/25 [==============================] - 0s 17ms/step - loss: 0.2584 - accuracy: 0.9348 - val_loss: 2.6666 - val_accuracy: 0.6150\n",
            "Epoch 86/100\n",
            "24/25 [===========================>..] - ETA: 0s - loss: 0.1890 - accuracy: 0.9505\n",
            "Epoch 86: val_loss did not improve from 1.79354\n",
            "25/25 [==============================] - 0s 17ms/step - loss: 0.1870 - accuracy: 0.9524 - val_loss: 2.6198 - val_accuracy: 0.6050\n",
            "Epoch 87/100\n",
            "24/25 [===========================>..] - ETA: 0s - loss: 0.1583 - accuracy: 0.9596\n",
            "Epoch 87: val_loss did not improve from 1.79354\n",
            "25/25 [==============================] - 0s 19ms/step - loss: 0.1621 - accuracy: 0.9574 - val_loss: 2.9097 - val_accuracy: 0.6150\n",
            "Epoch 88/100\n",
            "25/25 [==============================] - ETA: 0s - loss: 0.2146 - accuracy: 0.9386\n",
            "Epoch 88: val_loss did not improve from 1.79354\n",
            "25/25 [==============================] - 0s 19ms/step - loss: 0.2146 - accuracy: 0.9386 - val_loss: 2.9997 - val_accuracy: 0.6000\n",
            "Epoch 89/100\n",
            "24/25 [===========================>..] - ETA: 0s - loss: 0.1999 - accuracy: 0.9414\n",
            "Epoch 89: val_loss did not improve from 1.79354\n",
            "25/25 [==============================] - 0s 19ms/step - loss: 0.1940 - accuracy: 0.9424 - val_loss: 2.9205 - val_accuracy: 0.6300\n",
            "Epoch 90/100\n",
            "23/25 [==========================>...] - ETA: 0s - loss: 0.2216 - accuracy: 0.9321\n",
            "Epoch 90: val_loss did not improve from 1.79354\n",
            "25/25 [==============================] - 1s 20ms/step - loss: 0.2259 - accuracy: 0.9311 - val_loss: 3.5568 - val_accuracy: 0.5800\n",
            "Epoch 91/100\n",
            "25/25 [==============================] - ETA: 0s - loss: 0.3037 - accuracy: 0.9323\n",
            "Epoch 91: val_loss did not improve from 1.79354\n",
            "25/25 [==============================] - 1s 21ms/step - loss: 0.3037 - accuracy: 0.9323 - val_loss: 3.0059 - val_accuracy: 0.6300\n",
            "Epoch 92/100\n",
            "25/25 [==============================] - ETA: 0s - loss: 0.3459 - accuracy: 0.9073\n",
            "Epoch 92: val_loss did not improve from 1.79354\n",
            "25/25 [==============================] - 1s 25ms/step - loss: 0.3459 - accuracy: 0.9073 - val_loss: 2.6893 - val_accuracy: 0.5900\n",
            "Epoch 93/100\n",
            "24/25 [===========================>..] - ETA: 0s - loss: 0.3567 - accuracy: 0.9128\n",
            "Epoch 93: val_loss did not improve from 1.79354\n",
            "25/25 [==============================] - 1s 26ms/step - loss: 0.3593 - accuracy: 0.9135 - val_loss: 2.5284 - val_accuracy: 0.6000\n",
            "Epoch 94/100\n",
            "25/25 [==============================] - ETA: 0s - loss: 0.3555 - accuracy: 0.9110\n",
            "Epoch 94: val_loss did not improve from 1.79354\n",
            "25/25 [==============================] - 1s 26ms/step - loss: 0.3555 - accuracy: 0.9110 - val_loss: 2.6354 - val_accuracy: 0.5750\n",
            "Epoch 95/100\n",
            "24/25 [===========================>..] - ETA: 0s - loss: 0.2858 - accuracy: 0.9297\n",
            "Epoch 95: val_loss did not improve from 1.79354\n",
            "25/25 [==============================] - 1s 26ms/step - loss: 0.2840 - accuracy: 0.9311 - val_loss: 2.4931 - val_accuracy: 0.6250\n",
            "Epoch 96/100\n",
            "23/25 [==========================>...] - ETA: 0s - loss: 0.3199 - accuracy: 0.9185\n",
            "Epoch 96: val_loss did not improve from 1.79354\n",
            "25/25 [==============================] - 1s 26ms/step - loss: 0.3239 - accuracy: 0.9148 - val_loss: 2.5748 - val_accuracy: 0.6000\n",
            "Epoch 97/100\n",
            "23/25 [==========================>...] - ETA: 0s - loss: 0.2755 - accuracy: 0.9457\n",
            "Epoch 97: val_loss did not improve from 1.79354\n",
            "25/25 [==============================] - 1s 25ms/step - loss: 0.2614 - accuracy: 0.9474 - val_loss: 2.5091 - val_accuracy: 0.6000\n",
            "Epoch 98/100\n",
            "24/25 [===========================>..] - ETA: 0s - loss: 0.2058 - accuracy: 0.9557\n",
            "Epoch 98: val_loss did not improve from 1.79354\n",
            "25/25 [==============================] - 0s 19ms/step - loss: 0.2071 - accuracy: 0.9536 - val_loss: 2.5435 - val_accuracy: 0.6150\n",
            "Epoch 99/100\n",
            "23/25 [==========================>...] - ETA: 0s - loss: 0.2226 - accuracy: 0.9402\n",
            "Epoch 99: val_loss did not improve from 1.79354\n",
            "25/25 [==============================] - 0s 18ms/step - loss: 0.2096 - accuracy: 0.9449 - val_loss: 2.4159 - val_accuracy: 0.6200\n",
            "Epoch 100/100\n",
            "24/25 [===========================>..] - ETA: 0s - loss: 0.2075 - accuracy: 0.9609\n",
            "Epoch 100: val_loss did not improve from 1.79354\n",
            "25/25 [==============================] - 0s 20ms/step - loss: 0.2087 - accuracy: 0.9586 - val_loss: 2.6192 - val_accuracy: 0.6150\n",
            "Training completed in time:  0:00:52.123618\n"
          ]
        }
      ]
    },
    {
      "cell_type": "code",
      "source": [
        "model.evaluate(x_test,y_test, verbose=0)"
      ],
      "metadata": {
        "colab": {
          "base_uri": "https://localhost:8080/"
        },
        "id": "gReyEwZdmiY3",
        "outputId": "3f393c95-d8e7-4fd8-e01a-47624d2db21d"
      },
      "execution_count": 32,
      "outputs": [
        {
          "output_type": "execute_result",
          "data": {
            "text/plain": [
              "[2.6191952228546143, 0.6150000095367432]"
            ]
          },
          "metadata": {},
          "execution_count": 32
        }
      ]
    },
    {
      "cell_type": "code",
      "source": [
        "pd.DataFrame(history.history).plot(figsize=(12,6))\n",
        "\n",
        "plt.show()"
      ],
      "metadata": {
        "colab": {
          "base_uri": "https://localhost:8080/",
          "height": 522
        },
        "id": "MRGSrM-umsoe",
        "outputId": "65890275-7d72-45d8-a147-9e4426c93866"
      },
      "execution_count": 33,
      "outputs": [
        {
          "output_type": "display_data",
          "data": {
            "text/plain": [
              "<Figure size 1200x600 with 1 Axes>"
            ],
            "image/png": "[encoded data removed]"
          },
          "metadata": {}
        }
      ]
    },
    {
      "cell_type": "code",
      "source": [
        "predictions = model.predict(x_test)\n",
        "predicted_classes = np.argmax(predictions, axis=1)"
      ],
      "metadata": {
        "colab": {
          "base_uri": "https://localhost:8080/"
        },
        "id": "vzr8e7f4nq4x",
        "outputId": "62244994-5563-4f29-de8d-6becd5e18a0e"
      },
      "execution_count": 35,
      "outputs": [
        {
          "output_type": "stream",
          "name": "stdout",
          "text": [
            "7/7 [==============================] - 1s 14ms/step\n"
          ]
        }
      ]
    },
    {
      "cell_type": "code",
      "source": [
        "model.predict(x_test).argmax(axis=1)"
      ],
      "metadata": {
        "colab": {
          "base_uri": "https://localhost:8080/"
        },
        "id": "KO_CcM1hn0U6",
        "outputId": "531657fa-cba6-433d-aec8-8a5a45b8c88d"
      },
      "execution_count": 36,
      "outputs": [
        {
          "output_type": "stream",
          "name": "stdout",
          "text": [
            "7/7 [==============================] - 0s 5ms/step\n"
          ]
        },
        {
          "output_type": "execute_result",
          "data": {
            "text/plain": [
              "array([9, 7, 0, 3, 6, 7, 5, 3, 8, 2, 6, 4, 1, 1, 5, 7, 6, 5, 5, 0, 8, 5,\n",
              "       8, 0, 1, 7, 5, 5, 8, 6, 7, 4, 0, 0, 6, 6, 9, 5, 2, 7, 9, 0, 9, 3,\n",
              "       0, 8, 4, 3, 5, 6, 5, 8, 6, 5, 0, 2, 9, 2, 3, 6, 3, 8, 9, 9, 7, 9,\n",
              "       1, 4, 9, 1, 6, 4, 2, 9, 4, 5, 5, 4, 6, 0, 8, 6, 8, 7, 8, 5, 8, 8,\n",
              "       4, 2, 4, 0, 9, 4, 6, 7, 7, 5, 0, 0, 5, 5, 4, 8, 1, 4, 7, 4, 1, 6,\n",
              "       0, 4, 8, 4, 6, 2, 4, 6, 3, 5, 4, 8, 2, 9, 0, 7, 1, 2, 0, 7, 8, 9,\n",
              "       5, 4, 1, 2, 8, 4, 3, 2, 9, 3, 0, 0, 3, 0, 4, 3, 4, 9, 6, 8, 7, 8,\n",
              "       8, 3, 4, 4, 4, 8, 9, 5, 9, 4, 7, 1, 7, 9, 7, 5, 8, 6, 1, 7, 7, 1,\n",
              "       4, 7, 2, 7, 0, 3, 6, 4, 8, 8, 0, 6, 9, 7, 9, 6, 1, 2, 8, 9, 6, 2,\n",
              "       2, 1])"
            ]
          },
          "metadata": {},
          "execution_count": 36
        }
      ]
    },
    {
      "cell_type": "code",
      "source": [
        "filename=\"/content/drive/MyDrive/Colab Notebooks/Data/genres_original/classical/classical.00000.wav\"\n",
        "audio, sample_rate=librosa.load(filename, res_type='kaiser_fast')\n",
        "\n",
        "mfccs_features=librosa.feature.mfcc(y=audio, sr=sample_rate, n_mfcc=40)\n",
        "\n",
        "mfccs_scaled_features=np.mean(mfccs_features.T, axis=0)\n",
        "\n",
        "print(mfccs_scaled_features)\n",
        "\n",
        "mfccs_scaled_features=mfccs_scaled_features.reshape(1,-1)\n",
        "print(mfccs_scaled_features)\n",
        "\n",
        "print(mfccs_scaled_features.shape)\n",
        "\n",
        "#predicted_label=model.predict_classes(mfccs_scaled_features)\n",
        "\n",
        "predicted_probabilities = model.predict(mfccs_scaled_features)\n",
        "predicted_label = np.argmax(predicted_probabilities, axis=1)\n",
        "\n",
        "print(predicted_label)\n",
        "\n",
        "prediction_class=labelencoder.inverse_transform(predicted_label)\n",
        "print(prediction_class)"
      ],
      "metadata": {
        "colab": {
          "base_uri": "https://localhost:8080/"
        },
        "id": "vU1Yp2_joF1v",
        "outputId": "76ef72fa-5589-485a-9ecc-8718ee906b54"
      },
      "execution_count": 39,
      "outputs": [
        {
          "output_type": "stream",
          "name": "stdout",
          "text": [
            "[-2.6821857e+02  1.3568166e+02 -3.4056377e+01  2.5616007e+01\n",
            " -1.2971723e+01  1.7903263e+01 -9.9908600e+00  5.6340880e+00\n",
            " -1.4143673e+01  7.4931846e+00 -3.9764395e+00  8.2583084e+00\n",
            " -1.3336012e+00 -3.5799515e-01  1.0361007e+00  3.7968221e+00\n",
            " -3.1847084e-01  1.7730546e+00  8.8872135e-01 -8.3507782e-01\n",
            " -2.3076391e+00  1.6423593e-01  4.2131858e+00  6.9724417e-01\n",
            " -1.0828630e+00 -3.4678130e+00  3.2551622e+00 -4.1300349e+00\n",
            " -1.1310977e+00  2.3876605e+00  3.7769880e+00 -3.8947051e+00\n",
            " -3.3239865e+00 -1.2544751e+00  4.1171594e+00  5.9669638e-01\n",
            " -1.8132236e+00 -1.0317802e+00 -1.4721324e+00 -3.8261578e+00]\n",
            "[[-2.6821857e+02  1.3568166e+02 -3.4056377e+01  2.5616007e+01\n",
            "  -1.2971723e+01  1.7903263e+01 -9.9908600e+00  5.6340880e+00\n",
            "  -1.4143673e+01  7.4931846e+00 -3.9764395e+00  8.2583084e+00\n",
            "  -1.3336012e+00 -3.5799515e-01  1.0361007e+00  3.7968221e+00\n",
            "  -3.1847084e-01  1.7730546e+00  8.8872135e-01 -8.3507782e-01\n",
            "  -2.3076391e+00  1.6423593e-01  4.2131858e+00  6.9724417e-01\n",
            "  -1.0828630e+00 -3.4678130e+00  3.2551622e+00 -4.1300349e+00\n",
            "  -1.1310977e+00  2.3876605e+00  3.7769880e+00 -3.8947051e+00\n",
            "  -3.3239865e+00 -1.2544751e+00  4.1171594e+00  5.9669638e-01\n",
            "  -1.8132236e+00 -1.0317802e+00 -1.4721324e+00 -3.8261578e+00]]\n",
            "(1, 40)\n",
            "1/1 [==============================] - 0s 35ms/step\n",
            "[1]\n",
            "['classical']\n"
          ]
        }
      ]
    }
  ]
}