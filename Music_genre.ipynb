{
  "nbformat": 4,
  "nbformat_minor": 0,
  "metadata": {
    "colab": {
      "provenance": [],
      "authorship_tag": "ABX9TyOrG/2ZktdWXKXuwUP9W69l",
      "include_colab_link": true
    },
    "kernelspec": {
      "name": "python3",
      "display_name": "Python 3"
    },
    "language_info": {
      "name": "python"
    }
  },
  "cells": [
    {
      "cell_type": "markdown",
      "metadata": {
        "id": "view-in-github",
        "colab_type": "text"
      },
      "source": [
        "<a href=\"https://colab.research.google.com/github/Priti-Anandrao-Shinde/WisdomSprouts_Internship2024/blob/main/Music_genre.ipynb\" target=\"_parent\"><img src=\"https://colab.research.google.com/assets/colab-badge.svg\" alt=\"Open In Colab\"/></a>"
      ]
    },
    {
      "cell_type": "code",
      "execution_count": null,
      "metadata": {
        "colab": {
          "base_uri": "https://localhost:8080/"
        },
        "id": "8tzGGlSpC6uE",
        "outputId": "114de88e-dadd-4098-9c5f-de7afd24578a"
      },
      "outputs": [
        {
          "output_type": "stream",
          "name": "stdout",
          "text": [
            "Mounted at /content/drive\n"
          ]
        }
      ],
      "source": [
        "from google.colab import drive\n",
        "drive.mount('/content/drive')"
      ]
    },
    {
      "cell_type": "code",
      "source": [
        "import os\n",
        "Root = \"/content/drive/MyDrive/Colab Notebooks/Data\"\n",
        "os.chdir(Root)"
      ],
      "metadata": {
        "id": "dck0NMp8IEu-"
      },
      "execution_count": null,
      "outputs": []
    },
    {
      "cell_type": "code",
      "source": [
        "import pandas as pd\n",
        "import numpy as numpy\n",
        "import os\n",
        "import IPython.display as ipd\n",
        "import librosa\n",
        "import librosa.display\n",
        "import matplotlib.pyplot as plt\n",
        "%matplotlib inline"
      ],
      "metadata": {
        "id": "FIcl0KbVIQ-P"
      },
      "execution_count": null,
      "outputs": []
    },
    {
      "cell_type": "code",
      "source": [
        "audio_dataset_path = '/content/drive/MyDrive/Colab Notebooks/Data/genres_original'\n",
        "metadata = pd.read_csv('/content/drive/MyDrive/Colab Notebooks/Data/features_30_sec.csv')\n",
        "metadata.head()"
      ],
      "metadata": {
        "colab": {
          "base_uri": "https://localhost:8080/",
          "height": 255
        },
        "id": "tbPxHBPTIbRe",
        "outputId": "5381f043-a275-44cd-ff23-f5de99412c08"
      },
      "execution_count": null,
      "outputs": [
        {
          "output_type": "execute_result",
          "data": {
            "text/plain": [
              "          filename  length  chroma_stft_mean  chroma_stft_var  rms_mean  \\\n",
              "0  blues.00000.wav  661794          0.350088         0.088757  0.130228   \n",
              "1  blues.00001.wav  661794          0.340914         0.094980  0.095948   \n",
              "2  blues.00002.wav  661794          0.363637         0.085275  0.175570   \n",
              "3  blues.00003.wav  661794          0.404785         0.093999  0.141093   \n",
              "4  blues.00004.wav  661794          0.308526         0.087841  0.091529   \n",
              "\n",
              "    rms_var  spectral_centroid_mean  spectral_centroid_var  \\\n",
              "0  0.002827             1784.165850          129774.064525   \n",
              "1  0.002373             1530.176679          375850.073649   \n",
              "2  0.002746             1552.811865          156467.643368   \n",
              "3  0.006346             1070.106615          184355.942417   \n",
              "4  0.002303             1835.004266          343399.939274   \n",
              "\n",
              "   spectral_bandwidth_mean  spectral_bandwidth_var  ...  mfcc16_var  \\\n",
              "0              2002.449060            85882.761315  ...   52.420910   \n",
              "1              2039.036516           213843.755497  ...   55.356403   \n",
              "2              1747.702312            76254.192257  ...   40.598766   \n",
              "3              1596.412872           166441.494769  ...   44.427753   \n",
              "4              1748.172116            88445.209036  ...   86.099236   \n",
              "\n",
              "   mfcc17_mean  mfcc17_var  mfcc18_mean  mfcc18_var  mfcc19_mean  mfcc19_var  \\\n",
              "0    -1.690215   36.524071    -0.408979   41.597103    -2.303523   55.062923   \n",
              "1    -0.731125   60.314529     0.295073   48.120598    -0.283518   51.106190   \n",
              "2    -7.729093   47.639427    -1.816407   52.382141    -3.439720   46.639660   \n",
              "3    -3.319597   50.206673     0.636965   37.319130    -0.619121   37.259739   \n",
              "4    -5.454034   75.269707    -0.916874   53.613918    -4.404827   62.910812   \n",
              "\n",
              "   mfcc20_mean  mfcc20_var  label  \n",
              "0     1.221291   46.936035  blues  \n",
              "1     0.531217   45.786282  blues  \n",
              "2    -2.231258   30.573025  blues  \n",
              "3    -3.407448   31.949339  blues  \n",
              "4   -11.703234   55.195160  blues  \n",
              "\n",
              "[5 rows x 60 columns]"
            ],
            "text/html": [
              "\n",
              "  <div id=\"df-f3aa4c4e-e184-40a8-92bf-503423a7a0c2\" class=\"colab-df-container\">\n",
              "    <div>\n",
              "<style scoped>\n",
              "    .dataframe tbody tr th:only-of-type {\n",
              "        vertical-align: middle;\n",
              "    }\n",
              "\n",
              "    .dataframe tbody tr th {\n",
              "        vertical-align: top;\n",
              "    }\n",
              "\n",
              "    .dataframe thead th {\n",
              "        text-align: right;\n",
              "    }\n",
              "</style>\n",
              "<table border=\"1\" class=\"dataframe\">\n",
              "  <thead>\n",
              "    <tr style=\"text-align: right;\">\n",
              "      <th></th>\n",
              "      <th>filename</th>\n",
              "      <th>length</th>\n",
              "      <th>chroma_stft_mean</th>\n",
              "      <th>chroma_stft_var</th>\n",
              "      <th>rms_mean</th>\n",
              "      <th>rms_var</th>\n",
              "      <th>spectral_centroid_mean</th>\n",
              "      <th>spectral_centroid_var</th>\n",
              "      <th>spectral_bandwidth_mean</th>\n",
              "      <th>spectral_bandwidth_var</th>\n",
              "      <th>...</th>\n",
              "      <th>mfcc16_var</th>\n",
              "      <th>mfcc17_mean</th>\n",
              "      <th>mfcc17_var</th>\n",
              "      <th>mfcc18_mean</th>\n",
              "      <th>mfcc18_var</th>\n",
              "      <th>mfcc19_mean</th>\n",
              "      <th>mfcc19_var</th>\n",
              "      <th>mfcc20_mean</th>\n",
              "      <th>mfcc20_var</th>\n",
              "      <th>label</th>\n",
              "    </tr>\n",
              "  </thead>\n",
              "  <tbody>\n",
              "    <tr>\n",
              "      <th>0</th>\n",
              "      <td>blues.00000.wav</td>\n",
              "      <td>661794</td>\n",
              "      <td>0.350088</td>\n",
              "      <td>0.088757</td>\n",
              "      <td>0.130228</td>\n",
              "      <td>0.002827</td>\n",
              "      <td>1784.165850</td>\n",
              "      <td>129774.064525</td>\n",
              "      <td>2002.449060</td>\n",
              "      <td>85882.761315</td>\n",
              "      <td>...</td>\n",
              "      <td>52.420910</td>\n",
              "      <td>-1.690215</td>\n",
              "      <td>36.524071</td>\n",
              "      <td>-0.408979</td>\n",
              "      <td>41.597103</td>\n",
              "      <td>-2.303523</td>\n",
              "      <td>55.062923</td>\n",
              "      <td>1.221291</td>\n",
              "      <td>46.936035</td>\n",
              "      <td>blues</td>\n",
              "    </tr>\n",
              "    <tr>\n",
              "      <th>1</th>\n",
              "      <td>blues.00001.wav</td>\n",
              "      <td>661794</td>\n",
              "      <td>0.340914</td>\n",
              "      <td>0.094980</td>\n",
              "      <td>0.095948</td>\n",
              "      <td>0.002373</td>\n",
              "      <td>1530.176679</td>\n",
              "      <td>375850.073649</td>\n",
              "      <td>2039.036516</td>\n",
              "      <td>213843.755497</td>\n",
              "      <td>...</td>\n",
              "      <td>55.356403</td>\n",
              "      <td>-0.731125</td>\n",
              "      <td>60.314529</td>\n",
              "      <td>0.295073</td>\n",
              "      <td>48.120598</td>\n",
              "      <td>-0.283518</td>\n",
              "      <td>51.106190</td>\n",
              "      <td>0.531217</td>\n",
              "      <td>45.786282</td>\n",
              "      <td>blues</td>\n",
              "    </tr>\n",
              "    <tr>\n",
              "      <th>2</th>\n",
              "      <td>blues.00002.wav</td>\n",
              "      <td>661794</td>\n",
              "      <td>0.363637</td>\n",
              "      <td>0.085275</td>\n",
              "      <td>0.175570</td>\n",
              "      <td>0.002746</td>\n",
              "      <td>1552.811865</td>\n",
              "      <td>156467.643368</td>\n",
              "      <td>1747.702312</td>\n",
              "      <td>76254.192257</td>\n",
              "      <td>...</td>\n",
              "      <td>40.598766</td>\n",
              "      <td>-7.729093</td>\n",
              "      <td>47.639427</td>\n",
              "      <td>-1.816407</td>\n",
              "      <td>52.382141</td>\n",
              "      <td>-3.439720</td>\n",
              "      <td>46.639660</td>\n",
              "      <td>-2.231258</td>\n",
              "      <td>30.573025</td>\n",
              "      <td>blues</td>\n",
              "    </tr>\n",
              "    <tr>\n",
              "      <th>3</th>\n",
              "      <td>blues.00003.wav</td>\n",
              "      <td>661794</td>\n",
              "      <td>0.404785</td>\n",
              "      <td>0.093999</td>\n",
              "      <td>0.141093</td>\n",
              "      <td>0.006346</td>\n",
              "      <td>1070.106615</td>\n",
              "      <td>184355.942417</td>\n",
              "      <td>1596.412872</td>\n",
              "      <td>166441.494769</td>\n",
              "      <td>...</td>\n",
              "      <td>44.427753</td>\n",
              "      <td>-3.319597</td>\n",
              "      <td>50.206673</td>\n",
              "      <td>0.636965</td>\n",
              "      <td>37.319130</td>\n",
              "      <td>-0.619121</td>\n",
              "      <td>37.259739</td>\n",
              "      <td>-3.407448</td>\n",
              "      <td>31.949339</td>\n",
              "      <td>blues</td>\n",
              "    </tr>\n",
              "    <tr>\n",
              "      <th>4</th>\n",
              "      <td>blues.00004.wav</td>\n",
              "      <td>661794</td>\n",
              "      <td>0.308526</td>\n",
              "      <td>0.087841</td>\n",
              "      <td>0.091529</td>\n",
              "      <td>0.002303</td>\n",
              "      <td>1835.004266</td>\n",
              "      <td>343399.939274</td>\n",
              "      <td>1748.172116</td>\n",
              "      <td>88445.209036</td>\n",
              "      <td>...</td>\n",
              "      <td>86.099236</td>\n",
              "      <td>-5.454034</td>\n",
              "      <td>75.269707</td>\n",
              "      <td>-0.916874</td>\n",
              "      <td>53.613918</td>\n",
              "      <td>-4.404827</td>\n",
              "      <td>62.910812</td>\n",
              "      <td>-11.703234</td>\n",
              "      <td>55.195160</td>\n",
              "      <td>blues</td>\n",
              "    </tr>\n",
              "  </tbody>\n",
              "</table>\n",
              "<p>5 rows × 60 columns</p>\n",
              "</div>\n",
              "    <div class=\"colab-df-buttons\">\n",
              "\n",
              "  <div class=\"colab-df-container\">\n",
              "    <button class=\"colab-df-convert\" onclick=\"convertToInteractive('df-f3aa4c4e-e184-40a8-92bf-503423a7a0c2')\"\n",
              "            title=\"Convert this dataframe to an interactive table.\"\n",
              "            style=\"display:none;\">\n",
              "\n",
              "  <svg xmlns=\"http://www.w3.org/2000/svg\" height=\"24px\" viewBox=\"0 -960 960 960\">\n",
              "    <path d=\"M120-120v-720h720v720H120Zm60-500h600v-160H180v160Zm220 220h160v-160H400v160Zm0 220h160v-160H400v160ZM180-400h160v-160H180v160Zm440 0h160v-160H620v160ZM180-180h160v-160H180v160Zm440 0h160v-160H620v160Z\"/>\n",
              "  </svg>\n",
              "    </button>\n",
              "\n",
              "  <style>\n",
              "    .colab-df-container {\n",
              "      display:flex;\n",
              "      gap: 12px;\n",
              "    }\n",
              "\n",
              "    .colab-df-convert {\n",
              "      background-color: #E8F0FE;\n",
              "      border: none;\n",
              "      border-radius: 50%;\n",
              "      cursor: pointer;\n",
              "      display: none;\n",
              "      fill: #1967D2;\n",
              "      height: 32px;\n",
              "      padding: 0 0 0 0;\n",
              "      width: 32px;\n",
              "    }\n",
              "\n",
              "    .colab-df-convert:hover {\n",
              "      background-color: #E2EBFA;\n",
              "      box-shadow: 0px 1px 2px rgba(60, 64, 67, 0.3), 0px 1px 3px 1px rgba(60, 64, 67, 0.15);\n",
              "      fill: #174EA6;\n",
              "    }\n",
              "\n",
              "    .colab-df-buttons div {\n",
              "      margin-bottom: 4px;\n",
              "    }\n",
              "\n",
              "    [theme=dark] .colab-df-convert {\n",
              "      background-color: #3B4455;\n",
              "      fill: #D2E3FC;\n",
              "    }\n",
              "\n",
              "    [theme=dark] .colab-df-convert:hover {\n",
              "      background-color: #434B5C;\n",
              "      box-shadow: 0px 1px 3px 1px rgba(0, 0, 0, 0.15);\n",
              "      filter: drop-shadow(0px 1px 2px rgba(0, 0, 0, 0.3));\n",
              "      fill: #FFFFFF;\n",
              "    }\n",
              "  </style>\n",
              "\n",
              "    <script>\n",
              "      const buttonEl =\n",
              "        document.querySelector('#df-f3aa4c4e-e184-40a8-92bf-503423a7a0c2 button.colab-df-convert');\n",
              "      buttonEl.style.display =\n",
              "        google.colab.kernel.accessAllowed ? 'block' : 'none';\n",
              "\n",
              "      async function convertToInteractive(key) {\n",
              "        const element = document.querySelector('#df-f3aa4c4e-e184-40a8-92bf-503423a7a0c2');\n",
              "        const dataTable =\n",
              "          await google.colab.kernel.invokeFunction('convertToInteractive',\n",
              "                                                    [key], {});\n",
              "        if (!dataTable) return;\n",
              "\n",
              "        const docLinkHtml = 'Like what you see? Visit the ' +\n",
              "          '<a target=\"_blank\" href=https://colab.research.google.com/notebooks/data_table.ipynb>data table notebook</a>'\n",
              "          + ' to learn more about interactive tables.';\n",
              "        element.innerHTML = '';\n",
              "        dataTable['output_type'] = 'display_data';\n",
              "        await google.colab.output.renderOutput(dataTable, element);\n",
              "        const docLink = document.createElement('div');\n",
              "        docLink.innerHTML = docLinkHtml;\n",
              "        element.appendChild(docLink);\n",
              "      }\n",
              "    </script>\n",
              "  </div>\n",
              "\n",
              "\n",
              "<div id=\"df-970b18bd-ab01-48a5-a813-92bfc37f462f\">\n",
              "  <button class=\"colab-df-quickchart\" onclick=\"quickchart('df-970b18bd-ab01-48a5-a813-92bfc37f462f')\"\n",
              "            title=\"Suggest charts\"\n",
              "            style=\"display:none;\">\n",
              "\n",
              "<svg xmlns=\"http://www.w3.org/2000/svg\" height=\"24px\"viewBox=\"0 0 24 24\"\n",
              "     width=\"24px\">\n",
              "    <g>\n",
              "        <path d=\"M19 3H5c-1.1 0-2 .9-2 2v14c0 1.1.9 2 2 2h14c1.1 0 2-.9 2-2V5c0-1.1-.9-2-2-2zM9 17H7v-7h2v7zm4 0h-2V7h2v10zm4 0h-2v-4h2v4z\"/>\n",
              "    </g>\n",
              "</svg>\n",
              "  </button>\n",
              "\n",
              "<style>\n",
              "  .colab-df-quickchart {\n",
              "      --bg-color: #E8F0FE;\n",
              "      --fill-color: #1967D2;\n",
              "      --hover-bg-color: #E2EBFA;\n",
              "      --hover-fill-color: #174EA6;\n",
              "      --disabled-fill-color: #AAA;\n",
              "      --disabled-bg-color: #DDD;\n",
              "  }\n",
              "\n",
              "  [theme=dark] .colab-df-quickchart {\n",
              "      --bg-color: #3B4455;\n",
              "      --fill-color: #D2E3FC;\n",
              "      --hover-bg-color: #434B5C;\n",
              "      --hover-fill-color: #FFFFFF;\n",
              "      --disabled-bg-color: #3B4455;\n",
              "      --disabled-fill-color: #666;\n",
              "  }\n",
              "\n",
              "  .colab-df-quickchart {\n",
              "    background-color: var(--bg-color);\n",
              "    border: none;\n",
              "    border-radius: 50%;\n",
              "    cursor: pointer;\n",
              "    display: none;\n",
              "    fill: var(--fill-color);\n",
              "    height: 32px;\n",
              "    padding: 0;\n",
              "    width: 32px;\n",
              "  }\n",
              "\n",
              "  .colab-df-quickchart:hover {\n",
              "    background-color: var(--hover-bg-color);\n",
              "    box-shadow: 0 1px 2px rgba(60, 64, 67, 0.3), 0 1px 3px 1px rgba(60, 64, 67, 0.15);\n",
              "    fill: var(--button-hover-fill-color);\n",
              "  }\n",
              "\n",
              "  .colab-df-quickchart-complete:disabled,\n",
              "  .colab-df-quickchart-complete:disabled:hover {\n",
              "    background-color: var(--disabled-bg-color);\n",
              "    fill: var(--disabled-fill-color);\n",
              "    box-shadow: none;\n",
              "  }\n",
              "\n",
              "  .colab-df-spinner {\n",
              "    border: 2px solid var(--fill-color);\n",
              "    border-color: transparent;\n",
              "    border-bottom-color: var(--fill-color);\n",
              "    animation:\n",
              "      spin 1s steps(1) infinite;\n",
              "  }\n",
              "\n",
              "  @keyframes spin {\n",
              "    0% {\n",
              "      border-color: transparent;\n",
              "      border-bottom-color: var(--fill-color);\n",
              "      border-left-color: var(--fill-color);\n",
              "    }\n",
              "    20% {\n",
              "      border-color: transparent;\n",
              "      border-left-color: var(--fill-color);\n",
              "      border-top-color: var(--fill-color);\n",
              "    }\n",
              "    30% {\n",
              "      border-color: transparent;\n",
              "      border-left-color: var(--fill-color);\n",
              "      border-top-color: var(--fill-color);\n",
              "      border-right-color: var(--fill-color);\n",
              "    }\n",
              "    40% {\n",
              "      border-color: transparent;\n",
              "      border-right-color: var(--fill-color);\n",
              "      border-top-color: var(--fill-color);\n",
              "    }\n",
              "    60% {\n",
              "      border-color: transparent;\n",
              "      border-right-color: var(--fill-color);\n",
              "    }\n",
              "    80% {\n",
              "      border-color: transparent;\n",
              "      border-right-color: var(--fill-color);\n",
              "      border-bottom-color: var(--fill-color);\n",
              "    }\n",
              "    90% {\n",
              "      border-color: transparent;\n",
              "      border-bottom-color: var(--fill-color);\n",
              "    }\n",
              "  }\n",
              "</style>\n",
              "\n",
              "  <script>\n",
              "    async function quickchart(key) {\n",
              "      const quickchartButtonEl =\n",
              "        document.querySelector('#' + key + ' button');\n",
              "      quickchartButtonEl.disabled = true;  // To prevent multiple clicks.\n",
              "      quickchartButtonEl.classList.add('colab-df-spinner');\n",
              "      try {\n",
              "        const charts = await google.colab.kernel.invokeFunction(\n",
              "            'suggestCharts', [key], {});\n",
              "      } catch (error) {\n",
              "        console.error('Error during call to suggestCharts:', error);\n",
              "      }\n",
              "      quickchartButtonEl.classList.remove('colab-df-spinner');\n",
              "      quickchartButtonEl.classList.add('colab-df-quickchart-complete');\n",
              "    }\n",
              "    (() => {\n",
              "      let quickchartButtonEl =\n",
              "        document.querySelector('#df-970b18bd-ab01-48a5-a813-92bfc37f462f button');\n",
              "      quickchartButtonEl.style.display =\n",
              "        google.colab.kernel.accessAllowed ? 'block' : 'none';\n",
              "    })();\n",
              "  </script>\n",
              "</div>\n",
              "\n",
              "    </div>\n",
              "  </div>\n"
            ]
          },
          "metadata": {},
          "execution_count": 8
        }
      ]
    },
    {
      "cell_type": "code",
      "source": [
        "def features_extractor(file):\n",
        "    audio,sample_rate = librosa.load(file_name, res_type='kaiser_fast')\n",
        "    mfccs_features = librosa.feature.mfcc(y=audio, sr=sample_rate, n_mfcc=40)\n",
        "    mfccs_scaled_features = np.mean(mfccs_features.T,axis=0)\n",
        "\n",
        "    return mfccs_scaled_features"
      ],
      "metadata": {
        "id": "aJrt2LpvJ06P"
      },
      "execution_count": null,
      "outputs": []
    },
    {
      "cell_type": "code",
      "source": [
        "if 552 in metadata.index:\n",
        "    metadata.drop(labels=552, axis=0, inplace=True)\n",
        "    print(\"Label 552 dropped successfully.\")\n",
        "else:\n",
        "    print(\"Label 552 not found in the DataFrame's index.\")"
      ],
      "metadata": {
        "colab": {
          "base_uri": "https://localhost:8080/"
        },
        "id": "c2JNckQYJ-uR",
        "outputId": "d02c911f-1283-482e-b709-a0c98d0583ab"
      },
      "execution_count": null,
      "outputs": [
        {
          "output_type": "stream",
          "name": "stdout",
          "text": [
            "Label 552 dropped successfully.\n"
          ]
        }
      ]
    },
    {
      "cell_type": "code",
      "source": [
        "import numpy as np"
      ],
      "metadata": {
        "id": "9rtHDRTMjelb"
      },
      "execution_count": null,
      "outputs": []
    },
    {
      "cell_type": "code",
      "source": [
        "from tqdm import tqdm\n",
        "extracted_features=[]\n",
        "for index_num,row in tqdm(metadata.iterrows()):\n",
        "  try:\n",
        "    final_class_labels=row[\"label\"]\n",
        "    file_name = os.path.join(os.path.abspath(audio_dataset_path), final_class_labels+'/',str(row[\"filename\"]))\n",
        "    data=features_extractor(file_name)\n",
        "    extracted_features.append([data, final_class_labels])\n",
        "  except Exception as e:\n",
        "    print(f\"Error: {e}\")\n",
        "    continue"
      ],
      "metadata": {
        "colab": {
          "base_uri": "https://localhost:8080/"
        },
        "id": "TWOXOU-kNo62",
        "outputId": "b3ac1469-ecdd-4eed-b67b-85befe59ed78"
      },
      "execution_count": null,
      "outputs": [
        {
          "output_type": "stream",
          "name": "stderr",
          "text": [
            "552it [01:09,  9.87it/s]<ipython-input-9-ed7575c205ae>:2: UserWarning: PySoundFile failed. Trying audioread instead.\n",
            "  audio,sample_rate = librosa.load(file_name, res_type='kaiser_fast')\n",
            "/usr/local/lib/python3.10/dist-packages/librosa/core/audio.py:183: FutureWarning: librosa.core.audio.__audioread_load\n",
            "\tDeprecated as of librosa version 0.10.0.\n",
            "\tIt will be removed in librosa version 1.0.\n",
            "  y, sr_native = __audioread_load(path, offset, duration, dtype)\n",
            "556it [01:10,  7.65it/s]"
          ]
        },
        {
          "output_type": "stream",
          "name": "stdout",
          "text": [
            "Error: \n"
          ]
        },
        {
          "output_type": "stream",
          "name": "stderr",
          "text": [
            "999it [02:05,  7.99it/s]\n"
          ]
        }
      ]
    },
    {
      "cell_type": "code",
      "source": [
        "import os\n",
        "\n",
        "file_path = '/content/drive/MyDrive/Colab Notebooks/Data/genres_original'\n",
        "\n",
        "if os.path.exists(file_path):\n",
        "    # Your code to work with the file\n",
        "    print(\"Yes Exist\")\n",
        "else:\n",
        "    print(f\"The file '{file_path}' does not exist.\")"
      ],
      "metadata": {
        "colab": {
          "base_uri": "https://localhost:8080/"
        },
        "id": "WHQohXMSQA1T",
        "outputId": "bbd53d5a-1b71-43f6-9c1c-41ba772ca57d"
      },
      "execution_count": null,
      "outputs": [
        {
          "output_type": "stream",
          "name": "stdout",
          "text": [
            "Yes Exist\n"
          ]
        }
      ]
    },
    {
      "cell_type": "code",
      "source": [
        "import librosa\n",
        "print(librosa.__version__)"
      ],
      "metadata": {
        "colab": {
          "base_uri": "https://localhost:8080/"
        },
        "id": "ZyxS2VbaQUjo",
        "outputId": "fbd092c8-45cb-400f-813a-af9989ffd205"
      },
      "execution_count": null,
      "outputs": [
        {
          "output_type": "stream",
          "name": "stdout",
          "text": [
            "0.10.1\n"
          ]
        }
      ]
    },
    {
      "cell_type": "code",
      "source": [
        "pip install --upgrade librosa"
      ],
      "metadata": {
        "colab": {
          "base_uri": "https://localhost:8080/"
        },
        "id": "ReLbH7zLQiTe",
        "outputId": "bee2abe2-fad8-41eb-e5ef-fc4f591eb35a"
      },
      "execution_count": null,
      "outputs": [
        {
          "output_type": "stream",
          "name": "stdout",
          "text": [
            "Requirement already satisfied: librosa in /usr/local/lib/python3.10/dist-packages (0.10.1)\n",
            "Requirement already satisfied: audioread>=2.1.9 in /usr/local/lib/python3.10/dist-packages (from librosa) (3.0.1)\n",
            "Requirement already satisfied: numpy!=1.22.0,!=1.22.1,!=1.22.2,>=1.20.3 in /usr/local/lib/python3.10/dist-packages (from librosa) (1.23.5)\n",
            "Requirement already satisfied: scipy>=1.2.0 in /usr/local/lib/python3.10/dist-packages (from librosa) (1.11.4)\n",
            "Requirement already satisfied: scikit-learn>=0.20.0 in /usr/local/lib/python3.10/dist-packages (from librosa) (1.2.2)\n",
            "Requirement already satisfied: joblib>=0.14 in /usr/local/lib/python3.10/dist-packages (from librosa) (1.3.2)\n",
            "Requirement already satisfied: decorator>=4.3.0 in /usr/local/lib/python3.10/dist-packages (from librosa) (4.4.2)\n",
            "Requirement already satisfied: numba>=0.51.0 in /usr/local/lib/python3.10/dist-packages (from librosa) (0.58.1)\n",
            "Requirement already satisfied: soundfile>=0.12.1 in /usr/local/lib/python3.10/dist-packages (from librosa) (0.12.1)\n",
            "Requirement already satisfied: pooch>=1.0 in /usr/local/lib/python3.10/dist-packages (from librosa) (1.8.0)\n",
            "Requirement already satisfied: soxr>=0.3.2 in /usr/local/lib/python3.10/dist-packages (from librosa) (0.3.7)\n",
            "Requirement already satisfied: typing-extensions>=4.1.1 in /usr/local/lib/python3.10/dist-packages (from librosa) (4.5.0)\n",
            "Requirement already satisfied: lazy-loader>=0.1 in /usr/local/lib/python3.10/dist-packages (from librosa) (0.3)\n",
            "Requirement already satisfied: msgpack>=1.0 in /usr/local/lib/python3.10/dist-packages (from librosa) (1.0.7)\n",
            "Requirement already satisfied: llvmlite<0.42,>=0.41.0dev0 in /usr/local/lib/python3.10/dist-packages (from numba>=0.51.0->librosa) (0.41.1)\n",
            "Requirement already satisfied: platformdirs>=2.5.0 in /usr/local/lib/python3.10/dist-packages (from pooch>=1.0->librosa) (4.1.0)\n",
            "Requirement already satisfied: packaging>=20.0 in /usr/local/lib/python3.10/dist-packages (from pooch>=1.0->librosa) (23.2)\n",
            "Requirement already satisfied: requests>=2.19.0 in /usr/local/lib/python3.10/dist-packages (from pooch>=1.0->librosa) (2.31.0)\n",
            "Requirement already satisfied: threadpoolctl>=2.0.0 in /usr/local/lib/python3.10/dist-packages (from scikit-learn>=0.20.0->librosa) (3.2.0)\n",
            "Requirement already satisfied: cffi>=1.0 in /usr/local/lib/python3.10/dist-packages (from soundfile>=0.12.1->librosa) (1.16.0)\n",
            "Requirement already satisfied: pycparser in /usr/local/lib/python3.10/dist-packages (from cffi>=1.0->soundfile>=0.12.1->librosa) (2.21)\n",
            "Requirement already satisfied: charset-normalizer<4,>=2 in /usr/local/lib/python3.10/dist-packages (from requests>=2.19.0->pooch>=1.0->librosa) (3.3.2)\n",
            "Requirement already satisfied: idna<4,>=2.5 in /usr/local/lib/python3.10/dist-packages (from requests>=2.19.0->pooch>=1.0->librosa) (3.6)\n",
            "Requirement already satisfied: urllib3<3,>=1.21.1 in /usr/local/lib/python3.10/dist-packages (from requests>=2.19.0->pooch>=1.0->librosa) (2.0.7)\n",
            "Requirement already satisfied: certifi>=2017.4.17 in /usr/local/lib/python3.10/dist-packages (from requests>=2.19.0->pooch>=1.0->librosa) (2023.11.17)\n"
          ]
        }
      ]
    },
    {
      "cell_type": "code",
      "source": [
        "extracted_features_df = pd.DataFrame(extracted_features, columns=['feature', 'class'])\n",
        "\n",
        "extracted_features_df.head()"
      ],
      "metadata": {
        "colab": {
          "base_uri": "https://localhost:8080/",
          "height": 206
        },
        "id": "v5nCkZZ6d_Nw",
        "outputId": "2ec7004e-3196-43c7-d996-243d09ef0db2"
      },
      "execution_count": null,
      "outputs": [
        {
          "output_type": "execute_result",
          "data": {
            "text/plain": [
              "                                             feature  class\n",
              "0  [-113.59882, 121.57067, -19.162262, 42.36394, ...  blues\n",
              "1  [-207.52383, 123.98514, 8.94702, 35.86715, 2.9...  blues\n",
              "2  [-90.757164, 140.44087, -29.084547, 31.686693,...  blues\n",
              "3  [-199.57513, 150.0861, 5.663404, 26.855282, 1....  blues\n",
              "4  [-160.35417, 126.20948, -35.581394, 22.139256,...  blues"
            ],
            "text/html": [
              "\n",
              "  <div id=\"df-6283f5a3-c208-437e-8c9d-7f7401975403\" class=\"colab-df-container\">\n",
              "    <div>\n",
              "<style scoped>\n",
              "    .dataframe tbody tr th:only-of-type {\n",
              "        vertical-align: middle;\n",
              "    }\n",
              "\n",
              "    .dataframe tbody tr th {\n",
              "        vertical-align: top;\n",
              "    }\n",
              "\n",
              "    .dataframe thead th {\n",
              "        text-align: right;\n",
              "    }\n",
              "</style>\n",
              "<table border=\"1\" class=\"dataframe\">\n",
              "  <thead>\n",
              "    <tr style=\"text-align: right;\">\n",
              "      <th></th>\n",
              "      <th>feature</th>\n",
              "      <th>class</th>\n",
              "    </tr>\n",
              "  </thead>\n",
              "  <tbody>\n",
              "    <tr>\n",
              "      <th>0</th>\n",
              "      <td>[-113.59882, 121.57067, -19.162262, 42.36394, ...</td>\n",
              "      <td>blues</td>\n",
              "    </tr>\n",
              "    <tr>\n",
              "      <th>1</th>\n",
              "      <td>[-207.52383, 123.98514, 8.94702, 35.86715, 2.9...</td>\n",
              "      <td>blues</td>\n",
              "    </tr>\n",
              "    <tr>\n",
              "      <th>2</th>\n",
              "      <td>[-90.757164, 140.44087, -29.084547, 31.686693,...</td>\n",
              "      <td>blues</td>\n",
              "    </tr>\n",
              "    <tr>\n",
              "      <th>3</th>\n",
              "      <td>[-199.57513, 150.0861, 5.663404, 26.855282, 1....</td>\n",
              "      <td>blues</td>\n",
              "    </tr>\n",
              "    <tr>\n",
              "      <th>4</th>\n",
              "      <td>[-160.35417, 126.20948, -35.581394, 22.139256,...</td>\n",
              "      <td>blues</td>\n",
              "    </tr>\n",
              "  </tbody>\n",
              "</table>\n",
              "</div>\n",
              "    <div class=\"colab-df-buttons\">\n",
              "\n",
              "  <div class=\"colab-df-container\">\n",
              "    <button class=\"colab-df-convert\" onclick=\"convertToInteractive('df-6283f5a3-c208-437e-8c9d-7f7401975403')\"\n",
              "            title=\"Convert this dataframe to an interactive table.\"\n",
              "            style=\"display:none;\">\n",
              "\n",
              "  <svg xmlns=\"http://www.w3.org/2000/svg\" height=\"24px\" viewBox=\"0 -960 960 960\">\n",
              "    <path d=\"M120-120v-720h720v720H120Zm60-500h600v-160H180v160Zm220 220h160v-160H400v160Zm0 220h160v-160H400v160ZM180-400h160v-160H180v160Zm440 0h160v-160H620v160ZM180-180h160v-160H180v160Zm440 0h160v-160H620v160Z\"/>\n",
              "  </svg>\n",
              "    </button>\n",
              "\n",
              "  <style>\n",
              "    .colab-df-container {\n",
              "      display:flex;\n",
              "      gap: 12px;\n",
              "    }\n",
              "\n",
              "    .colab-df-convert {\n",
              "      background-color: #E8F0FE;\n",
              "      border: none;\n",
              "      border-radius: 50%;\n",
              "      cursor: pointer;\n",
              "      display: none;\n",
              "      fill: #1967D2;\n",
              "      height: 32px;\n",
              "      padding: 0 0 0 0;\n",
              "      width: 32px;\n",
              "    }\n",
              "\n",
              "    .colab-df-convert:hover {\n",
              "      background-color: #E2EBFA;\n",
              "      box-shadow: 0px 1px 2px rgba(60, 64, 67, 0.3), 0px 1px 3px 1px rgba(60, 64, 67, 0.15);\n",
              "      fill: #174EA6;\n",
              "    }\n",
              "\n",
              "    .colab-df-buttons div {\n",
              "      margin-bottom: 4px;\n",
              "    }\n",
              "\n",
              "    [theme=dark] .colab-df-convert {\n",
              "      background-color: #3B4455;\n",
              "      fill: #D2E3FC;\n",
              "    }\n",
              "\n",
              "    [theme=dark] .colab-df-convert:hover {\n",
              "      background-color: #434B5C;\n",
              "      box-shadow: 0px 1px 3px 1px rgba(0, 0, 0, 0.15);\n",
              "      filter: drop-shadow(0px 1px 2px rgba(0, 0, 0, 0.3));\n",
              "      fill: #FFFFFF;\n",
              "    }\n",
              "  </style>\n",
              "\n",
              "    <script>\n",
              "      const buttonEl =\n",
              "        document.querySelector('#df-6283f5a3-c208-437e-8c9d-7f7401975403 button.colab-df-convert');\n",
              "      buttonEl.style.display =\n",
              "        google.colab.kernel.accessAllowed ? 'block' : 'none';\n",
              "\n",
              "      async function convertToInteractive(key) {\n",
              "        const element = document.querySelector('#df-6283f5a3-c208-437e-8c9d-7f7401975403');\n",
              "        const dataTable =\n",
              "          await google.colab.kernel.invokeFunction('convertToInteractive',\n",
              "                                                    [key], {});\n",
              "        if (!dataTable) return;\n",
              "\n",
              "        const docLinkHtml = 'Like what you see? Visit the ' +\n",
              "          '<a target=\"_blank\" href=https://colab.research.google.com/notebooks/data_table.ipynb>data table notebook</a>'\n",
              "          + ' to learn more about interactive tables.';\n",
              "        element.innerHTML = '';\n",
              "        dataTable['output_type'] = 'display_data';\n",
              "        await google.colab.output.renderOutput(dataTable, element);\n",
              "        const docLink = document.createElement('div');\n",
              "        docLink.innerHTML = docLinkHtml;\n",
              "        element.appendChild(docLink);\n",
              "      }\n",
              "    </script>\n",
              "  </div>\n",
              "\n",
              "\n",
              "<div id=\"df-511531ca-61d7-4789-a150-e04ad71e0817\">\n",
              "  <button class=\"colab-df-quickchart\" onclick=\"quickchart('df-511531ca-61d7-4789-a150-e04ad71e0817')\"\n",
              "            title=\"Suggest charts\"\n",
              "            style=\"display:none;\">\n",
              "\n",
              "<svg xmlns=\"http://www.w3.org/2000/svg\" height=\"24px\"viewBox=\"0 0 24 24\"\n",
              "     width=\"24px\">\n",
              "    <g>\n",
              "        <path d=\"M19 3H5c-1.1 0-2 .9-2 2v14c0 1.1.9 2 2 2h14c1.1 0 2-.9 2-2V5c0-1.1-.9-2-2-2zM9 17H7v-7h2v7zm4 0h-2V7h2v10zm4 0h-2v-4h2v4z\"/>\n",
              "    </g>\n",
              "</svg>\n",
              "  </button>\n",
              "\n",
              "<style>\n",
              "  .colab-df-quickchart {\n",
              "      --bg-color: #E8F0FE;\n",
              "      --fill-color: #1967D2;\n",
              "      --hover-bg-color: #E2EBFA;\n",
              "      --hover-fill-color: #174EA6;\n",
              "      --disabled-fill-color: #AAA;\n",
              "      --disabled-bg-color: #DDD;\n",
              "  }\n",
              "\n",
              "  [theme=dark] .colab-df-quickchart {\n",
              "      --bg-color: #3B4455;\n",
              "      --fill-color: #D2E3FC;\n",
              "      --hover-bg-color: #434B5C;\n",
              "      --hover-fill-color: #FFFFFF;\n",
              "      --disabled-bg-color: #3B4455;\n",
              "      --disabled-fill-color: #666;\n",
              "  }\n",
              "\n",
              "  .colab-df-quickchart {\n",
              "    background-color: var(--bg-color);\n",
              "    border: none;\n",
              "    border-radius: 50%;\n",
              "    cursor: pointer;\n",
              "    display: none;\n",
              "    fill: var(--fill-color);\n",
              "    height: 32px;\n",
              "    padding: 0;\n",
              "    width: 32px;\n",
              "  }\n",
              "\n",
              "  .colab-df-quickchart:hover {\n",
              "    background-color: var(--hover-bg-color);\n",
              "    box-shadow: 0 1px 2px rgba(60, 64, 67, 0.3), 0 1px 3px 1px rgba(60, 64, 67, 0.15);\n",
              "    fill: var(--button-hover-fill-color);\n",
              "  }\n",
              "\n",
              "  .colab-df-quickchart-complete:disabled,\n",
              "  .colab-df-quickchart-complete:disabled:hover {\n",
              "    background-color: var(--disabled-bg-color);\n",
              "    fill: var(--disabled-fill-color);\n",
              "    box-shadow: none;\n",
              "  }\n",
              "\n",
              "  .colab-df-spinner {\n",
              "    border: 2px solid var(--fill-color);\n",
              "    border-color: transparent;\n",
              "    border-bottom-color: var(--fill-color);\n",
              "    animation:\n",
              "      spin 1s steps(1) infinite;\n",
              "  }\n",
              "\n",
              "  @keyframes spin {\n",
              "    0% {\n",
              "      border-color: transparent;\n",
              "      border-bottom-color: var(--fill-color);\n",
              "      border-left-color: var(--fill-color);\n",
              "    }\n",
              "    20% {\n",
              "      border-color: transparent;\n",
              "      border-left-color: var(--fill-color);\n",
              "      border-top-color: var(--fill-color);\n",
              "    }\n",
              "    30% {\n",
              "      border-color: transparent;\n",
              "      border-left-color: var(--fill-color);\n",
              "      border-top-color: var(--fill-color);\n",
              "      border-right-color: var(--fill-color);\n",
              "    }\n",
              "    40% {\n",
              "      border-color: transparent;\n",
              "      border-right-color: var(--fill-color);\n",
              "      border-top-color: var(--fill-color);\n",
              "    }\n",
              "    60% {\n",
              "      border-color: transparent;\n",
              "      border-right-color: var(--fill-color);\n",
              "    }\n",
              "    80% {\n",
              "      border-color: transparent;\n",
              "      border-right-color: var(--fill-color);\n",
              "      border-bottom-color: var(--fill-color);\n",
              "    }\n",
              "    90% {\n",
              "      border-color: transparent;\n",
              "      border-bottom-color: var(--fill-color);\n",
              "    }\n",
              "  }\n",
              "</style>\n",
              "\n",
              "  <script>\n",
              "    async function quickchart(key) {\n",
              "      const quickchartButtonEl =\n",
              "        document.querySelector('#' + key + ' button');\n",
              "      quickchartButtonEl.disabled = true;  // To prevent multiple clicks.\n",
              "      quickchartButtonEl.classList.add('colab-df-spinner');\n",
              "      try {\n",
              "        const charts = await google.colab.kernel.invokeFunction(\n",
              "            'suggestCharts', [key], {});\n",
              "      } catch (error) {\n",
              "        console.error('Error during call to suggestCharts:', error);\n",
              "      }\n",
              "      quickchartButtonEl.classList.remove('colab-df-spinner');\n",
              "      quickchartButtonEl.classList.add('colab-df-quickchart-complete');\n",
              "    }\n",
              "    (() => {\n",
              "      let quickchartButtonEl =\n",
              "        document.querySelector('#df-511531ca-61d7-4789-a150-e04ad71e0817 button');\n",
              "      quickchartButtonEl.style.display =\n",
              "        google.colab.kernel.accessAllowed ? 'block' : 'none';\n",
              "    })();\n",
              "  </script>\n",
              "</div>\n",
              "\n",
              "    </div>\n",
              "  </div>\n"
            ]
          },
          "metadata": {},
          "execution_count": 38
        }
      ]
    },
    {
      "cell_type": "code",
      "source": [
        "extracted_features_df['class'].value_counts()"
      ],
      "metadata": {
        "colab": {
          "base_uri": "https://localhost:8080/"
        },
        "id": "L-lfuFujeRgS",
        "outputId": "1f612a0e-373e-438c-e7de-3d6fb9d6e2a2"
      },
      "execution_count": null,
      "outputs": [
        {
          "output_type": "execute_result",
          "data": {
            "text/plain": [
              "blues        100\n",
              "classical    100\n",
              "country      100\n",
              "disco        100\n",
              "hiphop       100\n",
              "metal        100\n",
              "pop          100\n",
              "reggae       100\n",
              "rock         100\n",
              "jazz          98\n",
              "Name: class, dtype: int64"
            ]
          },
          "metadata": {},
          "execution_count": 39
        }
      ]
    },
    {
      "cell_type": "code",
      "source": [
        "import numpy as np"
      ],
      "metadata": {
        "id": "9YdPnyDaemJs"
      },
      "execution_count": null,
      "outputs": []
    },
    {
      "cell_type": "code",
      "source": [
        "x=np.array(extracted_features_df['feature'].tolist())\n",
        "y=np.array(extracted_features_df['class'].tolist())"
      ],
      "metadata": {
        "id": "S9DGHB8PeiaC"
      },
      "execution_count": null,
      "outputs": []
    },
    {
      "cell_type": "code",
      "source": [
        "x.shape"
      ],
      "metadata": {
        "colab": {
          "base_uri": "https://localhost:8080/"
        },
        "id": "IZ2v81P7e7OT",
        "outputId": "f5f246a4-c48e-4ed8-b193-18da78075979"
      },
      "execution_count": null,
      "outputs": [
        {
          "output_type": "execute_result",
          "data": {
            "text/plain": [
              "(998, 40)"
            ]
          },
          "metadata": {},
          "execution_count": 45
        }
      ]
    },
    {
      "cell_type": "code",
      "source": [
        "from tensorflow.keras.utils import to_categorical\n",
        "from sklearn.preprocessing import LabelEncoder\n",
        "labelencoder=LabelEncoder()\n",
        "y=to_categorical(labelencoder.fit_transform(y))"
      ],
      "metadata": {
        "id": "otVTUT2ekZWu"
      },
      "execution_count": null,
      "outputs": []
    },
    {
      "cell_type": "code",
      "source": [
        "y.shape"
      ],
      "metadata": {
        "colab": {
          "base_uri": "https://localhost:8080/"
        },
        "id": "E0pUvAoPkibu",
        "outputId": "44b9e282-b214-42d6-f948-9208a6b78a5c"
      },
      "execution_count": null,
      "outputs": [
        {
          "output_type": "execute_result",
          "data": {
            "text/plain": [
              "(998, 10)"
            ]
          },
          "metadata": {},
          "execution_count": 47
        }
      ]
    },
    {
      "cell_type": "code",
      "source": [
        "from sklearn.model_selection import train_test_split\n",
        "\n",
        "x_train,x_test,y_train,y_test=train_test_split(x,y,test_size=0.2,random_state=0)"
      ],
      "metadata": {
        "id": "t6q8yyOokoMC"
      },
      "execution_count": null,
      "outputs": []
    },
    {
      "cell_type": "code",
      "source": [
        "x_train"
      ],
      "metadata": {
        "colab": {
          "base_uri": "https://localhost:8080/"
        },
        "id": "LiuH1R0DktXv",
        "outputId": "ef19238f-ca48-4a6e-815b-383cca91e26d"
      },
      "execution_count": null,
      "outputs": [
        {
          "output_type": "execute_result",
          "data": {
            "text/plain": [
              "array([[-1.04723763e+02,  8.77537155e+01, -3.32488594e+01, ...,\n",
              "        -2.38248777e+00, -1.36347139e+00, -7.22123504e-01],\n",
              "       [-2.59909851e+02,  1.23193169e+02, -6.39508581e+00, ...,\n",
              "        -6.73697758e+00, -3.90829611e+00,  3.18117642e+00],\n",
              "       [-1.15755066e+02,  6.70791245e+01,  1.88346851e+00, ...,\n",
              "        -3.43661404e+00, -1.73870683e+00, -4.68738452e-02],\n",
              "       ...,\n",
              "       [-1.25020428e+01,  9.13173676e+01, -2.30759563e+01, ...,\n",
              "        -4.04763985e+00, -1.77685583e+00, -1.75431299e+00],\n",
              "       [-2.37930965e+01,  8.29835587e+01,  2.32049274e+00, ...,\n",
              "         1.40550280e+00,  4.16220456e-01, -3.45980562e-02],\n",
              "       [-9.63197021e+01,  9.09497147e+01, -3.22195396e+01, ...,\n",
              "        -2.41483903e+00, -1.62698299e-01, -1.84749973e+00]], dtype=float32)"
            ]
          },
          "metadata": {},
          "execution_count": 49
        }
      ]
    },
    {
      "cell_type": "code",
      "source": [
        "print(x_train.shape)\n",
        "print(x_test.shape)\n",
        "print(y_train.shape)\n",
        "print(y_test.shape)"
      ],
      "metadata": {
        "colab": {
          "base_uri": "https://localhost:8080/"
        },
        "id": "6wrO3lj2kyuK",
        "outputId": "5d980c09-de75-4ab8-ac5c-eee0df553141"
      },
      "execution_count": null,
      "outputs": [
        {
          "output_type": "stream",
          "name": "stdout",
          "text": [
            "(798, 40)\n",
            "(200, 40)\n",
            "(798, 10)\n",
            "(200, 10)\n"
          ]
        }
      ]
    },
    {
      "cell_type": "code",
      "source": [
        "import tensorflow as tf\n",
        "print(tf.__version__)"
      ],
      "metadata": {
        "colab": {
          "base_uri": "https://localhost:8080/"
        },
        "id": "ea3_NFvIk37H",
        "outputId": "1c383813-46ee-4f05-8b6d-407924744c1c"
      },
      "execution_count": null,
      "outputs": [
        {
          "output_type": "stream",
          "name": "stdout",
          "text": [
            "2.15.0\n"
          ]
        }
      ]
    },
    {
      "cell_type": "code",
      "source": [
        "from tensorflow.keras.models import Sequential\n",
        "from tensorflow.keras.layers import Dense, Dropout, Activation, Flatten\n",
        "from tensorflow.keras.optimizers import Adam\n",
        "from sklearn import metrics"
      ],
      "metadata": {
        "id": "uSv9NTk7k8ob"
      },
      "execution_count": null,
      "outputs": []
    },
    {
      "cell_type": "code",
      "source": [
        "num_labels=y.shape[1]"
      ],
      "metadata": {
        "id": "RjxtzQn5lJ6s"
      },
      "execution_count": null,
      "outputs": []
    },
    {
      "cell_type": "code",
      "source": [
        "model=Sequential()\n",
        "model.add(Dense(1024,input_shape=(40,), activation=\"relu\"))\n",
        "model.add(Dropout(0.3))\n",
        "model.add(Dense (512, activation=\"relu\"))\n",
        "model.add(Dropout(0.3))\n",
        "model.add(Dense(256, activation=\"relu\"))\n",
        "model.add(Dropout(0.3))\n",
        "model.add(Dense(128, activation=\"relu\"))\n",
        "model.add(Dropout (0.3))\n",
        "model.add(Dense(64, activation=\"relu\"))\n",
        "model.add(Dropout (0.3))\n",
        "model.add(Dense(32, activation=\"relu\"))\n",
        "model.add(Dropout (0.3))\n",
        "\n",
        "###final layer\n",
        "model.add(Dense(num_labels, activation=\"softmax\"))"
      ],
      "metadata": {
        "id": "K47In8PNlki2"
      },
      "execution_count": null,
      "outputs": []
    },
    {
      "cell_type": "code",
      "source": [
        "model.summary()"
      ],
      "metadata": {
        "colab": {
          "base_uri": "https://localhost:8080/"
        },
        "id": "AENvSmS3lvhn",
        "outputId": "0902ee0b-14b8-4478-c6fd-787e77f1fdf8"
      },
      "execution_count": null,
      "outputs": [
        {
          "output_type": "stream",
          "name": "stdout",
          "text": [
            "Model: \"sequential\"\n",
            "_________________________________________________________________\n",
            " Layer (type)                Output Shape              Param #   \n",
            "=================================================================\n",
            " dense (Dense)               (None, 1024)              41984     \n",
            "                                                                 \n",
            " dropout (Dropout)           (None, 1024)              0         \n",
            "                                                                 \n",
            " dense_1 (Dense)             (None, 512)               524800    \n",
            "                                                                 \n",
            " dropout_1 (Dropout)         (None, 512)               0         \n",
            "                                                                 \n",
            " dense_2 (Dense)             (None, 256)               131328    \n",
            "                                                                 \n",
            " dropout_2 (Dropout)         (None, 256)               0         \n",
            "                                                                 \n",
            " dense_3 (Dense)             (None, 128)               32896     \n",
            "                                                                 \n",
            " dropout_3 (Dropout)         (None, 128)               0         \n",
            "                                                                 \n",
            " dense_4 (Dense)             (None, 64)                8256      \n",
            "                                                                 \n",
            " dropout_4 (Dropout)         (None, 64)                0         \n",
            "                                                                 \n",
            " dense_5 (Dense)             (None, 32)                2080      \n",
            "                                                                 \n",
            " dropout_5 (Dropout)         (None, 32)                0         \n",
            "                                                                 \n",
            " dense_6 (Dense)             (None, 10)                330       \n",
            "                                                                 \n",
            "=================================================================\n",
            "Total params: 741674 (2.83 MB)\n",
            "Trainable params: 741674 (2.83 MB)\n",
            "Non-trainable params: 0 (0.00 Byte)\n",
            "_________________________________________________________________\n"
          ]
        }
      ]
    },
    {
      "cell_type": "code",
      "source": [
        "model.compile(loss='categorical_crossentropy',metrics=['accuracy'],optimizer=\"adam\")"
      ],
      "metadata": {
        "id": "GPFAx_fnl4OH"
      },
      "execution_count": null,
      "outputs": []
    },
    {
      "cell_type": "code",
      "source": [
        "import time\n",
        "t=time.localtime()\n",
        "current_time=time.strftime(\"%H:%M:%S\", t)"
      ],
      "metadata": {
        "id": "tfcjy_TAl8u3"
      },
      "execution_count": null,
      "outputs": []
    },
    {
      "cell_type": "code",
      "source": [
        "## Trianing my model\n",
        "\n",
        "from tensorflow.keras.callbacks import ModelCheckpoint\n",
        "\n",
        "from datetime import datetime\n",
        "\n",
        "num_epochs = 100\n",
        "\n",
        "num_batch_size = 32\n",
        "\n",
        "checkpointer = ModelCheckpoint(filepath=f'saved_models/audio_classification_{current_time}.hdf5',\n",
        "                               verbose=1, save_best_only=True)\n",
        "\n",
        "start=datetime.now()\n",
        "\n",
        "history=model.fit(x_train, y_train, batch_size=num_batch_size, epochs=num_epochs, validation_data=(x_test, y_test), callbacks=[checkpointer], verbose=1)\n",
        "\n",
        "duration = datetime.now()-start\n",
        "\n",
        "print(\"Training completed in time: \", duration)"
      ],
      "metadata": {
        "colab": {
          "base_uri": "https://localhost:8080/"
        },
        "id": "U6E9NscmmL62",
        "outputId": "dfa1bba5-a83d-40e2-b1e1-5b0bbdb059e9"
      },
      "execution_count": null,
      "outputs": [
        {
          "output_type": "stream",
          "name": "stdout",
          "text": [
            "Epoch 1/100\n",
            "25/25 [==============================] - ETA: 0s - loss: 4.7857 - accuracy: 0.1266\n",
            "Epoch 1: val_loss improved from inf to 2.28284, saving model to saved_models/audio_classification_17:21:49.hdf5\n",
            "25/25 [==============================] - 8s 56ms/step - loss: 4.7857 - accuracy: 0.1266 - val_loss: 2.2828 - val_accuracy: 0.1150\n",
            "Epoch 2/100\n",
            " 1/25 [>.............................] - ETA: 0s - loss: 2.7504 - accuracy: 0.1250"
          ]
        },
        {
          "output_type": "stream",
          "name": "stderr",
          "text": [
            "/usr/local/lib/python3.10/dist-packages/keras/src/engine/training.py:3103: UserWarning: You are saving your model as an HDF5 file via `model.save()`. This file format is considered legacy. We recommend using instead the native Keras format, e.g. `model.save('my_model.keras')`.\n",
            "  saving_api.save_model(\n"
          ]
        },
        {
          "output_type": "stream",
          "name": "stdout",
          "text": [
            "25/25 [==============================] - ETA: 0s - loss: 2.7072 - accuracy: 0.1228\n",
            "Epoch 2: val_loss did not improve from 2.28284\n",
            "25/25 [==============================] - 1s 23ms/step - loss: 2.7072 - accuracy: 0.1228 - val_loss: 2.2843 - val_accuracy: 0.1800\n",
            "Epoch 3/100\n",
            "25/25 [==============================] - ETA: 0s - loss: 2.4597 - accuracy: 0.1241\n",
            "Epoch 3: val_loss improved from 2.28284 to 2.26315, saving model to saved_models/audio_classification_17:21:49.hdf5\n",
            "25/25 [==============================] - 1s 27ms/step - loss: 2.4597 - accuracy: 0.1241 - val_loss: 2.2632 - val_accuracy: 0.2150\n",
            "Epoch 4/100\n",
            "25/25 [==============================] - ETA: 0s - loss: 2.3656 - accuracy: 0.1316\n",
            "Epoch 4: val_loss improved from 2.26315 to 2.25423, saving model to saved_models/audio_classification_17:21:49.hdf5\n",
            "25/25 [==============================] - 1s 29ms/step - loss: 2.3656 - accuracy: 0.1316 - val_loss: 2.2542 - val_accuracy: 0.2050\n",
            "Epoch 5/100\n",
            "22/25 [=========================>....] - ETA: 0s - loss: 2.3101 - accuracy: 0.1207\n",
            "Epoch 5: val_loss did not improve from 2.25423\n",
            "25/25 [==============================] - 1s 23ms/step - loss: 2.3114 - accuracy: 0.1266 - val_loss: 2.2656 - val_accuracy: 0.2000\n",
            "Epoch 6/100\n",
            "25/25 [==============================] - ETA: 0s - loss: 2.3234 - accuracy: 0.1253\n",
            "Epoch 6: val_loss improved from 2.25423 to 2.24376, saving model to saved_models/audio_classification_17:21:49.hdf5\n",
            "25/25 [==============================] - 1s 27ms/step - loss: 2.3234 - accuracy: 0.1253 - val_loss: 2.2438 - val_accuracy: 0.2000\n",
            "Epoch 7/100\n",
            "25/25 [==============================] - ETA: 0s - loss: 2.2801 - accuracy: 0.1617\n",
            "Epoch 7: val_loss improved from 2.24376 to 2.22826, saving model to saved_models/audio_classification_17:21:49.hdf5\n",
            "25/25 [==============================] - 1s 26ms/step - loss: 2.2801 - accuracy: 0.1617 - val_loss: 2.2283 - val_accuracy: 0.2100\n",
            "Epoch 8/100\n",
            "25/25 [==============================] - ETA: 0s - loss: 2.2511 - accuracy: 0.1566\n",
            "Epoch 8: val_loss improved from 2.22826 to 2.19504, saving model to saved_models/audio_classification_17:21:49.hdf5\n",
            "25/25 [==============================] - 1s 25ms/step - loss: 2.2511 - accuracy: 0.1566 - val_loss: 2.1950 - val_accuracy: 0.2400\n",
            "Epoch 9/100\n",
            "25/25 [==============================] - ETA: 0s - loss: 2.1759 - accuracy: 0.1754\n",
            "Epoch 9: val_loss improved from 2.19504 to 2.14633, saving model to saved_models/audio_classification_17:21:49.hdf5\n",
            "25/25 [==============================] - 1s 28ms/step - loss: 2.1759 - accuracy: 0.1754 - val_loss: 2.1463 - val_accuracy: 0.2200\n",
            "Epoch 10/100\n",
            "24/25 [===========================>..] - ETA: 0s - loss: 2.2069 - accuracy: 0.1823\n",
            "Epoch 10: val_loss did not improve from 2.14633\n",
            "25/25 [==============================] - 1s 23ms/step - loss: 2.2087 - accuracy: 0.1805 - val_loss: 2.1531 - val_accuracy: 0.2800\n",
            "Epoch 11/100\n",
            "24/25 [===========================>..] - ETA: 0s - loss: 2.1638 - accuracy: 0.1927\n",
            "Epoch 11: val_loss improved from 2.14633 to 2.05549, saving model to saved_models/audio_classification_17:21:49.hdf5\n",
            "25/25 [==============================] - 1s 26ms/step - loss: 2.1641 - accuracy: 0.1917 - val_loss: 2.0555 - val_accuracy: 0.2750\n",
            "Epoch 12/100\n",
            "24/25 [===========================>..] - ETA: 0s - loss: 2.1485 - accuracy: 0.2109\n",
            "Epoch 12: val_loss did not improve from 2.05549\n",
            "25/25 [==============================] - 1s 28ms/step - loss: 2.1432 - accuracy: 0.2130 - val_loss: 2.0931 - val_accuracy: 0.2850\n",
            "Epoch 13/100\n",
            "24/25 [===========================>..] - ETA: 0s - loss: 2.1250 - accuracy: 0.2135\n",
            "Epoch 13: val_loss improved from 2.05549 to 2.03927, saving model to saved_models/audio_classification_17:21:49.hdf5\n",
            "25/25 [==============================] - 1s 34ms/step - loss: 2.1182 - accuracy: 0.2143 - val_loss: 2.0393 - val_accuracy: 0.2200\n",
            "Epoch 14/100\n",
            "23/25 [==========================>...] - ETA: 0s - loss: 2.0967 - accuracy: 0.2500\n",
            "Epoch 14: val_loss improved from 2.03927 to 2.01787, saving model to saved_models/audio_classification_17:21:49.hdf5\n",
            "25/25 [==============================] - 1s 35ms/step - loss: 2.0876 - accuracy: 0.2494 - val_loss: 2.0179 - val_accuracy: 0.2700\n",
            "Epoch 15/100\n",
            "24/25 [===========================>..] - ETA: 0s - loss: 2.1205 - accuracy: 0.2383\n",
            "Epoch 15: val_loss improved from 2.01787 to 1.96705, saving model to saved_models/audio_classification_17:21:49.hdf5\n",
            "25/25 [==============================] - 1s 35ms/step - loss: 2.1201 - accuracy: 0.2381 - val_loss: 1.9671 - val_accuracy: 0.3300\n",
            "Epoch 16/100\n",
            "23/25 [==========================>...] - ETA: 0s - loss: 2.0697 - accuracy: 0.2486\n",
            "Epoch 16: val_loss improved from 1.96705 to 1.96180, saving model to saved_models/audio_classification_17:21:49.hdf5\n",
            "25/25 [==============================] - 1s 33ms/step - loss: 2.0634 - accuracy: 0.2544 - val_loss: 1.9618 - val_accuracy: 0.2950\n",
            "Epoch 17/100\n",
            "24/25 [===========================>..] - ETA: 0s - loss: 2.0428 - accuracy: 0.2552\n",
            "Epoch 17: val_loss improved from 1.96180 to 1.91929, saving model to saved_models/audio_classification_17:21:49.hdf5\n",
            "25/25 [==============================] - 1s 34ms/step - loss: 2.0393 - accuracy: 0.2594 - val_loss: 1.9193 - val_accuracy: 0.3100\n",
            "Epoch 18/100\n",
            "23/25 [==========================>...] - ETA: 0s - loss: 2.0493 - accuracy: 0.2595\n",
            "Epoch 18: val_loss did not improve from 1.91929\n",
            "25/25 [==============================] - 1s 28ms/step - loss: 2.0506 - accuracy: 0.2619 - val_loss: 1.9481 - val_accuracy: 0.2950\n",
            "Epoch 19/100\n",
            "25/25 [==============================] - ETA: 0s - loss: 1.9868 - accuracy: 0.2607\n",
            "Epoch 19: val_loss did not improve from 1.91929\n",
            "25/25 [==============================] - 1s 27ms/step - loss: 1.9868 - accuracy: 0.2607 - val_loss: 1.9215 - val_accuracy: 0.3350\n",
            "Epoch 20/100\n",
            "23/25 [==========================>...] - ETA: 0s - loss: 1.9497 - accuracy: 0.2731\n",
            "Epoch 20: val_loss improved from 1.91929 to 1.84593, saving model to saved_models/audio_classification_17:21:49.hdf5\n",
            "25/25 [==============================] - 1s 23ms/step - loss: 1.9592 - accuracy: 0.2707 - val_loss: 1.8459 - val_accuracy: 0.3550\n",
            "Epoch 21/100\n",
            "22/25 [=========================>....] - ETA: 0s - loss: 1.9624 - accuracy: 0.3026\n",
            "Epoch 21: val_loss improved from 1.84593 to 1.80050, saving model to saved_models/audio_classification_17:21:49.hdf5\n",
            "25/25 [==============================] - 1s 28ms/step - loss: 1.9405 - accuracy: 0.3083 - val_loss: 1.8005 - val_accuracy: 0.3650\n",
            "Epoch 22/100\n",
            "23/25 [==========================>...] - ETA: 0s - loss: 1.8687 - accuracy: 0.3111\n",
            "Epoch 22: val_loss improved from 1.80050 to 1.79995, saving model to saved_models/audio_classification_17:21:49.hdf5\n",
            "25/25 [==============================] - 1s 23ms/step - loss: 1.8855 - accuracy: 0.3045 - val_loss: 1.7999 - val_accuracy: 0.3600\n",
            "Epoch 23/100\n",
            "25/25 [==============================] - ETA: 0s - loss: 1.9556 - accuracy: 0.3045\n",
            "Epoch 23: val_loss did not improve from 1.79995\n",
            "25/25 [==============================] - 0s 19ms/step - loss: 1.9556 - accuracy: 0.3045 - val_loss: 1.8715 - val_accuracy: 0.3150\n",
            "Epoch 24/100\n",
            "23/25 [==========================>...] - ETA: 0s - loss: 1.9029 - accuracy: 0.2976\n",
            "Epoch 24: val_loss improved from 1.79995 to 1.77199, saving model to saved_models/audio_classification_17:21:49.hdf5\n",
            "25/25 [==============================] - 1s 25ms/step - loss: 1.9048 - accuracy: 0.2945 - val_loss: 1.7720 - val_accuracy: 0.3700\n",
            "Epoch 25/100\n",
            "22/25 [=========================>....] - ETA: 0s - loss: 1.8519 - accuracy: 0.3097\n",
            "Epoch 25: val_loss did not improve from 1.77199\n",
            "25/25 [==============================] - 0s 19ms/step - loss: 1.8397 - accuracy: 0.3145 - val_loss: 1.7945 - val_accuracy: 0.3300\n",
            "Epoch 26/100\n",
            "25/25 [==============================] - ETA: 0s - loss: 1.8159 - accuracy: 0.3471\n",
            "Epoch 26: val_loss improved from 1.77199 to 1.73645, saving model to saved_models/audio_classification_17:21:49.hdf5\n",
            "25/25 [==============================] - 1s 26ms/step - loss: 1.8159 - accuracy: 0.3471 - val_loss: 1.7364 - val_accuracy: 0.4050\n",
            "Epoch 27/100\n",
            "23/25 [==========================>...] - ETA: 0s - loss: 1.7857 - accuracy: 0.3451\n",
            "Epoch 27: val_loss did not improve from 1.73645\n",
            "25/25 [==============================] - 1s 21ms/step - loss: 1.7957 - accuracy: 0.3459 - val_loss: 1.7597 - val_accuracy: 0.3600\n",
            "Epoch 28/100\n",
            "23/25 [==========================>...] - ETA: 0s - loss: 1.7797 - accuracy: 0.3329\n",
            "Epoch 28: val_loss improved from 1.73645 to 1.64489, saving model to saved_models/audio_classification_17:21:49.hdf5\n",
            "25/25 [==============================] - 1s 26ms/step - loss: 1.7824 - accuracy: 0.3358 - val_loss: 1.6449 - val_accuracy: 0.3750\n",
            "Epoch 29/100\n",
            "25/25 [==============================] - ETA: 0s - loss: 1.7332 - accuracy: 0.3509\n",
            "Epoch 29: val_loss did not improve from 1.64489\n",
            "25/25 [==============================] - 1s 20ms/step - loss: 1.7332 - accuracy: 0.3509 - val_loss: 1.6564 - val_accuracy: 0.3750\n",
            "Epoch 30/100\n",
            "22/25 [=========================>....] - ETA: 0s - loss: 1.7365 - accuracy: 0.3807\n",
            "Epoch 30: val_loss improved from 1.64489 to 1.63926, saving model to saved_models/audio_classification_17:21:49.hdf5\n",
            "25/25 [==============================] - 1s 25ms/step - loss: 1.7144 - accuracy: 0.3822 - val_loss: 1.6393 - val_accuracy: 0.4350\n",
            "Epoch 31/100\n",
            "22/25 [=========================>....] - ETA: 0s - loss: 1.7146 - accuracy: 0.3722\n",
            "Epoch 31: val_loss did not improve from 1.63926\n",
            "25/25 [==============================] - 1s 20ms/step - loss: 1.7336 - accuracy: 0.3647 - val_loss: 1.6431 - val_accuracy: 0.4400\n",
            "Epoch 32/100\n",
            "22/25 [=========================>....] - ETA: 0s - loss: 1.6896 - accuracy: 0.3722\n",
            "Epoch 32: val_loss improved from 1.63926 to 1.63271, saving model to saved_models/audio_classification_17:21:49.hdf5\n",
            "25/25 [==============================] - 1s 26ms/step - loss: 1.6851 - accuracy: 0.3684 - val_loss: 1.6327 - val_accuracy: 0.4100\n",
            "Epoch 33/100\n",
            "22/25 [=========================>....] - ETA: 0s - loss: 1.6455 - accuracy: 0.3764\n",
            "Epoch 33: val_loss improved from 1.63271 to 1.58642, saving model to saved_models/audio_classification_17:21:49.hdf5\n",
            "25/25 [==============================] - 1s 25ms/step - loss: 1.6583 - accuracy: 0.3697 - val_loss: 1.5864 - val_accuracy: 0.4300\n",
            "Epoch 34/100\n",
            "24/25 [===========================>..] - ETA: 0s - loss: 1.6386 - accuracy: 0.3828\n",
            "Epoch 34: val_loss did not improve from 1.58642\n",
            "25/25 [==============================] - 0s 20ms/step - loss: 1.6292 - accuracy: 0.3835 - val_loss: 1.6293 - val_accuracy: 0.3750\n",
            "Epoch 35/100\n",
            "25/25 [==============================] - ETA: 0s - loss: 1.6361 - accuracy: 0.3684\n",
            "Epoch 35: val_loss did not improve from 1.58642\n",
            "25/25 [==============================] - 1s 21ms/step - loss: 1.6361 - accuracy: 0.3684 - val_loss: 1.6331 - val_accuracy: 0.4350\n",
            "Epoch 36/100\n",
            "23/25 [==========================>...] - ETA: 0s - loss: 1.6162 - accuracy: 0.4226\n",
            "Epoch 36: val_loss did not improve from 1.58642\n",
            "25/25 [==============================] - 1s 21ms/step - loss: 1.6369 - accuracy: 0.4223 - val_loss: 1.5937 - val_accuracy: 0.4450\n",
            "Epoch 37/100\n",
            "25/25 [==============================] - ETA: 0s - loss: 1.6006 - accuracy: 0.3709\n",
            "Epoch 37: val_loss did not improve from 1.58642\n",
            "25/25 [==============================] - 1s 28ms/step - loss: 1.6006 - accuracy: 0.3709 - val_loss: 1.5985 - val_accuracy: 0.4450\n",
            "Epoch 38/100\n",
            "23/25 [==========================>...] - ETA: 0s - loss: 1.5835 - accuracy: 0.3899\n",
            "Epoch 38: val_loss did not improve from 1.58642\n",
            "25/25 [==============================] - 1s 27ms/step - loss: 1.5807 - accuracy: 0.3922 - val_loss: 1.5976 - val_accuracy: 0.3950\n",
            "Epoch 39/100\n",
            "25/25 [==============================] - ETA: 0s - loss: 1.5604 - accuracy: 0.4135\n",
            "Epoch 39: val_loss improved from 1.58642 to 1.57660, saving model to saved_models/audio_classification_17:21:49.hdf5\n",
            "25/25 [==============================] - 1s 32ms/step - loss: 1.5604 - accuracy: 0.4135 - val_loss: 1.5766 - val_accuracy: 0.4400\n",
            "Epoch 40/100\n",
            "24/25 [===========================>..] - ETA: 0s - loss: 1.5826 - accuracy: 0.4154\n",
            "Epoch 40: val_loss did not improve from 1.57660\n",
            "25/25 [==============================] - 1s 28ms/step - loss: 1.5796 - accuracy: 0.4211 - val_loss: 1.6544 - val_accuracy: 0.4050\n",
            "Epoch 41/100\n",
            "25/25 [==============================] - ETA: 0s - loss: 1.5664 - accuracy: 0.4035\n",
            "Epoch 41: val_loss did not improve from 1.57660\n",
            "25/25 [==============================] - 1s 30ms/step - loss: 1.5664 - accuracy: 0.4035 - val_loss: 1.6121 - val_accuracy: 0.4150\n",
            "Epoch 42/100\n",
            "23/25 [==========================>...] - ETA: 0s - loss: 1.5759 - accuracy: 0.3967\n",
            "Epoch 42: val_loss did not improve from 1.57660\n",
            "25/25 [==============================] - 1s 28ms/step - loss: 1.5537 - accuracy: 0.4035 - val_loss: 1.6489 - val_accuracy: 0.4100\n",
            "Epoch 43/100\n",
            "25/25 [==============================] - ETA: 0s - loss: 1.5751 - accuracy: 0.3985\n",
            "Epoch 43: val_loss improved from 1.57660 to 1.55171, saving model to saved_models/audio_classification_17:21:49.hdf5\n",
            "25/25 [==============================] - 1s 33ms/step - loss: 1.5751 - accuracy: 0.3985 - val_loss: 1.5517 - val_accuracy: 0.4700\n",
            "Epoch 44/100\n",
            "24/25 [===========================>..] - ETA: 0s - loss: 1.4460 - accuracy: 0.4310\n",
            "Epoch 44: val_loss improved from 1.55171 to 1.53689, saving model to saved_models/audio_classification_17:21:49.hdf5\n",
            "25/25 [==============================] - 1s 34ms/step - loss: 1.4537 - accuracy: 0.4286 - val_loss: 1.5369 - val_accuracy: 0.4750\n",
            "Epoch 45/100\n",
            "24/25 [===========================>..] - ETA: 0s - loss: 1.4849 - accuracy: 0.4336\n",
            "Epoch 45: val_loss improved from 1.53689 to 1.51589, saving model to saved_models/audio_classification_17:21:49.hdf5\n",
            "25/25 [==============================] - 1s 29ms/step - loss: 1.4872 - accuracy: 0.4298 - val_loss: 1.5159 - val_accuracy: 0.4750\n",
            "Epoch 46/100\n",
            "24/25 [===========================>..] - ETA: 0s - loss: 1.4804 - accuracy: 0.4388\n",
            "Epoch 46: val_loss did not improve from 1.51589\n",
            "25/25 [==============================] - 1s 21ms/step - loss: 1.4680 - accuracy: 0.4474 - val_loss: 1.5677 - val_accuracy: 0.4350\n",
            "Epoch 47/100\n",
            "25/25 [==============================] - ETA: 0s - loss: 1.3904 - accuracy: 0.4837\n",
            "Epoch 47: val_loss did not improve from 1.51589\n",
            "25/25 [==============================] - 1s 22ms/step - loss: 1.3904 - accuracy: 0.4837 - val_loss: 1.5909 - val_accuracy: 0.4350\n",
            "Epoch 48/100\n",
            "23/25 [==========================>...] - ETA: 0s - loss: 1.4015 - accuracy: 0.4579\n",
            "Epoch 48: val_loss did not improve from 1.51589\n",
            "25/25 [==============================] - 1s 20ms/step - loss: 1.4059 - accuracy: 0.4561 - val_loss: 1.5698 - val_accuracy: 0.4450\n",
            "Epoch 49/100\n",
            "25/25 [==============================] - ETA: 0s - loss: 1.4081 - accuracy: 0.4762\n",
            "Epoch 49: val_loss improved from 1.51589 to 1.50029, saving model to saved_models/audio_classification_17:21:49.hdf5\n",
            "25/25 [==============================] - 1s 27ms/step - loss: 1.4081 - accuracy: 0.4762 - val_loss: 1.5003 - val_accuracy: 0.4600\n",
            "Epoch 50/100\n",
            "25/25 [==============================] - ETA: 0s - loss: 1.4034 - accuracy: 0.4812\n",
            "Epoch 50: val_loss did not improve from 1.50029\n",
            "25/25 [==============================] - 0s 20ms/step - loss: 1.4034 - accuracy: 0.4812 - val_loss: 1.5673 - val_accuracy: 0.4700\n",
            "Epoch 51/100\n",
            "23/25 [==========================>...] - ETA: 0s - loss: 1.3910 - accuracy: 0.4688\n",
            "Epoch 51: val_loss did not improve from 1.50029\n",
            "25/25 [==============================] - 1s 20ms/step - loss: 1.3827 - accuracy: 0.4712 - val_loss: 1.6213 - val_accuracy: 0.4450\n",
            "Epoch 52/100\n",
            "22/25 [=========================>....] - ETA: 0s - loss: 1.4075 - accuracy: 0.4659\n",
            "Epoch 52: val_loss did not improve from 1.50029\n",
            "25/25 [==============================] - 1s 21ms/step - loss: 1.4405 - accuracy: 0.4536 - val_loss: 1.5462 - val_accuracy: 0.4800\n",
            "Epoch 53/100\n",
            "23/25 [==========================>...] - ETA: 0s - loss: 1.3742 - accuracy: 0.4864\n",
            "Epoch 53: val_loss did not improve from 1.50029\n",
            "25/25 [==============================] - 1s 21ms/step - loss: 1.3895 - accuracy: 0.4749 - val_loss: 1.5784 - val_accuracy: 0.4950\n",
            "Epoch 54/100\n",
            "24/25 [===========================>..] - ETA: 0s - loss: 1.4073 - accuracy: 0.4583\n",
            "Epoch 54: val_loss did not improve from 1.50029\n",
            "25/25 [==============================] - 1s 21ms/step - loss: 1.4191 - accuracy: 0.4536 - val_loss: 1.6014 - val_accuracy: 0.4700\n",
            "Epoch 55/100\n",
            "22/25 [=========================>....] - ETA: 0s - loss: 1.3528 - accuracy: 0.5000\n",
            "Epoch 55: val_loss did not improve from 1.50029\n",
            "25/25 [==============================] - 1s 21ms/step - loss: 1.3623 - accuracy: 0.4875 - val_loss: 1.5648 - val_accuracy: 0.4550\n",
            "Epoch 56/100\n",
            "22/25 [=========================>....] - ETA: 0s - loss: 1.3615 - accuracy: 0.4915\n",
            "Epoch 56: val_loss did not improve from 1.50029\n",
            "25/25 [==============================] - 0s 19ms/step - loss: 1.3713 - accuracy: 0.4912 - val_loss: 1.6205 - val_accuracy: 0.4550\n",
            "Epoch 57/100\n",
            "24/25 [===========================>..] - ETA: 0s - loss: 1.3501 - accuracy: 0.5195\n",
            "Epoch 57: val_loss improved from 1.50029 to 1.49288, saving model to saved_models/audio_classification_17:21:49.hdf5\n",
            "25/25 [==============================] - 1s 25ms/step - loss: 1.3563 - accuracy: 0.5163 - val_loss: 1.4929 - val_accuracy: 0.5000\n",
            "Epoch 58/100\n",
            "23/25 [==========================>...] - ETA: 0s - loss: 1.3429 - accuracy: 0.4864\n",
            "Epoch 58: val_loss did not improve from 1.49288\n",
            "25/25 [==============================] - 1s 21ms/step - loss: 1.3339 - accuracy: 0.4925 - val_loss: 1.5995 - val_accuracy: 0.4550\n",
            "Epoch 59/100\n",
            "24/25 [===========================>..] - ETA: 0s - loss: 1.3277 - accuracy: 0.4883\n",
            "Epoch 59: val_loss did not improve from 1.49288\n",
            "25/25 [==============================] - 1s 21ms/step - loss: 1.3286 - accuracy: 0.4887 - val_loss: 1.5735 - val_accuracy: 0.4750\n",
            "Epoch 60/100\n",
            "24/25 [===========================>..] - ETA: 0s - loss: 1.2755 - accuracy: 0.5221\n",
            "Epoch 60: val_loss did not improve from 1.49288\n",
            "25/25 [==============================] - 0s 19ms/step - loss: 1.2701 - accuracy: 0.5213 - val_loss: 1.5211 - val_accuracy: 0.5350\n",
            "Epoch 61/100\n",
            "23/25 [==========================>...] - ETA: 0s - loss: 1.2883 - accuracy: 0.5285\n",
            "Epoch 61: val_loss did not improve from 1.49288\n",
            "25/25 [==============================] - 1s 21ms/step - loss: 1.2912 - accuracy: 0.5288 - val_loss: 1.6629 - val_accuracy: 0.4700\n",
            "Epoch 62/100\n",
            "25/25 [==============================] - ETA: 0s - loss: 1.2276 - accuracy: 0.5338\n",
            "Epoch 62: val_loss did not improve from 1.49288\n",
            "25/25 [==============================] - 1s 21ms/step - loss: 1.2276 - accuracy: 0.5338 - val_loss: 1.5596 - val_accuracy: 0.5200\n",
            "Epoch 63/100\n",
            "23/25 [==========================>...] - ETA: 0s - loss: 1.3038 - accuracy: 0.5408\n",
            "Epoch 63: val_loss did not improve from 1.49288\n",
            "25/25 [==============================] - 1s 22ms/step - loss: 1.2921 - accuracy: 0.5426 - val_loss: 1.6251 - val_accuracy: 0.5200\n",
            "Epoch 64/100\n",
            "24/25 [===========================>..] - ETA: 0s - loss: 1.2769 - accuracy: 0.5495\n",
            "Epoch 64: val_loss did not improve from 1.49288\n",
            "25/25 [==============================] - 1s 27ms/step - loss: 1.2772 - accuracy: 0.5514 - val_loss: 1.6190 - val_accuracy: 0.4900\n",
            "Epoch 65/100\n",
            "23/25 [==========================>...] - ETA: 0s - loss: 1.3034 - accuracy: 0.5163\n",
            "Epoch 65: val_loss did not improve from 1.49288\n",
            "25/25 [==============================] - 1s 29ms/step - loss: 1.2948 - accuracy: 0.5163 - val_loss: 1.5619 - val_accuracy: 0.5000\n",
            "Epoch 66/100\n",
            "25/25 [==============================] - ETA: 0s - loss: 1.2162 - accuracy: 0.5464\n",
            "Epoch 66: val_loss did not improve from 1.49288\n",
            "25/25 [==============================] - 1s 28ms/step - loss: 1.2162 - accuracy: 0.5464 - val_loss: 1.5927 - val_accuracy: 0.5050\n",
            "Epoch 67/100\n",
            "23/25 [==========================>...] - ETA: 0s - loss: 1.1739 - accuracy: 0.5611\n",
            "Epoch 67: val_loss did not improve from 1.49288\n",
            "25/25 [==============================] - 1s 28ms/step - loss: 1.1598 - accuracy: 0.5652 - val_loss: 1.6221 - val_accuracy: 0.5350\n",
            "Epoch 68/100\n",
            "24/25 [===========================>..] - ETA: 0s - loss: 1.1380 - accuracy: 0.6016\n",
            "Epoch 68: val_loss did not improve from 1.49288\n",
            "25/25 [==============================] - 1s 29ms/step - loss: 1.1499 - accuracy: 0.6015 - val_loss: 1.6168 - val_accuracy: 0.5000\n",
            "Epoch 69/100\n",
            "23/25 [==========================>...] - ETA: 0s - loss: 1.1501 - accuracy: 0.5842\n",
            "Epoch 69: val_loss did not improve from 1.49288\n",
            "25/25 [==============================] - 1s 28ms/step - loss: 1.1558 - accuracy: 0.5840 - val_loss: 1.5704 - val_accuracy: 0.5550\n",
            "Epoch 70/100\n",
            "25/25 [==============================] - ETA: 0s - loss: 1.1495 - accuracy: 0.5965\n",
            "Epoch 70: val_loss did not improve from 1.49288\n",
            "25/25 [==============================] - 1s 30ms/step - loss: 1.1495 - accuracy: 0.5965 - val_loss: 1.6301 - val_accuracy: 0.5350\n",
            "Epoch 71/100\n",
            "24/25 [===========================>..] - ETA: 0s - loss: 1.1458 - accuracy: 0.5951\n",
            "Epoch 71: val_loss did not improve from 1.49288\n",
            "25/25 [==============================] - 1s 28ms/step - loss: 1.1474 - accuracy: 0.5952 - val_loss: 1.7168 - val_accuracy: 0.5200\n",
            "Epoch 72/100\n",
            "24/25 [===========================>..] - ETA: 0s - loss: 1.1444 - accuracy: 0.5924\n",
            "Epoch 72: val_loss did not improve from 1.49288\n",
            "25/25 [==============================] - 1s 32ms/step - loss: 1.1500 - accuracy: 0.5877 - val_loss: 1.6083 - val_accuracy: 0.5150\n",
            "Epoch 73/100\n",
            "23/25 [==========================>...] - ETA: 0s - loss: 1.1177 - accuracy: 0.5965\n",
            "Epoch 73: val_loss did not improve from 1.49288\n",
            "25/25 [==============================] - 0s 19ms/step - loss: 1.1125 - accuracy: 0.5952 - val_loss: 1.6142 - val_accuracy: 0.5300\n",
            "Epoch 74/100\n",
            "25/25 [==============================] - ETA: 0s - loss: 1.1144 - accuracy: 0.6090\n",
            "Epoch 74: val_loss did not improve from 1.49288\n",
            "25/25 [==============================] - 1s 20ms/step - loss: 1.1144 - accuracy: 0.6090 - val_loss: 1.7813 - val_accuracy: 0.5250\n",
            "Epoch 75/100\n",
            "22/25 [=========================>....] - ETA: 0s - loss: 1.0634 - accuracy: 0.6207\n",
            "Epoch 75: val_loss did not improve from 1.49288\n",
            "25/25 [==============================] - 1s 21ms/step - loss: 1.0610 - accuracy: 0.6140 - val_loss: 1.8122 - val_accuracy: 0.5350\n",
            "Epoch 76/100\n",
            "22/25 [=========================>....] - ETA: 0s - loss: 1.0770 - accuracy: 0.6207\n",
            "Epoch 76: val_loss did not improve from 1.49288\n",
            "25/25 [==============================] - 0s 19ms/step - loss: 1.0836 - accuracy: 0.6140 - val_loss: 1.7176 - val_accuracy: 0.5450\n",
            "Epoch 77/100\n",
            "23/25 [==========================>...] - ETA: 0s - loss: 1.1067 - accuracy: 0.6155\n",
            "Epoch 77: val_loss did not improve from 1.49288\n",
            "25/25 [==============================] - 1s 21ms/step - loss: 1.0983 - accuracy: 0.6153 - val_loss: 1.7265 - val_accuracy: 0.5350\n",
            "Epoch 78/100\n",
            "25/25 [==============================] - ETA: 0s - loss: 1.0354 - accuracy: 0.6353\n",
            "Epoch 78: val_loss did not improve from 1.49288\n",
            "25/25 [==============================] - 1s 21ms/step - loss: 1.0354 - accuracy: 0.6353 - val_loss: 1.6998 - val_accuracy: 0.5600\n",
            "Epoch 79/100\n",
            "23/25 [==========================>...] - ETA: 0s - loss: 1.0189 - accuracy: 0.6454\n",
            "Epoch 79: val_loss did not improve from 1.49288\n",
            "25/25 [==============================] - 1s 20ms/step - loss: 1.0114 - accuracy: 0.6479 - val_loss: 2.1202 - val_accuracy: 0.5000\n",
            "Epoch 80/100\n",
            "23/25 [==========================>...] - ETA: 0s - loss: 1.0653 - accuracy: 0.6318\n",
            "Epoch 80: val_loss did not improve from 1.49288\n",
            "25/25 [==============================] - 1s 20ms/step - loss: 1.0666 - accuracy: 0.6341 - val_loss: 2.0714 - val_accuracy: 0.5150\n",
            "Epoch 81/100\n",
            "24/25 [===========================>..] - ETA: 0s - loss: 1.0898 - accuracy: 0.6159\n",
            "Epoch 81: val_loss did not improve from 1.49288\n",
            "25/25 [==============================] - 1s 21ms/step - loss: 1.0839 - accuracy: 0.6190 - val_loss: 1.9061 - val_accuracy: 0.5350\n",
            "Epoch 82/100\n",
            "25/25 [==============================] - ETA: 0s - loss: 1.0839 - accuracy: 0.6366\n",
            "Epoch 82: val_loss did not improve from 1.49288\n",
            "25/25 [==============================] - 1s 22ms/step - loss: 1.0839 - accuracy: 0.6366 - val_loss: 1.8519 - val_accuracy: 0.5150\n",
            "Epoch 83/100\n",
            "22/25 [=========================>....] - ETA: 0s - loss: 0.9322 - accuracy: 0.6747\n",
            "Epoch 83: val_loss did not improve from 1.49288\n",
            "25/25 [==============================] - 0s 19ms/step - loss: 0.9251 - accuracy: 0.6704 - val_loss: 2.1368 - val_accuracy: 0.5350\n",
            "Epoch 84/100\n",
            "24/25 [===========================>..] - ETA: 0s - loss: 0.9835 - accuracy: 0.6771\n",
            "Epoch 84: val_loss did not improve from 1.49288\n",
            "25/25 [==============================] - 0s 19ms/step - loss: 0.9793 - accuracy: 0.6805 - val_loss: 1.9690 - val_accuracy: 0.5350\n",
            "Epoch 85/100\n",
            "23/25 [==========================>...] - ETA: 0s - loss: 1.0163 - accuracy: 0.6766\n",
            "Epoch 85: val_loss did not improve from 1.49288\n",
            "25/25 [==============================] - 0s 19ms/step - loss: 1.0083 - accuracy: 0.6754 - val_loss: 1.8425 - val_accuracy: 0.5400\n",
            "Epoch 86/100\n",
            "25/25 [==============================] - ETA: 0s - loss: 0.9202 - accuracy: 0.6942\n",
            "Epoch 86: val_loss did not improve from 1.49288\n",
            "25/25 [==============================] - 0s 20ms/step - loss: 0.9202 - accuracy: 0.6942 - val_loss: 1.9648 - val_accuracy: 0.5100\n",
            "Epoch 87/100\n",
            "24/25 [===========================>..] - ETA: 0s - loss: 0.9609 - accuracy: 0.6797\n",
            "Epoch 87: val_loss did not improve from 1.49288\n",
            "25/25 [==============================] - 1s 21ms/step - loss: 0.9672 - accuracy: 0.6792 - val_loss: 2.0231 - val_accuracy: 0.5600\n",
            "Epoch 88/100\n",
            "23/25 [==========================>...] - ETA: 0s - loss: 0.9821 - accuracy: 0.6671\n",
            "Epoch 88: val_loss did not improve from 1.49288\n",
            "25/25 [==============================] - 1s 22ms/step - loss: 0.9809 - accuracy: 0.6642 - val_loss: 1.9010 - val_accuracy: 0.5450\n",
            "Epoch 89/100\n",
            "23/25 [==========================>...] - ETA: 0s - loss: 0.9648 - accuracy: 0.6481\n",
            "Epoch 89: val_loss did not improve from 1.49288\n",
            "25/25 [==============================] - 1s 21ms/step - loss: 0.9579 - accuracy: 0.6504 - val_loss: 2.1668 - val_accuracy: 0.5300\n",
            "Epoch 90/100\n",
            "22/25 [=========================>....] - ETA: 0s - loss: 1.0090 - accuracy: 0.6676\n",
            "Epoch 90: val_loss did not improve from 1.49288\n",
            "25/25 [==============================] - 1s 22ms/step - loss: 1.0263 - accuracy: 0.6579 - val_loss: 1.8477 - val_accuracy: 0.5450\n",
            "Epoch 91/100\n",
            "25/25 [==============================] - ETA: 0s - loss: 0.8907 - accuracy: 0.7130\n",
            "Epoch 91: val_loss did not improve from 1.49288\n",
            "25/25 [==============================] - 0s 19ms/step - loss: 0.8907 - accuracy: 0.7130 - val_loss: 1.9704 - val_accuracy: 0.5350\n",
            "Epoch 92/100\n",
            "23/25 [==========================>...] - ETA: 0s - loss: 0.8090 - accuracy: 0.7188\n",
            "Epoch 92: val_loss did not improve from 1.49288\n",
            "25/25 [==============================] - 1s 27ms/step - loss: 0.8125 - accuracy: 0.7206 - val_loss: 2.1021 - val_accuracy: 0.5900\n",
            "Epoch 93/100\n",
            "25/25 [==============================] - ETA: 0s - loss: 0.8083 - accuracy: 0.7093\n",
            "Epoch 93: val_loss did not improve from 1.49288\n",
            "25/25 [==============================] - 1s 29ms/step - loss: 0.8083 - accuracy: 0.7093 - val_loss: 2.1870 - val_accuracy: 0.5500\n",
            "Epoch 94/100\n",
            "25/25 [==============================] - ETA: 0s - loss: 0.8495 - accuracy: 0.7206\n",
            "Epoch 94: val_loss did not improve from 1.49288\n",
            "25/25 [==============================] - 1s 27ms/step - loss: 0.8495 - accuracy: 0.7206 - val_loss: 2.0583 - val_accuracy: 0.5650\n",
            "Epoch 95/100\n",
            "25/25 [==============================] - ETA: 0s - loss: 0.8318 - accuracy: 0.7306\n",
            "Epoch 95: val_loss did not improve from 1.49288\n",
            "25/25 [==============================] - 1s 29ms/step - loss: 0.8318 - accuracy: 0.7306 - val_loss: 2.2383 - val_accuracy: 0.5450\n",
            "Epoch 96/100\n",
            "23/25 [==========================>...] - ETA: 0s - loss: 0.7670 - accuracy: 0.7554\n",
            "Epoch 96: val_loss did not improve from 1.49288\n",
            "25/25 [==============================] - 1s 28ms/step - loss: 0.7896 - accuracy: 0.7469 - val_loss: 2.0705 - val_accuracy: 0.5600\n",
            "Epoch 97/100\n",
            "25/25 [==============================] - ETA: 0s - loss: 0.8943 - accuracy: 0.7180\n",
            "Epoch 97: val_loss did not improve from 1.49288\n",
            "25/25 [==============================] - 1s 29ms/step - loss: 0.8943 - accuracy: 0.7180 - val_loss: 1.9643 - val_accuracy: 0.5750\n",
            "Epoch 98/100\n",
            "24/25 [===========================>..] - ETA: 0s - loss: 0.8162 - accuracy: 0.7461\n",
            "Epoch 98: val_loss did not improve from 1.49288\n",
            "25/25 [==============================] - 1s 29ms/step - loss: 0.8062 - accuracy: 0.7494 - val_loss: 2.1732 - val_accuracy: 0.5750\n",
            "Epoch 99/100\n",
            "23/25 [==========================>...] - ETA: 0s - loss: 0.8489 - accuracy: 0.7147\n",
            "Epoch 99: val_loss did not improve from 1.49288\n",
            "25/25 [==============================] - 1s 29ms/step - loss: 0.8365 - accuracy: 0.7206 - val_loss: 2.3681 - val_accuracy: 0.5100\n",
            "Epoch 100/100\n",
            "24/25 [===========================>..] - ETA: 0s - loss: 0.7928 - accuracy: 0.7526\n",
            "Epoch 100: val_loss did not improve from 1.49288\n",
            "25/25 [==============================] - 1s 30ms/step - loss: 0.7835 - accuracy: 0.7569 - val_loss: 2.0430 - val_accuracy: 0.5600\n",
            "Training completed in time:  0:01:29.116172\n"
          ]
        }
      ]
    },
    {
      "cell_type": "code",
      "source": [
        "model.evaluate(x_test,y_test, verbose=0)"
      ],
      "metadata": {
        "colab": {
          "base_uri": "https://localhost:8080/"
        },
        "id": "gReyEwZdmiY3",
        "outputId": "2886fcdf-c3fc-4fee-9178-3ed66cd1f984"
      },
      "execution_count": null,
      "outputs": [
        {
          "output_type": "execute_result",
          "data": {
            "text/plain": [
              "[2.0429840087890625, 0.5600000023841858]"
            ]
          },
          "metadata": {},
          "execution_count": 59
        }
      ]
    },
    {
      "cell_type": "code",
      "source": [
        "pd.DataFrame(history.history).plot(figsize=(12,6))\n",
        "\n",
        "plt.show()"
      ],
      "metadata": {
        "colab": {
          "base_uri": "https://localhost:8080/",
          "height": 467
        },
        "id": "MRGSrM-umsoe",
        "outputId": "2cf253ba-139c-4883-89f6-8fa49515e104"
      },
      "execution_count": null,
      "outputs": [
        {
          "output_type": "display_data",
          "data": {
            "text/plain": [
              "<Figure size 1200x600 with 1 Axes>"
            ],
            "image/png": "[encoded data removed]"
          },
          "metadata": {}
        }
      ]
    },
    {
      "cell_type": "code",
      "source": [
        "model.predict_classes(x_test)"
      ],
      "metadata": {
        "colab": {
          "base_uri": "https://localhost:8080/",
          "height": 176
        },
        "id": "itS5hY7umzfp",
        "outputId": "70bd9a5b-1c23-4d48-ccb9-182a905c95b2"
      },
      "execution_count": null,
      "outputs": [
        {
          "output_type": "error",
          "ename": "AttributeError",
          "evalue": "'Sequential' object has no attribute 'predict_classes'",
          "traceback": [
            "\u001b[0;31m---------------------------------------------------------------------------\u001b[0m",
            "\u001b[0;31mAttributeError\u001b[0m                            Traceback (most recent call last)",
            "\u001b[0;32m<ipython-input-61-2d137c63af36>\u001b[0m in \u001b[0;36m<cell line: 1>\u001b[0;34m()\u001b[0m\n\u001b[0;32m----> 1\u001b[0;31m \u001b[0mmodel\u001b[0m\u001b[0;34m.\u001b[0m\u001b[0mpredict_classes\u001b[0m\u001b[0;34m(\u001b[0m\u001b[0mx_test\u001b[0m\u001b[0;34m)\u001b[0m\u001b[0;34m\u001b[0m\u001b[0;34m\u001b[0m\u001b[0m\n\u001b[0m",
            "\u001b[0;31mAttributeError\u001b[0m: 'Sequential' object has no attribute 'predict_classes'"
          ]
        }
      ]
    },
    {
      "cell_type": "code",
      "source": [
        "predictions = model.predict(x_test)\n",
        "predicted_classes = np.argmax(predictions, axis=1)"
      ],
      "metadata": {
        "colab": {
          "base_uri": "https://localhost:8080/"
        },
        "id": "vzr8e7f4nq4x",
        "outputId": "715bc64e-7969-4d65-f095-340fe9c51e66"
      },
      "execution_count": null,
      "outputs": [
        {
          "output_type": "stream",
          "name": "stdout",
          "text": [
            "7/7 [==============================] - 0s 7ms/step\n"
          ]
        }
      ]
    },
    {
      "cell_type": "code",
      "source": [
        "model.predict(x_test).argmax(axis=1)"
      ],
      "metadata": {
        "colab": {
          "base_uri": "https://localhost:8080/"
        },
        "id": "KO_CcM1hn0U6",
        "outputId": "4ec88a0a-db3e-418e-fb7a-1ad6559a74a8"
      },
      "execution_count": null,
      "outputs": [
        {
          "output_type": "stream",
          "name": "stdout",
          "text": [
            "7/7 [==============================] - 0s 5ms/step\n"
          ]
        },
        {
          "output_type": "execute_result",
          "data": {
            "text/plain": [
              "array([9, 7, 0, 3, 6, 7, 5, 2, 5, 2, 6, 4, 1, 5, 5, 7, 3, 5, 9, 0, 0, 5,\n",
              "       8, 0, 1, 7, 5, 5, 9, 6, 7, 3, 0, 0, 6, 6, 7, 5, 2, 7, 6, 9, 3, 3,\n",
              "       0, 8, 2, 3, 5, 6, 5, 5, 6, 5, 0, 2, 3, 2, 3, 6, 3, 8, 9, 9, 7, 2,\n",
              "       1, 3, 9, 1, 6, 3, 2, 9, 4, 0, 5, 4, 6, 0, 5, 6, 8, 7, 2, 5, 8, 8,\n",
              "       8, 2, 4, 0, 3, 4, 6, 7, 7, 5, 2, 2, 5, 2, 4, 2, 1, 4, 7, 8, 1, 9,\n",
              "       0, 4, 9, 3, 6, 2, 4, 6, 3, 5, 4, 8, 2, 2, 2, 7, 1, 2, 5, 7, 0, 9,\n",
              "       5, 4, 1, 5, 5, 4, 9, 2, 9, 3, 0, 0, 3, 0, 2, 3, 4, 8, 9, 3, 3, 2,\n",
              "       8, 9, 4, 7, 4, 8, 9, 2, 6, 4, 7, 1, 7, 9, 7, 5, 8, 6, 1, 7, 7, 1,\n",
              "       3, 7, 2, 3, 2, 3, 9, 9, 3, 2, 5, 6, 9, 7, 9, 6, 1, 2, 2, 9, 6, 2,\n",
              "       2, 1])"
            ]
          },
          "metadata": {},
          "execution_count": 63
        }
      ]
    },
    {
      "cell_type": "code",
      "source": [
        "filename=\"/content/drive/MyDrive/Colab Notebooks/Data/genres_original/classical/classical.00000.wav\"\n",
        "audio, sample_rate=librosa.load(filename, res_type='kaiser_fast')\n",
        "\n",
        "mfccs_features=librosa.feature.mfcc(y=audio, sr=sample_rate, n_mfcc=40)\n",
        "\n",
        "mfccs_scaled_features=np.mean(mfccs_features.T, axis=0)\n",
        "\n",
        "print(mfccs_scaled_features)\n",
        "\n",
        "mfccs_scaled_features=mfccs_scaled_features.reshape(1,-1)\n",
        "print(mfccs_scaled_features)\n",
        "\n",
        "print(mfccs_scaled_features.shape)\n",
        "\n",
        "#predicted_label=model.predict_classes(mfccs_scaled_features)\n",
        "\n",
        "predicted_probabilities = model.predict(mfccs_scaled_features)\n",
        "predicted_label = np.argmax(predicted_probabilities, axis=1)\n",
        "\n",
        "print(predicted_label)\n",
        "\n",
        "prediction_class=labelencoder.inverse_transform(predicted_label)\n",
        "\n",
        "prediction_class"
      ],
      "metadata": {
        "colab": {
          "base_uri": "https://localhost:8080/"
        },
        "id": "vU1Yp2_joF1v",
        "outputId": "4fc0e386-c291-44b0-fbc1-e495ac12557f"
      },
      "execution_count": null,
      "outputs": [
        {
          "output_type": "stream",
          "name": "stdout",
          "text": [
            "[-2.6821857e+02  1.3568166e+02 -3.4056377e+01  2.5616007e+01\n",
            " -1.2971723e+01  1.7903263e+01 -9.9908600e+00  5.6340880e+00\n",
            " -1.4143673e+01  7.4931846e+00 -3.9764395e+00  8.2583084e+00\n",
            " -1.3336012e+00 -3.5799515e-01  1.0361007e+00  3.7968221e+00\n",
            " -3.1847084e-01  1.7730546e+00  8.8872135e-01 -8.3507782e-01\n",
            " -2.3076391e+00  1.6423593e-01  4.2131858e+00  6.9724417e-01\n",
            " -1.0828630e+00 -3.4678130e+00  3.2551622e+00 -4.1300349e+00\n",
            " -1.1310977e+00  2.3876605e+00  3.7769880e+00 -3.8947051e+00\n",
            " -3.3239865e+00 -1.2544751e+00  4.1171594e+00  5.9669638e-01\n",
            " -1.8132236e+00 -1.0317802e+00 -1.4721324e+00 -3.8261578e+00]\n",
            "[[-2.6821857e+02  1.3568166e+02 -3.4056377e+01  2.5616007e+01\n",
            "  -1.2971723e+01  1.7903263e+01 -9.9908600e+00  5.6340880e+00\n",
            "  -1.4143673e+01  7.4931846e+00 -3.9764395e+00  8.2583084e+00\n",
            "  -1.3336012e+00 -3.5799515e-01  1.0361007e+00  3.7968221e+00\n",
            "  -3.1847084e-01  1.7730546e+00  8.8872135e-01 -8.3507782e-01\n",
            "  -2.3076391e+00  1.6423593e-01  4.2131858e+00  6.9724417e-01\n",
            "  -1.0828630e+00 -3.4678130e+00  3.2551622e+00 -4.1300349e+00\n",
            "  -1.1310977e+00  2.3876605e+00  3.7769880e+00 -3.8947051e+00\n",
            "  -3.3239865e+00 -1.2544751e+00  4.1171594e+00  5.9669638e-01\n",
            "  -1.8132236e+00 -1.0317802e+00 -1.4721324e+00 -3.8261578e+00]]\n",
            "(1, 40)\n",
            "1/1 [==============================] - 0s 33ms/step\n",
            "[1]\n"
          ]
        },
        {
          "output_type": "execute_result",
          "data": {
            "text/plain": [
              "array(['classical'], dtype='<U9')"
            ]
          },
          "metadata": {},
          "execution_count": 65
        }
      ]
    }
  ]
}